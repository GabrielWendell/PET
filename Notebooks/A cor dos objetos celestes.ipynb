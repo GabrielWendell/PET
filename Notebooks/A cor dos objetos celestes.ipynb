{
 "cells": [
  {
   "cell_type": "markdown",
   "metadata": {
    "slideshow": {
     "slide_type": "slide"
    }
   },
   "source": [
    "# A cor dos objetos celestes"
   ]
  },
  {
   "cell_type": "markdown",
   "metadata": {
    "slideshow": {
     "slide_type": "-"
    }
   },
   "source": [
    "* PET - Física UFRN\n",
    "* Petiano: Gabriel Wendell Celestino Rocha\n",
    "* Data: 27 de Janeiro de 2021"
   ]
  },
  {
   "cell_type": "markdown",
   "metadata": {
    "slideshow": {
     "slide_type": "slide"
    }
   },
   "source": [
    "O objetivo deste `Notebook` é analisar as cores dos objetos celestes. Inicialmente vamos abordar fundamentalmente a teoria por trás do tema e, em seguida, a realização de diagramas de cores com base em dados reais obtidos no catálogo BSC."
   ]
  },
  {
   "cell_type": "markdown",
   "metadata": {
    "slideshow": {
     "slide_type": "-"
    }
   },
   "source": [
    "Este `Notebook` será dividido em duas partes: parte teórica e parte prática. Na primeira parte iremos fazer uma breve introdução teórica acerca da cor dos objetos celestes. Já na segunda parte iremos implementar a teoria vista até o momento trabalhando com dados reais extraídos do catálogo BSC."
   ]
  },
  {
   "cell_type": "markdown",
   "metadata": {
    "slideshow": {
     "slide_type": "slide"
    }
   },
   "source": [
    "## Pré-requisitos"
   ]
  },
  {
   "cell_type": "markdown",
   "metadata": {
    "slideshow": {
     "slide_type": "-"
    }
   },
   "source": [
    "Recomenda-se ao leitor que seja conhecedor de como funciona a radiação de corpo negro (você pode consultar um `Notebook` sobre o assunto na referência [3]. Além disso, é recomendável que o leitor seja conhecedor dos fundamentos básicos da Astronomia e/ou da Astrofísica."
   ]
  },
  {
   "cell_type": "markdown",
   "metadata": {
    "slideshow": {
     "slide_type": "slide"
    }
   },
   "source": [
    "### Importando as bibliotecas"
   ]
  },
  {
   "cell_type": "code",
   "execution_count": 1,
   "metadata": {
    "slideshow": {
     "slide_type": "-"
    }
   },
   "outputs": [],
   "source": [
    "import matplotlib.pyplot as plt\n",
    "import quantities as pq             # somente na parte 1 \n",
    "import pandas as pd                 # somente na parte 2\n",
    "import numpy as np\n",
    "\n",
    "%matplotlib notebook"
   ]
  },
  {
   "cell_type": "markdown",
   "metadata": {
    "slideshow": {
     "slide_type": "subslide"
    }
   },
   "source": [
    "Com relação à biblioteca `quantities` que importamos acima, você pode encontrar mais informações sobre a mesma checando a documentação dela [aqui](https://pythonhosted.org/quantities/) e pode conferir um exemplo de aplicação dessa biblioteca em Astrofísica e Cosmologia consultando a referência [3]."
   ]
  },
  {
   "cell_type": "markdown",
   "metadata": {
    "slideshow": {
     "slide_type": "-"
    }
   },
   "source": [
    "Vamos usar também a magic extension `%version_information` do `IPython` para gerar um quadro com as informações sobre quais versões das bibliotecas que foram usadas para executar este `Notebook`."
   ]
  },
  {
   "cell_type": "markdown",
   "metadata": {
    "slideshow": {
     "slide_type": "subslide"
    }
   },
   "source": [
    "Você pode instalar a extensão `%version_information` usando o `pip` executando o seguinte comando no seu terminal :"
   ]
  },
  {
   "cell_type": "markdown",
   "metadata": {
    "slideshow": {
     "slide_type": "-"
    }
   },
   "source": [
    "`pip install version_information`"
   ]
  },
  {
   "cell_type": "code",
   "execution_count": 2,
   "metadata": {
    "slideshow": {
     "slide_type": "subslide"
    }
   },
   "outputs": [
    {
     "data": {
      "application/json": {
       "Software versions": [
        {
         "module": "Python",
         "version": "3.7.5 64bit [MSC v.1916 64 bit (AMD64)]"
        },
        {
         "module": "IPython",
         "version": "7.10.0"
        },
        {
         "module": "OS",
         "version": "Windows 10 10.0.19041 SP0"
        },
        {
         "module": "Matplotlib",
         "version": "3.1.2"
        },
        {
         "module": "Quantities",
         "version": "0.12.4"
        },
        {
         "module": "Pandas",
         "version": "0.25.3"
        },
        {
         "module": "Numpy",
         "version": "1.17.4"
        }
       ]
      },
      "text/html": [
       "<table><tr><th>Software</th><th>Version</th></tr><tr><td>Python</td><td>3.7.5 64bit [MSC v.1916 64 bit (AMD64)]</td></tr><tr><td>IPython</td><td>7.10.0</td></tr><tr><td>OS</td><td>Windows 10 10.0.19041 SP0</td></tr><tr><td>Matplotlib</td><td>3.1.2</td></tr><tr><td>Quantities</td><td>0.12.4</td></tr><tr><td>Pandas</td><td>0.25.3</td></tr><tr><td>Numpy</td><td>1.17.4</td></tr><tr><td colspan='2'>Wed Jan 20 15:44:15 2021 Hora Padrão de Buenos Aires</td></tr></table>"
      ],
      "text/latex": [
       "\\begin{tabular}{|l|l|}\\hline\n",
       "{\\bf Software} & {\\bf Version} \\\\ \\hline\\hline\n",
       "Python & 3.7.5 64bit [MSC v.1916 64 bit (AMD64)] \\\\ \\hline\n",
       "IPython & 7.10.0 \\\\ \\hline\n",
       "OS & Windows 10 10.0.19041 SP0 \\\\ \\hline\n",
       "Matplotlib & 3.1.2 \\\\ \\hline\n",
       "Quantities & 0.12.4 \\\\ \\hline\n",
       "Pandas & 0.25.3 \\\\ \\hline\n",
       "Numpy & 1.17.4 \\\\ \\hline\n",
       "\\hline \\multicolumn{2}{|l|}{Wed Jan 20 15:44:15 2021 Hora Padrão de Buenos Aires} \\\\ \\hline\n",
       "\\end{tabular}\n"
      ],
      "text/plain": [
       "Software versions\n",
       "Python 3.7.5 64bit [MSC v.1916 64 bit (AMD64)]\n",
       "IPython 7.10.0\n",
       "OS Windows 10 10.0.19041 SP0\n",
       "Matplotlib 3.1.2\n",
       "Quantities 0.12.4\n",
       "Pandas 0.25.3\n",
       "Numpy 1.17.4\n",
       "Wed Jan 20 15:44:15 2021 Hora Padrão de Buenos Aires"
      ]
     },
     "execution_count": 2,
     "metadata": {},
     "output_type": "execute_result"
    }
   ],
   "source": [
    "%load_ext version_information\n",
    "%version_information Matplotlib, Quantities, Pandas, Numpy"
   ]
  },
  {
   "cell_type": "markdown",
   "metadata": {
    "slideshow": {
     "slide_type": "-"
    }
   },
   "source": [
    "Dada essa explicação, vamos à parte teórica deste `Notebook`."
   ]
  },
  {
   "cell_type": "markdown",
   "metadata": {
    "slideshow": {
     "slide_type": "slide"
    }
   },
   "source": [
    "## 1. Introdução teórica"
   ]
  },
  {
   "cell_type": "markdown",
   "metadata": {
    "slideshow": {
     "slide_type": "-"
    }
   },
   "source": [
    "### Magnitudes aparentes"
   ]
  },
  {
   "cell_type": "markdown",
   "metadata": {
    "slideshow": {
     "slide_type": "-"
    }
   },
   "source": [
    "Um objeto celeste de magnitude aparente 1 é, por definição, 100 vezes mais brilhante do que um objeto de magnitude 6."
   ]
  },
  {
   "cell_type": "markdown",
   "metadata": {
    "slideshow": {
     "slide_type": "subslide"
    }
   },
   "source": [
    "Portanto, atribuindo provisoriamente ao objeto de magnitude 6 um brilho unitário aparente, e chamando de $k$ a razão entre uma magnitude aparente de valor $m$ e uma magnitude de valor $m+1$, podemos raciocinar como indicado na tabela abaixo:"
   ]
  },
  {
   "cell_type": "markdown",
   "metadata": {
    "slideshow": {
     "slide_type": "-"
    }
   },
   "source": [
    "| Magnitude | 1 | 2 | 3 | 4 | 5 | 6 |\n",
    "| --------- | - | - | - | - | - | - |\n",
    "| **Brilho aparente** | $k^{5}$ | $k^{4}$ | $k^{3}$ | $k^{2}$ | $k$ | 1 |"
   ]
  },
  {
   "cell_type": "markdown",
   "metadata": {
    "slideshow": {
     "slide_type": "subslide"
    }
   },
   "source": [
    "Portanto, sendo $k^{5}=100$, o valor de $k$ será:"
   ]
  },
  {
   "cell_type": "markdown",
   "metadata": {
    "slideshow": {
     "slide_type": "-"
    }
   },
   "source": [
    "$$k=\\sqrt[5]{100}=100^{\\frac{1}{5}}$$"
   ]
  },
  {
   "cell_type": "code",
   "execution_count": 3,
   "metadata": {
    "slideshow": {
     "slide_type": "-"
    }
   },
   "outputs": [
    {
     "name": "stdout",
     "output_type": "stream",
     "text": [
      "2.51188643150958\n"
     ]
    }
   ],
   "source": [
    "k = 100**(1./5)\n",
    "print(k)"
   ]
  },
  {
   "cell_type": "markdown",
   "metadata": {
    "slideshow": {
     "slide_type": "subslide"
    }
   },
   "source": [
    "Na realidade, a magnitude que define rigorosamente o brilho de uma estrela percebida por um observador é o **fluxo radiante**, definido como a quantidade de energia em uma determinada banda de comprimento de onda, que é recebida em uma unidade de área orientada perpendicular ao caminho da luz por unidade de tempo. É medido em Watts por metro quadrado ($W\\cdot m^{-2}$)."
   ]
  },
  {
   "cell_type": "markdown",
   "metadata": {
    "slideshow": {
     "slide_type": "subslide"
    }
   },
   "source": [
    "Seja $F$ o fluxo radiante recebido de uma estrela, e seja $F_{Vega}$ o fluxo radiante da estrela Vega, que é tomado como referência de magnitude 0 em todos os comprimentos de onda, teremos:"
   ]
  },
  {
   "cell_type": "markdown",
   "metadata": {
    "slideshow": {
     "slide_type": "-"
    }
   },
   "source": [
    "| **Magnitude** | 0 | 1 | 2 | $\\ldots$ | $m$ |\n",
    "| :--- | :---: | :---: | :---: | :---: | ---: |\n",
    "| **Fluxo** | $F_{Vega}$ | $\\frac{1}{k}F_{Vega}$ | $\\frac{1}{k^{2}}F_{Vega}$ | $\\ldots$ | $$\\frac{1}{k^{m}}F_{Vega}$$ | "
   ]
  },
  {
   "cell_type": "markdown",
   "metadata": {
    "slideshow": {
     "slide_type": "subslide"
    }
   },
   "source": [
    "Se considerarmos agora duas estrelas de magnitudes relativas $m_{1}$ e $m_{2}$, e seus fluxos radiantes correspondentes $F_{1}$ e $F_{2}$, expressando ambos em termos de $F_{Vega}$, dividindo ambas as expressões e simplificando, a seguinte relação é obtida:"
   ]
  },
  {
   "cell_type": "markdown",
   "metadata": {
    "slideshow": {
     "slide_type": "-"
    }
   },
   "source": [
    "$$\\frac{F_{2}}{F_{1}}=k^{m_{1}-m_{2}}$$"
   ]
  },
  {
   "cell_type": "markdown",
   "metadata": {
    "slideshow": {
     "slide_type": "subslide"
    }
   },
   "source": [
    "E substituindo $k$ por seu valor, chegamos à seguinte fórmula fundamental:"
   ]
  },
  {
   "cell_type": "markdown",
   "metadata": {
    "slideshow": {
     "slide_type": "-"
    }
   },
   "source": [
    "$$\\frac{F_{2}}{F_{1}}=100^{\\frac{m_{1}-m_{2}}{5}}$$"
   ]
  },
  {
   "cell_type": "markdown",
   "metadata": {
    "slideshow": {
     "slide_type": "subslide"
    }
   },
   "source": [
    "Outra forma muito comum de expressar a relação entre magnitudes aparentes e fluxos radiantes é tomando logaritmos decimais na expressão anterior, o que leva à expressão comumente usada (note que o quociente entre fluxos radiantes foi invertido, o que faz aparecer o sinal negativo):"
   ]
  },
  {
   "cell_type": "markdown",
   "metadata": {
    "slideshow": {
     "slide_type": "-"
    }
   },
   "source": [
    "$$\\boxed{\\Delta m=m_{1}-m_{2}=-2.5\\log_{10}{\\Bigg(\\frac{F_{1}}{F_{2}}\\Bigg)}}$$"
   ]
  },
  {
   "cell_type": "markdown",
   "metadata": {
    "slideshow": {
     "slide_type": "subslide"
    }
   },
   "source": [
    "### Magnitudes absolutas"
   ]
  },
  {
   "cell_type": "markdown",
   "metadata": {
    "slideshow": {
     "slide_type": "-"
    }
   },
   "source": [
    "Logicamente, a magnitude aparente de um objeto dependerá tanto de sua luminosidade intríseca quanto da distância que está de nós. Portanto, é interessante definir uma magnitude absoluta que nos dê uma ideia da quantidade de energia emitida pelo objeto, independentemente da distância a que se encontre."
   ]
  },
  {
   "cell_type": "markdown",
   "metadata": {
    "slideshow": {
     "slide_type": "subslide"
    }
   },
   "source": [
    "Previamente devemos especificar o conceito de **luminosidade** $L$ de um objeto, que é definido como a quantidade de energia total emitida pelo objeto em um segundo. Esta magnitude $L$ tem relação com o fluxo radiante $F$, pois se assumirmos que o objeto está a uma distância $d$ de nós, a energia total irradiada por segundo será distribuída sobre uma superfície esférica de área $4\\pi d^{2}$, portanto a energia que recebermos por unidade de área em um segundo será:"
   ]
  },
  {
   "cell_type": "markdown",
   "metadata": {
    "slideshow": {
     "slide_type": "-"
    }
   },
   "source": [
    "$$F=\\frac{L}{4\\pi d^{2}}$$"
   ]
  },
  {
   "cell_type": "markdown",
   "metadata": {
    "slideshow": {
     "slide_type": "subslide"
    }
   },
   "source": [
    "**OBS:** Na verdade, a expressão anterior é apenas uma aproximação, uma vez que parte da energia luminosa irradiada é absorvida ou dispersa em maior ou menor grau pela poeira e pelo gás existente no meio interestelar."
   ]
  },
  {
   "cell_type": "markdown",
   "metadata": {
    "slideshow": {
     "slide_type": "subslide"
    }
   },
   "source": [
    "Vamos agora definir a **magnitude absoluta** $M$ de um objeto como a magnitude relativa que esse objeto teria se estivesse a uma distância de 10 parsec (10 pc)."
   ]
  },
  {
   "cell_type": "markdown",
   "metadata": {
    "slideshow": {
     "slide_type": "-"
    }
   },
   "source": [
    "Partindo das fórmulas anteriores, vamos deduzir uma expressão para obter a diferença $m-M$ entre a magnitude aparente e a magnitude absoluta de um objeto. Vamos representar por $F$ o fluxo radiante que realmente medimos e por $F_{10}$ o fluxo radiante que mediríamos se o objeto estivesse a 10 pc de nós."
   ]
  },
  {
   "cell_type": "markdown",
   "metadata": {
    "slideshow": {
     "slide_type": "subslide"
    }
   },
   "source": [
    "Que geralmente é escrito como:"
   ]
  },
  {
   "cell_type": "markdown",
   "metadata": {
    "slideshow": {
     "slide_type": "-"
    }
   },
   "source": [
    "$$\\boxed{m-M=5\\log_{10}{\\Bigg(\\frac{d}{10}\\Bigg)}}$$"
   ]
  },
  {
   "cell_type": "markdown",
   "metadata": {
    "slideshow": {
     "slide_type": "-"
    }
   },
   "source": [
    "Onde a distância $d$ será expressa em parsec (pc)."
   ]
  },
  {
   "cell_type": "markdown",
   "metadata": {
    "slideshow": {
     "slide_type": "subslide"
    }
   },
   "source": [
    "Esta simples expressão permite, em princípio, calcular a magnitude absoluta a partir da magnitude aparente, ou vice-versa, mas a distância que nos separa do objeto naturalmente faz parte da equação. Na verdade, se conhecermos o valor de $m-M$, será posspivel sabermos também a distância $d$. Portanto, a magnitude $m-M$ pode ser vista como uma forma de expressar a distância que nos separa da estrela em escala logarítmica, por isso é conhecida como módulo de distância."
   ]
  },
  {
   "cell_type": "markdown",
   "metadata": {
    "slideshow": {
     "slide_type": "subslide"
    }
   },
   "source": [
    "#### Exemplo:"
   ]
  },
  {
   "cell_type": "markdown",
   "metadata": {
    "slideshow": {
     "slide_type": "-"
    }
   },
   "source": [
    "A estrela Vega está a uma distância de 8.1 pc. Qual é a sua magnitude absoluta e o seu módulo de distância?"
   ]
  },
  {
   "cell_type": "code",
   "execution_count": 4,
   "metadata": {
    "slideshow": {
     "slide_type": "-"
    }
   },
   "outputs": [
    {
     "name": "stdout",
     "output_type": "stream",
     "text": [
      "M(Vega) = 0.46\n",
      "Módulo de distância de Vega: -0.46\n"
     ]
    }
   ],
   "source": [
    "# Vega é a referência para a magnitude aparente 0:\n",
    "m = 0 \n",
    "M = -5 * np.log10(8.1/10)\n",
    "\n",
    "print('M(Vega) = %.2f' %M)\n",
    "print('Módulo de distância de Vega: %.2f' %(m-M))"
   ]
  },
  {
   "cell_type": "markdown",
   "metadata": {
    "slideshow": {
     "slide_type": "subslide"
    }
   },
   "source": [
    "### Magnitudes aparentes em um sistema de filtros de cor"
   ]
  },
  {
   "cell_type": "markdown",
   "metadata": {
    "slideshow": {
     "slide_type": "-"
    }
   },
   "source": [
    "Na prática, a magnitude aparente de um objeto pode ser medida considerando a radiação recebida em todos os comprimentos de onda, caso em que é chamada de **magnitude bolométrica**, ou passando a luz por filtros de cores diferentes. Um sistema de filtro comumente usado para essa finalidade é chamado de **sistema fotométrico UBV** (ou *sistema fotométrico de Johnson*), que é composto por três filtros com as seguintes características:"
   ]
  },
  {
   "cell_type": "markdown",
   "metadata": {
    "slideshow": {
     "slide_type": "subslide"
    }
   },
   "source": [
    "| **Filtro** | $\\lambda$ (Angstroms) | $\\Delta\\lambda$ (largura da banda) |\n",
    "| :--- | :---: | ---: |\n",
    "| **Ultravioleta** ($u$) | $3650$ | $680$ |\n",
    "| **Blue** ($b$) | $4400$ | $980$ |\n",
    "| **Visible** ($v$) | $5500$ | $890$ |"
   ]
  },
  {
   "cell_type": "markdown",
   "metadata": {
    "slideshow": {
     "slide_type": "-"
    }
   },
   "source": [
    "O filtro $u$ deixa a luz passar na região ultravioleta, o filtro $b$ na região azul e o filtro $v$ na região verde."
   ]
  },
  {
   "cell_type": "markdown",
   "metadata": {
    "slideshow": {
     "slide_type": "-"
    }
   },
   "source": [
    "As magnitudes aparentes medidas com estes filtros são representadas pelas iniciais $U$, $B$ e $V$ (note que, mesmo no caso de magnitudes aparentes, neste caso são utilizadas letras maiúsculas)."
   ]
  },
  {
   "cell_type": "markdown",
   "metadata": {
    "slideshow": {
     "slide_type": "subslide"
    }
   },
   "source": [
    "### Índices de cor"
   ]
  },
  {
   "cell_type": "markdown",
   "metadata": {
    "slideshow": {
     "slide_type": "-"
    }
   },
   "source": [
    "A magnitude aparente de um corpo, considerada isoladamente, não é um bom indicador das propriedades desse objeto. Imagine que queremos descobrir algo sobre a cor da luz emitida por uma estrela e, ao passá-la por um filtro azul, medimos uma magnitude aparente fraca (ou seja, um valor elevado para $m$). Não poderemos saber se isso se deve ao fato de que a estrela irradia pouca energia nessa faixa de comprimento de onda ou se é simplesmente uma estrela muito distante. Em última análise, para saber a cor de uma estrela, devemos comparar sua magnitude aparente medida por pelo menos dois filtros."
   ]
  },
  {
   "cell_type": "markdown",
   "metadata": {
    "slideshow": {
     "slide_type": "subslide"
    }
   },
   "source": [
    "Por este motivo, os índices de cor são definidos, como a diferença entre duas grandezas aparentes com dois filtros diferentes. Por exemplo, no sistema fotométrico $UBV$ teremos dois índices de cores:"
   ]
  },
  {
   "cell_type": "markdown",
   "metadata": {
    "slideshow": {
     "slide_type": "-"
    }
   },
   "source": [
    "- Índice de cor $U-B$ : Diferença entre as magnitudes aparentes ultravioleta e azul;\n",
    "- índice de cor $B-V$ : Diferença entre as magnitudes aparentes azul e visível."
   ]
  },
  {
   "cell_type": "markdown",
   "metadata": {
    "slideshow": {
     "slide_type": "subslide"
    }
   },
   "source": [
    "Observe que, de acordo com a definição anterior de módulo de distância, a relação entre as quantidades aparentes e as quantidades absolutas pode ser escrita como:"
   ]
  },
  {
   "cell_type": "markdown",
   "metadata": {
    "slideshow": {
     "slide_type": "-"
    }
   },
   "source": [
    "$$m=M+\\mu$$"
   ]
  },
  {
   "cell_type": "markdown",
   "metadata": {
    "slideshow": {
     "slide_type": "-"
    }
   },
   "source": [
    "Sendo $\\mu$ o módulo de distância do objeto. Portanto:"
   ]
  },
  {
   "cell_type": "markdown",
   "metadata": {
    "slideshow": {
     "slide_type": "-"
    }
   },
   "source": [
    "$$\\text{Índice de cor}=\\Delta m=m_{1}-m_{2}=M_{1}-M_{2}$$"
   ]
  },
  {
   "cell_type": "markdown",
   "metadata": {
    "slideshow": {
     "slide_type": "subslide"
    }
   },
   "source": [
    "Isso é equivalente a dizer que, um índice de cor é independente da distância na qual o objeto se encontra!"
   ]
  },
  {
   "cell_type": "markdown",
   "metadata": {
    "slideshow": {
     "slide_type": "subslide"
    }
   },
   "source": [
    "### Relação entre o índice de cor e a temperatura"
   ]
  },
  {
   "cell_type": "markdown",
   "metadata": {
    "slideshow": {
     "slide_type": "-"
    }
   },
   "source": [
    "Uma razão pela qual os índices de cor de objetos astronômicos são tão importantes é por causa de sua estreita relação com a temperatura da superfície do objeto. As estrelas irradiam seguindo um espectro que em uma primeira aproximação se aproxima do espectro de radiação de um corpo negro, que depende exclusivamente da temperatura. Em um post [3] anterior, foi mostrado como usar a função de Planck para calcular a radiação que um corpo negro emite em cada comprimento de onda e para uma determinada temperatura. Vamos usar esta função novamente:"
   ]
  },
  {
   "cell_type": "code",
   "execution_count": 5,
   "metadata": {
    "slideshow": {
     "slide_type": "subslide"
    }
   },
   "outputs": [],
   "source": [
    "def B(wl,T):\n",
    "    '''\n",
    "    - input:\n",
    "    wl : Matriz de comprimentos de onda com unidades de comprimento\n",
    "    T : Temperatura expressa em Kelvin\n",
    "    \n",
    "    - output:\n",
    "    Matriz de valores de radiância espectral com unidades W/(m**2 * nm * sr)\n",
    "    '''\n",
    "    \n",
    "    I = 2 * pq.constants.h * (pq.c)**2 / wl**5 *  \\\n",
    "         1 / (np.exp((pq.constants.h*pq.c \\\n",
    "         / (wl*pq.constants.k*T)).simplified)-1)\n",
    "        \n",
    "    return I.rescale(pq.watt/(pq.m**2 * pq.nm *pq.sr))"
   ]
  },
  {
   "cell_type": "markdown",
   "metadata": {
    "slideshow": {
     "slide_type": "subslide"
    }
   },
   "source": [
    "Proponho-me agora a mostrar, assumindo que as estrelas eram corpos negros perfeitos, qual seria a variação do índice de cor em função da temperatura. Para isso, vou seguir a abordagem para o cálculo dos índices de cor da função de Planck que é exposta no livro [An Introduction to Modern Astrophysics](https://www.amazon.com/Introduction-Modern-Astrophysics-2nd-Edition/dp/0805304029) [4] de Bradley W. Carroll e Dale A. Ostile, seção 3.6. Consiste em usar as seguintes aproximações:"
   ]
  },
  {
   "cell_type": "markdown",
   "metadata": {
    "slideshow": {
     "slide_type": "subslide"
    }
   },
   "source": [
    "$$U-B=-2.5\\log_{10}{\\Bigg(\\frac{B(\\lambda_{u},T)\\Delta\\lambda_{u}}{B(\\lambda_{b},T)\\Delta\\lambda_{b}}\\Bigg)}+C_{U-B}$$"
   ]
  },
  {
   "cell_type": "markdown",
   "metadata": {
    "slideshow": {
     "slide_type": "-"
    }
   },
   "source": [
    "$$B-V=-2.5\\log_{10}{\\Bigg(\\frac{B(\\lambda_{b},T)\\Delta\\lambda_{b}}{B(\\lambda_{v},T)\\Delta\\lambda_{v}}\\Bigg)}+C_{B-V}$$"
   ]
  },
  {
   "cell_type": "markdown",
   "metadata": {
    "slideshow": {
     "slide_type": "subslide"
    }
   },
   "source": [
    "Ou seja, na expressão já vista acima entre magnitudes e fluxos radiantes, trata-se de substituir cada fluxo radiante pelo produto da radiância espectral dada pela função de Planck para o comprimento de onda central de cada filtro, multiplicado pela largura da efetiva banda do referido filtro, e adicionando uma constante de ajuste."
   ]
  },
  {
   "cell_type": "markdown",
   "metadata": {
    "slideshow": {
     "slide_type": "-"
    }
   },
   "source": [
    "As constantes de ajuste $C_{U-B}$ e $C_{B-V}$ devem ser determinados usando certos valores de $T$ e dos índices de cor que são usados para calibrar os filtros. Uma tabela com esses valores está incluída neste [artigo](https://www.atnf.csiro.au/outreach/education/senior/astrophysics/photometry_colour.html) [5]. Vamos usar em particular que para uma temperatura $T=42.000$ $K$ devemos obter valores dos índices de cor $U-B=-1,19$, $B-V=-0,33$."
   ]
  },
  {
   "cell_type": "markdown",
   "metadata": {
    "slideshow": {
     "slide_type": "subslide"
    }
   },
   "source": [
    "#### Definição das contantes do sistema fotométrico UBV:"
   ]
  },
  {
   "cell_type": "code",
   "execution_count": 6,
   "metadata": {
    "slideshow": {
     "slide_type": "-"
    }
   },
   "outputs": [],
   "source": [
    "lambda_u = 365 * pq.nm\n",
    "delta_u = 68 * pq.nm\n",
    "lambda_b = 440 * pq.nm\n",
    "delta_b = 98 * pq.nm\n",
    "lambda_v = 550 * pq.nm\n",
    "delta_v = 89 * pq.nm"
   ]
  },
  {
   "cell_type": "markdown",
   "metadata": {
    "slideshow": {
     "slide_type": "subslide"
    }
   },
   "source": [
    "#### Cálculo de $C_{U-B}$:"
   ]
  },
  {
   "cell_type": "code",
   "execution_count": 7,
   "metadata": {
    "slideshow": {
     "slide_type": "-"
    }
   },
   "outputs": [
    {
     "name": "stdout",
     "output_type": "stream",
     "text": [
      "-0.8743172782348059 dimensionless\n"
     ]
    }
   ],
   "source": [
    "T = 42000*pq.kelvin\n",
    "F = B(lambda_u, T) * delta_u/(B(lambda_b, T) * delta_b)\n",
    "Cub = -1.19 + 2.5 * np.log10(F)\n",
    "\n",
    "print(Cub)"
   ]
  },
  {
   "cell_type": "markdown",
   "metadata": {
    "slideshow": {
     "slide_type": "subslide"
    }
   },
   "source": [
    "#### Cálculo de $C_{B-V}$:"
   ]
  },
  {
   "cell_type": "code",
   "execution_count": 8,
   "metadata": {
    "slideshow": {
     "slide_type": "-"
    }
   },
   "outputs": [
    {
     "name": "stdout",
     "output_type": "stream",
     "text": [
      "0.6493684250633878 dimensionless\n"
     ]
    }
   ],
   "source": [
    "F = B(lambda_b, T) * delta_b/(B(lambda_v, T)* delta_v)\n",
    "Cbv = -0.33 + 2.5 * np.log10(F)\n",
    "\n",
    "print(Cbv)"
   ]
  },
  {
   "cell_type": "markdown",
   "metadata": {
    "slideshow": {
     "slide_type": "subslide"
    }
   },
   "source": [
    "Tendo determinado as constantes na fórmula que aproxima os índices de cor da temperatura para um corpo negro, podemos definir duas funções que nos permitirão calcular esses índices de cor para diferentes temperaturas."
   ]
  },
  {
   "cell_type": "code",
   "execution_count": 9,
   "metadata": {
    "slideshow": {
     "slide_type": "-"
    }
   },
   "outputs": [],
   "source": [
    "def get_UB(T):\n",
    "    F = B(lambda_u, T) * delta_u/(B(lambda_b, T) * delta_b)\n",
    "    return -2.5 * np.log10(F) + Cub\n",
    "\n",
    "def get_BV(T):\n",
    "    F = B(lambda_b, T) * delta_b/(B(lambda_v, T) * delta_v)\n",
    "    return -2.5 * np.log10(F) + Cbv"
   ]
  },
  {
   "cell_type": "markdown",
   "metadata": {
    "slideshow": {
     "slide_type": "subslide"
    }
   },
   "source": [
    "E por último vamos representar em gráfico a curva que relaciona a temperatura da superfície do objeto com seu índice de cor, supondo, tenhamos sempre isso em mente, que o dito objeto era um corpo negro perfeito. Para objetos astronômicos reais, esta curva será apenas uma aproximação que nos permitirá uma primeira estimativa de sua temperatura de superfície em função do índice de cor."
   ]
  },
  {
   "cell_type": "markdown",
   "metadata": {
    "slideshow": {
     "slide_type": "-"
    }
   },
   "source": [
    "Precisamente, para ilustrar este último fato, vamos representar no mesmo gráfico três estrelas representativas, com dados de suas temperaturas superficiais efetivas e índices de cor."
   ]
  },
  {
   "cell_type": "code",
   "execution_count": 10,
   "metadata": {
    "slideshow": {
     "slide_type": "-"
    }
   },
   "outputs": [],
   "source": [
    "temp = np.arange(2500, 30000, 100) * pq.Kelvin\n",
    "BmenosV = get_BV(temp)"
   ]
  },
  {
   "cell_type": "markdown",
   "metadata": {
    "slideshow": {
     "slide_type": "subslide"
    }
   },
   "source": [
    "Como de costume, definimos uma função para melhorar um pouco a estética dos plots:"
   ]
  },
  {
   "cell_type": "code",
   "execution_count": 11,
   "metadata": {
    "slideshow": {
     "slide_type": "-"
    }
   },
   "outputs": [],
   "source": [
    "def opt_plot():\n",
    "    plt.grid(True, linestyle=':', color='0.50')\n",
    "    plt.minorticks_on()\n",
    "    plt.tick_params(axis='both',which='minor', direction = \"in\",\n",
    "                    top = True,right = True, length=5,width=1,labelsize=15)\n",
    "    plt.tick_params(axis='both',which='major', direction = \"in\",\n",
    "                    top = True,right = True, length=8,width=1,labelsize=15)"
   ]
  },
  {
   "cell_type": "markdown",
   "metadata": {
    "slideshow": {
     "slide_type": "-"
    }
   },
   "source": [
    "Agora vamos ao gráfico:"
   ]
  },
  {
   "cell_type": "code",
   "execution_count": 12,
   "metadata": {
    "slideshow": {
     "slide_type": "subslide"
    }
   },
   "outputs": [
    {
     "data": {
      "application/javascript": [
       "/* Put everything inside the global mpl namespace */\n",
       "window.mpl = {};\n",
       "\n",
       "\n",
       "mpl.get_websocket_type = function() {\n",
       "    if (typeof(WebSocket) !== 'undefined') {\n",
       "        return WebSocket;\n",
       "    } else if (typeof(MozWebSocket) !== 'undefined') {\n",
       "        return MozWebSocket;\n",
       "    } else {\n",
       "        alert('Your browser does not have WebSocket support. ' +\n",
       "              'Please try Chrome, Safari or Firefox ≥ 6. ' +\n",
       "              'Firefox 4 and 5 are also supported but you ' +\n",
       "              'have to enable WebSockets in about:config.');\n",
       "    };\n",
       "}\n",
       "\n",
       "mpl.figure = function(figure_id, websocket, ondownload, parent_element) {\n",
       "    this.id = figure_id;\n",
       "\n",
       "    this.ws = websocket;\n",
       "\n",
       "    this.supports_binary = (this.ws.binaryType != undefined);\n",
       "\n",
       "    if (!this.supports_binary) {\n",
       "        var warnings = document.getElementById(\"mpl-warnings\");\n",
       "        if (warnings) {\n",
       "            warnings.style.display = 'block';\n",
       "            warnings.textContent = (\n",
       "                \"This browser does not support binary websocket messages. \" +\n",
       "                    \"Performance may be slow.\");\n",
       "        }\n",
       "    }\n",
       "\n",
       "    this.imageObj = new Image();\n",
       "\n",
       "    this.context = undefined;\n",
       "    this.message = undefined;\n",
       "    this.canvas = undefined;\n",
       "    this.rubberband_canvas = undefined;\n",
       "    this.rubberband_context = undefined;\n",
       "    this.format_dropdown = undefined;\n",
       "\n",
       "    this.image_mode = 'full';\n",
       "\n",
       "    this.root = $('<div/>');\n",
       "    this._root_extra_style(this.root)\n",
       "    this.root.attr('style', 'display: inline-block');\n",
       "\n",
       "    $(parent_element).append(this.root);\n",
       "\n",
       "    this._init_header(this);\n",
       "    this._init_canvas(this);\n",
       "    this._init_toolbar(this);\n",
       "\n",
       "    var fig = this;\n",
       "\n",
       "    this.waiting = false;\n",
       "\n",
       "    this.ws.onopen =  function () {\n",
       "            fig.send_message(\"supports_binary\", {value: fig.supports_binary});\n",
       "            fig.send_message(\"send_image_mode\", {});\n",
       "            if (mpl.ratio != 1) {\n",
       "                fig.send_message(\"set_dpi_ratio\", {'dpi_ratio': mpl.ratio});\n",
       "            }\n",
       "            fig.send_message(\"refresh\", {});\n",
       "        }\n",
       "\n",
       "    this.imageObj.onload = function() {\n",
       "            if (fig.image_mode == 'full') {\n",
       "                // Full images could contain transparency (where diff images\n",
       "                // almost always do), so we need to clear the canvas so that\n",
       "                // there is no ghosting.\n",
       "                fig.context.clearRect(0, 0, fig.canvas.width, fig.canvas.height);\n",
       "            }\n",
       "            fig.context.drawImage(fig.imageObj, 0, 0);\n",
       "        };\n",
       "\n",
       "    this.imageObj.onunload = function() {\n",
       "        fig.ws.close();\n",
       "    }\n",
       "\n",
       "    this.ws.onmessage = this._make_on_message_function(this);\n",
       "\n",
       "    this.ondownload = ondownload;\n",
       "}\n",
       "\n",
       "mpl.figure.prototype._init_header = function() {\n",
       "    var titlebar = $(\n",
       "        '<div class=\"ui-dialog-titlebar ui-widget-header ui-corner-all ' +\n",
       "        'ui-helper-clearfix\"/>');\n",
       "    var titletext = $(\n",
       "        '<div class=\"ui-dialog-title\" style=\"width: 100%; ' +\n",
       "        'text-align: center; padding: 3px;\"/>');\n",
       "    titlebar.append(titletext)\n",
       "    this.root.append(titlebar);\n",
       "    this.header = titletext[0];\n",
       "}\n",
       "\n",
       "\n",
       "\n",
       "mpl.figure.prototype._canvas_extra_style = function(canvas_div) {\n",
       "\n",
       "}\n",
       "\n",
       "\n",
       "mpl.figure.prototype._root_extra_style = function(canvas_div) {\n",
       "\n",
       "}\n",
       "\n",
       "mpl.figure.prototype._init_canvas = function() {\n",
       "    var fig = this;\n",
       "\n",
       "    var canvas_div = $('<div/>');\n",
       "\n",
       "    canvas_div.attr('style', 'position: relative; clear: both; outline: 0');\n",
       "\n",
       "    function canvas_keyboard_event(event) {\n",
       "        return fig.key_event(event, event['data']);\n",
       "    }\n",
       "\n",
       "    canvas_div.keydown('key_press', canvas_keyboard_event);\n",
       "    canvas_div.keyup('key_release', canvas_keyboard_event);\n",
       "    this.canvas_div = canvas_div\n",
       "    this._canvas_extra_style(canvas_div)\n",
       "    this.root.append(canvas_div);\n",
       "\n",
       "    var canvas = $('<canvas/>');\n",
       "    canvas.addClass('mpl-canvas');\n",
       "    canvas.attr('style', \"left: 0; top: 0; z-index: 0; outline: 0\")\n",
       "\n",
       "    this.canvas = canvas[0];\n",
       "    this.context = canvas[0].getContext(\"2d\");\n",
       "\n",
       "    var backingStore = this.context.backingStorePixelRatio ||\n",
       "\tthis.context.webkitBackingStorePixelRatio ||\n",
       "\tthis.context.mozBackingStorePixelRatio ||\n",
       "\tthis.context.msBackingStorePixelRatio ||\n",
       "\tthis.context.oBackingStorePixelRatio ||\n",
       "\tthis.context.backingStorePixelRatio || 1;\n",
       "\n",
       "    mpl.ratio = (window.devicePixelRatio || 1) / backingStore;\n",
       "\n",
       "    var rubberband = $('<canvas/>');\n",
       "    rubberband.attr('style', \"position: absolute; left: 0; top: 0; z-index: 1;\")\n",
       "\n",
       "    var pass_mouse_events = true;\n",
       "\n",
       "    canvas_div.resizable({\n",
       "        start: function(event, ui) {\n",
       "            pass_mouse_events = false;\n",
       "        },\n",
       "        resize: function(event, ui) {\n",
       "            fig.request_resize(ui.size.width, ui.size.height);\n",
       "        },\n",
       "        stop: function(event, ui) {\n",
       "            pass_mouse_events = true;\n",
       "            fig.request_resize(ui.size.width, ui.size.height);\n",
       "        },\n",
       "    });\n",
       "\n",
       "    function mouse_event_fn(event) {\n",
       "        if (pass_mouse_events)\n",
       "            return fig.mouse_event(event, event['data']);\n",
       "    }\n",
       "\n",
       "    rubberband.mousedown('button_press', mouse_event_fn);\n",
       "    rubberband.mouseup('button_release', mouse_event_fn);\n",
       "    // Throttle sequential mouse events to 1 every 20ms.\n",
       "    rubberband.mousemove('motion_notify', mouse_event_fn);\n",
       "\n",
       "    rubberband.mouseenter('figure_enter', mouse_event_fn);\n",
       "    rubberband.mouseleave('figure_leave', mouse_event_fn);\n",
       "\n",
       "    canvas_div.on(\"wheel\", function (event) {\n",
       "        event = event.originalEvent;\n",
       "        event['data'] = 'scroll'\n",
       "        if (event.deltaY < 0) {\n",
       "            event.step = 1;\n",
       "        } else {\n",
       "            event.step = -1;\n",
       "        }\n",
       "        mouse_event_fn(event);\n",
       "    });\n",
       "\n",
       "    canvas_div.append(canvas);\n",
       "    canvas_div.append(rubberband);\n",
       "\n",
       "    this.rubberband = rubberband;\n",
       "    this.rubberband_canvas = rubberband[0];\n",
       "    this.rubberband_context = rubberband[0].getContext(\"2d\");\n",
       "    this.rubberband_context.strokeStyle = \"#000000\";\n",
       "\n",
       "    this._resize_canvas = function(width, height) {\n",
       "        // Keep the size of the canvas, canvas container, and rubber band\n",
       "        // canvas in synch.\n",
       "        canvas_div.css('width', width)\n",
       "        canvas_div.css('height', height)\n",
       "\n",
       "        canvas.attr('width', width * mpl.ratio);\n",
       "        canvas.attr('height', height * mpl.ratio);\n",
       "        canvas.attr('style', 'width: ' + width + 'px; height: ' + height + 'px;');\n",
       "\n",
       "        rubberband.attr('width', width);\n",
       "        rubberband.attr('height', height);\n",
       "    }\n",
       "\n",
       "    // Set the figure to an initial 600x600px, this will subsequently be updated\n",
       "    // upon first draw.\n",
       "    this._resize_canvas(600, 600);\n",
       "\n",
       "    // Disable right mouse context menu.\n",
       "    $(this.rubberband_canvas).bind(\"contextmenu\",function(e){\n",
       "        return false;\n",
       "    });\n",
       "\n",
       "    function set_focus () {\n",
       "        canvas.focus();\n",
       "        canvas_div.focus();\n",
       "    }\n",
       "\n",
       "    window.setTimeout(set_focus, 100);\n",
       "}\n",
       "\n",
       "mpl.figure.prototype._init_toolbar = function() {\n",
       "    var fig = this;\n",
       "\n",
       "    var nav_element = $('<div/>');\n",
       "    nav_element.attr('style', 'width: 100%');\n",
       "    this.root.append(nav_element);\n",
       "\n",
       "    // Define a callback function for later on.\n",
       "    function toolbar_event(event) {\n",
       "        return fig.toolbar_button_onclick(event['data']);\n",
       "    }\n",
       "    function toolbar_mouse_event(event) {\n",
       "        return fig.toolbar_button_onmouseover(event['data']);\n",
       "    }\n",
       "\n",
       "    for(var toolbar_ind in mpl.toolbar_items) {\n",
       "        var name = mpl.toolbar_items[toolbar_ind][0];\n",
       "        var tooltip = mpl.toolbar_items[toolbar_ind][1];\n",
       "        var image = mpl.toolbar_items[toolbar_ind][2];\n",
       "        var method_name = mpl.toolbar_items[toolbar_ind][3];\n",
       "\n",
       "        if (!name) {\n",
       "            // put a spacer in here.\n",
       "            continue;\n",
       "        }\n",
       "        var button = $('<button/>');\n",
       "        button.addClass('ui-button ui-widget ui-state-default ui-corner-all ' +\n",
       "                        'ui-button-icon-only');\n",
       "        button.attr('role', 'button');\n",
       "        button.attr('aria-disabled', 'false');\n",
       "        button.click(method_name, toolbar_event);\n",
       "        button.mouseover(tooltip, toolbar_mouse_event);\n",
       "\n",
       "        var icon_img = $('<span/>');\n",
       "        icon_img.addClass('ui-button-icon-primary ui-icon');\n",
       "        icon_img.addClass(image);\n",
       "        icon_img.addClass('ui-corner-all');\n",
       "\n",
       "        var tooltip_span = $('<span/>');\n",
       "        tooltip_span.addClass('ui-button-text');\n",
       "        tooltip_span.html(tooltip);\n",
       "\n",
       "        button.append(icon_img);\n",
       "        button.append(tooltip_span);\n",
       "\n",
       "        nav_element.append(button);\n",
       "    }\n",
       "\n",
       "    var fmt_picker_span = $('<span/>');\n",
       "\n",
       "    var fmt_picker = $('<select/>');\n",
       "    fmt_picker.addClass('mpl-toolbar-option ui-widget ui-widget-content');\n",
       "    fmt_picker_span.append(fmt_picker);\n",
       "    nav_element.append(fmt_picker_span);\n",
       "    this.format_dropdown = fmt_picker[0];\n",
       "\n",
       "    for (var ind in mpl.extensions) {\n",
       "        var fmt = mpl.extensions[ind];\n",
       "        var option = $(\n",
       "            '<option/>', {selected: fmt === mpl.default_extension}).html(fmt);\n",
       "        fmt_picker.append(option);\n",
       "    }\n",
       "\n",
       "    // Add hover states to the ui-buttons\n",
       "    $( \".ui-button\" ).hover(\n",
       "        function() { $(this).addClass(\"ui-state-hover\");},\n",
       "        function() { $(this).removeClass(\"ui-state-hover\");}\n",
       "    );\n",
       "\n",
       "    var status_bar = $('<span class=\"mpl-message\"/>');\n",
       "    nav_element.append(status_bar);\n",
       "    this.message = status_bar[0];\n",
       "}\n",
       "\n",
       "mpl.figure.prototype.request_resize = function(x_pixels, y_pixels) {\n",
       "    // Request matplotlib to resize the figure. Matplotlib will then trigger a resize in the client,\n",
       "    // which will in turn request a refresh of the image.\n",
       "    this.send_message('resize', {'width': x_pixels, 'height': y_pixels});\n",
       "}\n",
       "\n",
       "mpl.figure.prototype.send_message = function(type, properties) {\n",
       "    properties['type'] = type;\n",
       "    properties['figure_id'] = this.id;\n",
       "    this.ws.send(JSON.stringify(properties));\n",
       "}\n",
       "\n",
       "mpl.figure.prototype.send_draw_message = function() {\n",
       "    if (!this.waiting) {\n",
       "        this.waiting = true;\n",
       "        this.ws.send(JSON.stringify({type: \"draw\", figure_id: this.id}));\n",
       "    }\n",
       "}\n",
       "\n",
       "\n",
       "mpl.figure.prototype.handle_save = function(fig, msg) {\n",
       "    var format_dropdown = fig.format_dropdown;\n",
       "    var format = format_dropdown.options[format_dropdown.selectedIndex].value;\n",
       "    fig.ondownload(fig, format);\n",
       "}\n",
       "\n",
       "\n",
       "mpl.figure.prototype.handle_resize = function(fig, msg) {\n",
       "    var size = msg['size'];\n",
       "    if (size[0] != fig.canvas.width || size[1] != fig.canvas.height) {\n",
       "        fig._resize_canvas(size[0], size[1]);\n",
       "        fig.send_message(\"refresh\", {});\n",
       "    };\n",
       "}\n",
       "\n",
       "mpl.figure.prototype.handle_rubberband = function(fig, msg) {\n",
       "    var x0 = msg['x0'] / mpl.ratio;\n",
       "    var y0 = (fig.canvas.height - msg['y0']) / mpl.ratio;\n",
       "    var x1 = msg['x1'] / mpl.ratio;\n",
       "    var y1 = (fig.canvas.height - msg['y1']) / mpl.ratio;\n",
       "    x0 = Math.floor(x0) + 0.5;\n",
       "    y0 = Math.floor(y0) + 0.5;\n",
       "    x1 = Math.floor(x1) + 0.5;\n",
       "    y1 = Math.floor(y1) + 0.5;\n",
       "    var min_x = Math.min(x0, x1);\n",
       "    var min_y = Math.min(y0, y1);\n",
       "    var width = Math.abs(x1 - x0);\n",
       "    var height = Math.abs(y1 - y0);\n",
       "\n",
       "    fig.rubberband_context.clearRect(\n",
       "        0, 0, fig.canvas.width / mpl.ratio, fig.canvas.height / mpl.ratio);\n",
       "\n",
       "    fig.rubberband_context.strokeRect(min_x, min_y, width, height);\n",
       "}\n",
       "\n",
       "mpl.figure.prototype.handle_figure_label = function(fig, msg) {\n",
       "    // Updates the figure title.\n",
       "    fig.header.textContent = msg['label'];\n",
       "}\n",
       "\n",
       "mpl.figure.prototype.handle_cursor = function(fig, msg) {\n",
       "    var cursor = msg['cursor'];\n",
       "    switch(cursor)\n",
       "    {\n",
       "    case 0:\n",
       "        cursor = 'pointer';\n",
       "        break;\n",
       "    case 1:\n",
       "        cursor = 'default';\n",
       "        break;\n",
       "    case 2:\n",
       "        cursor = 'crosshair';\n",
       "        break;\n",
       "    case 3:\n",
       "        cursor = 'move';\n",
       "        break;\n",
       "    }\n",
       "    fig.rubberband_canvas.style.cursor = cursor;\n",
       "}\n",
       "\n",
       "mpl.figure.prototype.handle_message = function(fig, msg) {\n",
       "    fig.message.textContent = msg['message'];\n",
       "}\n",
       "\n",
       "mpl.figure.prototype.handle_draw = function(fig, msg) {\n",
       "    // Request the server to send over a new figure.\n",
       "    fig.send_draw_message();\n",
       "}\n",
       "\n",
       "mpl.figure.prototype.handle_image_mode = function(fig, msg) {\n",
       "    fig.image_mode = msg['mode'];\n",
       "}\n",
       "\n",
       "mpl.figure.prototype.updated_canvas_event = function() {\n",
       "    // Called whenever the canvas gets updated.\n",
       "    this.send_message(\"ack\", {});\n",
       "}\n",
       "\n",
       "// A function to construct a web socket function for onmessage handling.\n",
       "// Called in the figure constructor.\n",
       "mpl.figure.prototype._make_on_message_function = function(fig) {\n",
       "    return function socket_on_message(evt) {\n",
       "        if (evt.data instanceof Blob) {\n",
       "            /* FIXME: We get \"Resource interpreted as Image but\n",
       "             * transferred with MIME type text/plain:\" errors on\n",
       "             * Chrome.  But how to set the MIME type?  It doesn't seem\n",
       "             * to be part of the websocket stream */\n",
       "            evt.data.type = \"image/png\";\n",
       "\n",
       "            /* Free the memory for the previous frames */\n",
       "            if (fig.imageObj.src) {\n",
       "                (window.URL || window.webkitURL).revokeObjectURL(\n",
       "                    fig.imageObj.src);\n",
       "            }\n",
       "\n",
       "            fig.imageObj.src = (window.URL || window.webkitURL).createObjectURL(\n",
       "                evt.data);\n",
       "            fig.updated_canvas_event();\n",
       "            fig.waiting = false;\n",
       "            return;\n",
       "        }\n",
       "        else if (typeof evt.data === 'string' && evt.data.slice(0, 21) == \"data:image/png;base64\") {\n",
       "            fig.imageObj.src = evt.data;\n",
       "            fig.updated_canvas_event();\n",
       "            fig.waiting = false;\n",
       "            return;\n",
       "        }\n",
       "\n",
       "        var msg = JSON.parse(evt.data);\n",
       "        var msg_type = msg['type'];\n",
       "\n",
       "        // Call the  \"handle_{type}\" callback, which takes\n",
       "        // the figure and JSON message as its only arguments.\n",
       "        try {\n",
       "            var callback = fig[\"handle_\" + msg_type];\n",
       "        } catch (e) {\n",
       "            console.log(\"No handler for the '\" + msg_type + \"' message type: \", msg);\n",
       "            return;\n",
       "        }\n",
       "\n",
       "        if (callback) {\n",
       "            try {\n",
       "                // console.log(\"Handling '\" + msg_type + \"' message: \", msg);\n",
       "                callback(fig, msg);\n",
       "            } catch (e) {\n",
       "                console.log(\"Exception inside the 'handler_\" + msg_type + \"' callback:\", e, e.stack, msg);\n",
       "            }\n",
       "        }\n",
       "    };\n",
       "}\n",
       "\n",
       "// from http://stackoverflow.com/questions/1114465/getting-mouse-location-in-canvas\n",
       "mpl.findpos = function(e) {\n",
       "    //this section is from http://www.quirksmode.org/js/events_properties.html\n",
       "    var targ;\n",
       "    if (!e)\n",
       "        e = window.event;\n",
       "    if (e.target)\n",
       "        targ = e.target;\n",
       "    else if (e.srcElement)\n",
       "        targ = e.srcElement;\n",
       "    if (targ.nodeType == 3) // defeat Safari bug\n",
       "        targ = targ.parentNode;\n",
       "\n",
       "    // jQuery normalizes the pageX and pageY\n",
       "    // pageX,Y are the mouse positions relative to the document\n",
       "    // offset() returns the position of the element relative to the document\n",
       "    var x = e.pageX - $(targ).offset().left;\n",
       "    var y = e.pageY - $(targ).offset().top;\n",
       "\n",
       "    return {\"x\": x, \"y\": y};\n",
       "};\n",
       "\n",
       "/*\n",
       " * return a copy of an object with only non-object keys\n",
       " * we need this to avoid circular references\n",
       " * http://stackoverflow.com/a/24161582/3208463\n",
       " */\n",
       "function simpleKeys (original) {\n",
       "  return Object.keys(original).reduce(function (obj, key) {\n",
       "    if (typeof original[key] !== 'object')\n",
       "        obj[key] = original[key]\n",
       "    return obj;\n",
       "  }, {});\n",
       "}\n",
       "\n",
       "mpl.figure.prototype.mouse_event = function(event, name) {\n",
       "    var canvas_pos = mpl.findpos(event)\n",
       "\n",
       "    if (name === 'button_press')\n",
       "    {\n",
       "        this.canvas.focus();\n",
       "        this.canvas_div.focus();\n",
       "    }\n",
       "\n",
       "    var x = canvas_pos.x * mpl.ratio;\n",
       "    var y = canvas_pos.y * mpl.ratio;\n",
       "\n",
       "    this.send_message(name, {x: x, y: y, button: event.button,\n",
       "                             step: event.step,\n",
       "                             guiEvent: simpleKeys(event)});\n",
       "\n",
       "    /* This prevents the web browser from automatically changing to\n",
       "     * the text insertion cursor when the button is pressed.  We want\n",
       "     * to control all of the cursor setting manually through the\n",
       "     * 'cursor' event from matplotlib */\n",
       "    event.preventDefault();\n",
       "    return false;\n",
       "}\n",
       "\n",
       "mpl.figure.prototype._key_event_extra = function(event, name) {\n",
       "    // Handle any extra behaviour associated with a key event\n",
       "}\n",
       "\n",
       "mpl.figure.prototype.key_event = function(event, name) {\n",
       "\n",
       "    // Prevent repeat events\n",
       "    if (name == 'key_press')\n",
       "    {\n",
       "        if (event.which === this._key)\n",
       "            return;\n",
       "        else\n",
       "            this._key = event.which;\n",
       "    }\n",
       "    if (name == 'key_release')\n",
       "        this._key = null;\n",
       "\n",
       "    var value = '';\n",
       "    if (event.ctrlKey && event.which != 17)\n",
       "        value += \"ctrl+\";\n",
       "    if (event.altKey && event.which != 18)\n",
       "        value += \"alt+\";\n",
       "    if (event.shiftKey && event.which != 16)\n",
       "        value += \"shift+\";\n",
       "\n",
       "    value += 'k';\n",
       "    value += event.which.toString();\n",
       "\n",
       "    this._key_event_extra(event, name);\n",
       "\n",
       "    this.send_message(name, {key: value,\n",
       "                             guiEvent: simpleKeys(event)});\n",
       "    return false;\n",
       "}\n",
       "\n",
       "mpl.figure.prototype.toolbar_button_onclick = function(name) {\n",
       "    if (name == 'download') {\n",
       "        this.handle_save(this, null);\n",
       "    } else {\n",
       "        this.send_message(\"toolbar_button\", {name: name});\n",
       "    }\n",
       "};\n",
       "\n",
       "mpl.figure.prototype.toolbar_button_onmouseover = function(tooltip) {\n",
       "    this.message.textContent = tooltip;\n",
       "};\n",
       "mpl.toolbar_items = [[\"Home\", \"Reset original view\", \"fa fa-home icon-home\", \"home\"], [\"Back\", \"Back to previous view\", \"fa fa-arrow-left icon-arrow-left\", \"back\"], [\"Forward\", \"Forward to next view\", \"fa fa-arrow-right icon-arrow-right\", \"forward\"], [\"\", \"\", \"\", \"\"], [\"Pan\", \"Pan axes with left mouse, zoom with right\", \"fa fa-arrows icon-move\", \"pan\"], [\"Zoom\", \"Zoom to rectangle\", \"fa fa-square-o icon-check-empty\", \"zoom\"], [\"\", \"\", \"\", \"\"], [\"Download\", \"Download plot\", \"fa fa-floppy-o icon-save\", \"download\"]];\n",
       "\n",
       "mpl.extensions = [\"eps\", \"jpeg\", \"pdf\", \"png\", \"ps\", \"raw\", \"svg\", \"tif\"];\n",
       "\n",
       "mpl.default_extension = \"png\";var comm_websocket_adapter = function(comm) {\n",
       "    // Create a \"websocket\"-like object which calls the given IPython comm\n",
       "    // object with the appropriate methods. Currently this is a non binary\n",
       "    // socket, so there is still some room for performance tuning.\n",
       "    var ws = {};\n",
       "\n",
       "    ws.close = function() {\n",
       "        comm.close()\n",
       "    };\n",
       "    ws.send = function(m) {\n",
       "        //console.log('sending', m);\n",
       "        comm.send(m);\n",
       "    };\n",
       "    // Register the callback with on_msg.\n",
       "    comm.on_msg(function(msg) {\n",
       "        //console.log('receiving', msg['content']['data'], msg);\n",
       "        // Pass the mpl event to the overridden (by mpl) onmessage function.\n",
       "        ws.onmessage(msg['content']['data'])\n",
       "    });\n",
       "    return ws;\n",
       "}\n",
       "\n",
       "mpl.mpl_figure_comm = function(comm, msg) {\n",
       "    // This is the function which gets called when the mpl process\n",
       "    // starts-up an IPython Comm through the \"matplotlib\" channel.\n",
       "\n",
       "    var id = msg.content.data.id;\n",
       "    // Get hold of the div created by the display call when the Comm\n",
       "    // socket was opened in Python.\n",
       "    var element = $(\"#\" + id);\n",
       "    var ws_proxy = comm_websocket_adapter(comm)\n",
       "\n",
       "    function ondownload(figure, format) {\n",
       "        window.open(figure.imageObj.src);\n",
       "    }\n",
       "\n",
       "    var fig = new mpl.figure(id, ws_proxy,\n",
       "                           ondownload,\n",
       "                           element.get(0));\n",
       "\n",
       "    // Call onopen now - mpl needs it, as it is assuming we've passed it a real\n",
       "    // web socket which is closed, not our websocket->open comm proxy.\n",
       "    ws_proxy.onopen();\n",
       "\n",
       "    fig.parent_element = element.get(0);\n",
       "    fig.cell_info = mpl.find_output_cell(\"<div id='\" + id + \"'></div>\");\n",
       "    if (!fig.cell_info) {\n",
       "        console.error(\"Failed to find cell for figure\", id, fig);\n",
       "        return;\n",
       "    }\n",
       "\n",
       "    var output_index = fig.cell_info[2]\n",
       "    var cell = fig.cell_info[0];\n",
       "\n",
       "};\n",
       "\n",
       "mpl.figure.prototype.handle_close = function(fig, msg) {\n",
       "    var width = fig.canvas.width/mpl.ratio\n",
       "    fig.root.unbind('remove')\n",
       "\n",
       "    // Update the output cell to use the data from the current canvas.\n",
       "    fig.push_to_output();\n",
       "    var dataURL = fig.canvas.toDataURL();\n",
       "    // Re-enable the keyboard manager in IPython - without this line, in FF,\n",
       "    // the notebook keyboard shortcuts fail.\n",
       "    IPython.keyboard_manager.enable()\n",
       "    $(fig.parent_element).html('<img src=\"' + dataURL + '\" width=\"' + width + '\">');\n",
       "    fig.close_ws(fig, msg);\n",
       "}\n",
       "\n",
       "mpl.figure.prototype.close_ws = function(fig, msg){\n",
       "    fig.send_message('closing', msg);\n",
       "    // fig.ws.close()\n",
       "}\n",
       "\n",
       "mpl.figure.prototype.push_to_output = function(remove_interactive) {\n",
       "    // Turn the data on the canvas into data in the output cell.\n",
       "    var width = this.canvas.width/mpl.ratio\n",
       "    var dataURL = this.canvas.toDataURL();\n",
       "    this.cell_info[1]['text/html'] = '<img src=\"' + dataURL + '\" width=\"' + width + '\">';\n",
       "}\n",
       "\n",
       "mpl.figure.prototype.updated_canvas_event = function() {\n",
       "    // Tell IPython that the notebook contents must change.\n",
       "    IPython.notebook.set_dirty(true);\n",
       "    this.send_message(\"ack\", {});\n",
       "    var fig = this;\n",
       "    // Wait a second, then push the new image to the DOM so\n",
       "    // that it is saved nicely (might be nice to debounce this).\n",
       "    setTimeout(function () { fig.push_to_output() }, 1000);\n",
       "}\n",
       "\n",
       "mpl.figure.prototype._init_toolbar = function() {\n",
       "    var fig = this;\n",
       "\n",
       "    var nav_element = $('<div/>');\n",
       "    nav_element.attr('style', 'width: 100%');\n",
       "    this.root.append(nav_element);\n",
       "\n",
       "    // Define a callback function for later on.\n",
       "    function toolbar_event(event) {\n",
       "        return fig.toolbar_button_onclick(event['data']);\n",
       "    }\n",
       "    function toolbar_mouse_event(event) {\n",
       "        return fig.toolbar_button_onmouseover(event['data']);\n",
       "    }\n",
       "\n",
       "    for(var toolbar_ind in mpl.toolbar_items){\n",
       "        var name = mpl.toolbar_items[toolbar_ind][0];\n",
       "        var tooltip = mpl.toolbar_items[toolbar_ind][1];\n",
       "        var image = mpl.toolbar_items[toolbar_ind][2];\n",
       "        var method_name = mpl.toolbar_items[toolbar_ind][3];\n",
       "\n",
       "        if (!name) { continue; };\n",
       "\n",
       "        var button = $('<button class=\"btn btn-default\" href=\"#\" title=\"' + name + '\"><i class=\"fa ' + image + ' fa-lg\"></i></button>');\n",
       "        button.click(method_name, toolbar_event);\n",
       "        button.mouseover(tooltip, toolbar_mouse_event);\n",
       "        nav_element.append(button);\n",
       "    }\n",
       "\n",
       "    // Add the status bar.\n",
       "    var status_bar = $('<span class=\"mpl-message\" style=\"text-align:right; float: right;\"/>');\n",
       "    nav_element.append(status_bar);\n",
       "    this.message = status_bar[0];\n",
       "\n",
       "    // Add the close button to the window.\n",
       "    var buttongrp = $('<div class=\"btn-group inline pull-right\"></div>');\n",
       "    var button = $('<button class=\"btn btn-mini btn-primary\" href=\"#\" title=\"Stop Interaction\"><i class=\"fa fa-power-off icon-remove icon-large\"></i></button>');\n",
       "    button.click(function (evt) { fig.handle_close(fig, {}); } );\n",
       "    button.mouseover('Stop Interaction', toolbar_mouse_event);\n",
       "    buttongrp.append(button);\n",
       "    var titlebar = this.root.find($('.ui-dialog-titlebar'));\n",
       "    titlebar.prepend(buttongrp);\n",
       "}\n",
       "\n",
       "mpl.figure.prototype._root_extra_style = function(el){\n",
       "    var fig = this\n",
       "    el.on(\"remove\", function(){\n",
       "\tfig.close_ws(fig, {});\n",
       "    });\n",
       "}\n",
       "\n",
       "mpl.figure.prototype._canvas_extra_style = function(el){\n",
       "    // this is important to make the div 'focusable\n",
       "    el.attr('tabindex', 0)\n",
       "    // reach out to IPython and tell the keyboard manager to turn it's self\n",
       "    // off when our div gets focus\n",
       "\n",
       "    // location in version 3\n",
       "    if (IPython.notebook.keyboard_manager) {\n",
       "        IPython.notebook.keyboard_manager.register_events(el);\n",
       "    }\n",
       "    else {\n",
       "        // location in version 2\n",
       "        IPython.keyboard_manager.register_events(el);\n",
       "    }\n",
       "\n",
       "}\n",
       "\n",
       "mpl.figure.prototype._key_event_extra = function(event, name) {\n",
       "    var manager = IPython.notebook.keyboard_manager;\n",
       "    if (!manager)\n",
       "        manager = IPython.keyboard_manager;\n",
       "\n",
       "    // Check for shift+enter\n",
       "    if (event.shiftKey && event.which == 13) {\n",
       "        this.canvas_div.blur();\n",
       "        // select the cell after this one\n",
       "        var index = IPython.notebook.find_cell_index(this.cell_info[0]);\n",
       "        IPython.notebook.select(index + 1);\n",
       "    }\n",
       "}\n",
       "\n",
       "mpl.figure.prototype.handle_save = function(fig, msg) {\n",
       "    fig.ondownload(fig, null);\n",
       "}\n",
       "\n",
       "\n",
       "mpl.find_output_cell = function(html_output) {\n",
       "    // Return the cell and output element which can be found *uniquely* in the notebook.\n",
       "    // Note - this is a bit hacky, but it is done because the \"notebook_saving.Notebook\"\n",
       "    // IPython event is triggered only after the cells have been serialised, which for\n",
       "    // our purposes (turning an active figure into a static one), is too late.\n",
       "    var cells = IPython.notebook.get_cells();\n",
       "    var ncells = cells.length;\n",
       "    for (var i=0; i<ncells; i++) {\n",
       "        var cell = cells[i];\n",
       "        if (cell.cell_type === 'code'){\n",
       "            for (var j=0; j<cell.output_area.outputs.length; j++) {\n",
       "                var data = cell.output_area.outputs[j];\n",
       "                if (data.data) {\n",
       "                    // IPython >= 3 moved mimebundle to data attribute of output\n",
       "                    data = data.data;\n",
       "                }\n",
       "                if (data['text/html'] == html_output) {\n",
       "                    return [cell, data, j];\n",
       "                }\n",
       "            }\n",
       "        }\n",
       "    }\n",
       "}\n",
       "\n",
       "// Register the function which deals with the matplotlib target/channel.\n",
       "// The kernel may be null if the page has been refreshed.\n",
       "if (IPython.notebook.kernel != null) {\n",
       "    IPython.notebook.kernel.comm_manager.register_target('matplotlib', mpl.mpl_figure_comm);\n",
       "}\n"
      ],
      "text/plain": [
       "<IPython.core.display.Javascript object>"
      ]
     },
     "metadata": {},
     "output_type": "display_data"
    },
    {
     "data": {
      "text/html": [
       "<img src=\"data:image/png;base64,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\" width=\"799.5333333333333\">"
      ],
      "text/plain": [
       "<IPython.core.display.HTML object>"
      ]
     },
     "metadata": {},
     "output_type": "display_data"
    }
   ],
   "source": [
    "plt.figure(figsize=(8,5))\n",
    "\n",
    "plt.plot(BmenosV, temp, lw=2, color='black', label=r'Modelo teórico')\n",
    "plt.title(r'Relação índice de cor - Temperatura (corpo negro)', family='serif', fontsize='15')\n",
    "plt.xlabel(r'Índice de cor B-V', family='serif', fontsize=15)\n",
    "plt.ylabel(r'Temperatura superficial [K]', family='serif', fontsize=15)\n",
    "plt.legend(loc='best')\n",
    "opt_plot()\n",
    "\n",
    "# Desenhamos três estrelas representativas:\n",
    "\n",
    "T = np.array([3300, 5800, 22000])*pq.kelvin\n",
    "BV = [1.85, 0.656, -0.21]\n",
    "\n",
    "plt.scatter(BV[0],T[0], s=600, c='r', marker='*')\n",
    "plt.scatter(BV[1],T[1], s=600, c='y', marker='*')\n",
    "plt.scatter(BV[2],T[2], s=600, c='b', marker='*')\n",
    "\n",
    "# Anotamos os nomes das três estrelas:\n",
    "\n",
    "plt.annotate(\"Betelgeuse\", xy=(BV[0],T[0]+1000*pq.kelvin), size=14)\n",
    "plt.annotate(\"Sol\", xy=(BV[1],T[1]+1000*pq.kelvin), size=14)\n",
    "plt.annotate(\"Bellatrix\", xy=(BV[2],T[2]+1000*pq.kelvin), size=14);\n",
    "\n",
    "plt.savefig('Relação índice de cor - Temperatura (corpo negro).png')"
   ]
  },
  {
   "cell_type": "markdown",
   "metadata": {
    "slideshow": {
     "slide_type": "subslide"
    }
   },
   "source": [
    "Na figura anterior, observa-se que a curva teórica anterior pode fornecer em muitos casos uma aproximação razoável para obter as temperaturas superficiais efetivas das estrelas a partir de seu índice de cor."
   ]
  },
  {
   "cell_type": "markdown",
   "metadata": {
    "slideshow": {
     "slide_type": "subslide"
    }
   },
   "source": [
    "### Diagramas de cor-cor"
   ]
  },
  {
   "cell_type": "markdown",
   "metadata": {
    "slideshow": {
     "slide_type": "-"
    }
   },
   "source": [
    "Outro tipo de diagrama que é freqüentemente usado são os diagramas de cores nos quais um índice de cores diferente é representado em cada eixo, por exemplo: $U-B$ sobre $B-V$. O fato é que a maioria das estrelas está localizado em um gráfico de cores ao longo de uma banda bem definida conhecida como **\"locus estelar\"**. Esses diagramas são úteis para, por exemplo, detectar objetos atípicos que estão localizados em um diagrama de cor-cor que se situam fora do locus."
   ]
  },
  {
   "cell_type": "markdown",
   "metadata": {
    "slideshow": {
     "slide_type": "subslide"
    }
   },
   "source": [
    "Em outras entradas mais adiante, geraremos diagramas cor-cor com dados reais, mas neste ponto vamos nos perguntar como seria o diagrama cor-cor de um corpo negro ideal. A resposta é, como veremos, que seria uma linha reta! O local estelar dos diagramas \"cor-cor\" de objetos reais ficará, até certo ponto, ao redor dessa linha."
   ]
  },
  {
   "cell_type": "markdown",
   "metadata": {
    "slideshow": {
     "slide_type": "-"
    }
   },
   "source": [
    "Outra conclusão que podemos tirar do gráfico a seguir é que os objetos mais quentes estão localizados no canto esquerdo inferior do gráfico, e os mais frios no extremo oposto."
   ]
  },
  {
   "cell_type": "code",
   "execution_count": 13,
   "metadata": {
    "slideshow": {
     "slide_type": "subslide"
    }
   },
   "outputs": [
    {
     "data": {
      "application/javascript": [
       "/* Put everything inside the global mpl namespace */\n",
       "window.mpl = {};\n",
       "\n",
       "\n",
       "mpl.get_websocket_type = function() {\n",
       "    if (typeof(WebSocket) !== 'undefined') {\n",
       "        return WebSocket;\n",
       "    } else if (typeof(MozWebSocket) !== 'undefined') {\n",
       "        return MozWebSocket;\n",
       "    } else {\n",
       "        alert('Your browser does not have WebSocket support. ' +\n",
       "              'Please try Chrome, Safari or Firefox ≥ 6. ' +\n",
       "              'Firefox 4 and 5 are also supported but you ' +\n",
       "              'have to enable WebSockets in about:config.');\n",
       "    };\n",
       "}\n",
       "\n",
       "mpl.figure = function(figure_id, websocket, ondownload, parent_element) {\n",
       "    this.id = figure_id;\n",
       "\n",
       "    this.ws = websocket;\n",
       "\n",
       "    this.supports_binary = (this.ws.binaryType != undefined);\n",
       "\n",
       "    if (!this.supports_binary) {\n",
       "        var warnings = document.getElementById(\"mpl-warnings\");\n",
       "        if (warnings) {\n",
       "            warnings.style.display = 'block';\n",
       "            warnings.textContent = (\n",
       "                \"This browser does not support binary websocket messages. \" +\n",
       "                    \"Performance may be slow.\");\n",
       "        }\n",
       "    }\n",
       "\n",
       "    this.imageObj = new Image();\n",
       "\n",
       "    this.context = undefined;\n",
       "    this.message = undefined;\n",
       "    this.canvas = undefined;\n",
       "    this.rubberband_canvas = undefined;\n",
       "    this.rubberband_context = undefined;\n",
       "    this.format_dropdown = undefined;\n",
       "\n",
       "    this.image_mode = 'full';\n",
       "\n",
       "    this.root = $('<div/>');\n",
       "    this._root_extra_style(this.root)\n",
       "    this.root.attr('style', 'display: inline-block');\n",
       "\n",
       "    $(parent_element).append(this.root);\n",
       "\n",
       "    this._init_header(this);\n",
       "    this._init_canvas(this);\n",
       "    this._init_toolbar(this);\n",
       "\n",
       "    var fig = this;\n",
       "\n",
       "    this.waiting = false;\n",
       "\n",
       "    this.ws.onopen =  function () {\n",
       "            fig.send_message(\"supports_binary\", {value: fig.supports_binary});\n",
       "            fig.send_message(\"send_image_mode\", {});\n",
       "            if (mpl.ratio != 1) {\n",
       "                fig.send_message(\"set_dpi_ratio\", {'dpi_ratio': mpl.ratio});\n",
       "            }\n",
       "            fig.send_message(\"refresh\", {});\n",
       "        }\n",
       "\n",
       "    this.imageObj.onload = function() {\n",
       "            if (fig.image_mode == 'full') {\n",
       "                // Full images could contain transparency (where diff images\n",
       "                // almost always do), so we need to clear the canvas so that\n",
       "                // there is no ghosting.\n",
       "                fig.context.clearRect(0, 0, fig.canvas.width, fig.canvas.height);\n",
       "            }\n",
       "            fig.context.drawImage(fig.imageObj, 0, 0);\n",
       "        };\n",
       "\n",
       "    this.imageObj.onunload = function() {\n",
       "        fig.ws.close();\n",
       "    }\n",
       "\n",
       "    this.ws.onmessage = this._make_on_message_function(this);\n",
       "\n",
       "    this.ondownload = ondownload;\n",
       "}\n",
       "\n",
       "mpl.figure.prototype._init_header = function() {\n",
       "    var titlebar = $(\n",
       "        '<div class=\"ui-dialog-titlebar ui-widget-header ui-corner-all ' +\n",
       "        'ui-helper-clearfix\"/>');\n",
       "    var titletext = $(\n",
       "        '<div class=\"ui-dialog-title\" style=\"width: 100%; ' +\n",
       "        'text-align: center; padding: 3px;\"/>');\n",
       "    titlebar.append(titletext)\n",
       "    this.root.append(titlebar);\n",
       "    this.header = titletext[0];\n",
       "}\n",
       "\n",
       "\n",
       "\n",
       "mpl.figure.prototype._canvas_extra_style = function(canvas_div) {\n",
       "\n",
       "}\n",
       "\n",
       "\n",
       "mpl.figure.prototype._root_extra_style = function(canvas_div) {\n",
       "\n",
       "}\n",
       "\n",
       "mpl.figure.prototype._init_canvas = function() {\n",
       "    var fig = this;\n",
       "\n",
       "    var canvas_div = $('<div/>');\n",
       "\n",
       "    canvas_div.attr('style', 'position: relative; clear: both; outline: 0');\n",
       "\n",
       "    function canvas_keyboard_event(event) {\n",
       "        return fig.key_event(event, event['data']);\n",
       "    }\n",
       "\n",
       "    canvas_div.keydown('key_press', canvas_keyboard_event);\n",
       "    canvas_div.keyup('key_release', canvas_keyboard_event);\n",
       "    this.canvas_div = canvas_div\n",
       "    this._canvas_extra_style(canvas_div)\n",
       "    this.root.append(canvas_div);\n",
       "\n",
       "    var canvas = $('<canvas/>');\n",
       "    canvas.addClass('mpl-canvas');\n",
       "    canvas.attr('style', \"left: 0; top: 0; z-index: 0; outline: 0\")\n",
       "\n",
       "    this.canvas = canvas[0];\n",
       "    this.context = canvas[0].getContext(\"2d\");\n",
       "\n",
       "    var backingStore = this.context.backingStorePixelRatio ||\n",
       "\tthis.context.webkitBackingStorePixelRatio ||\n",
       "\tthis.context.mozBackingStorePixelRatio ||\n",
       "\tthis.context.msBackingStorePixelRatio ||\n",
       "\tthis.context.oBackingStorePixelRatio ||\n",
       "\tthis.context.backingStorePixelRatio || 1;\n",
       "\n",
       "    mpl.ratio = (window.devicePixelRatio || 1) / backingStore;\n",
       "\n",
       "    var rubberband = $('<canvas/>');\n",
       "    rubberband.attr('style', \"position: absolute; left: 0; top: 0; z-index: 1;\")\n",
       "\n",
       "    var pass_mouse_events = true;\n",
       "\n",
       "    canvas_div.resizable({\n",
       "        start: function(event, ui) {\n",
       "            pass_mouse_events = false;\n",
       "        },\n",
       "        resize: function(event, ui) {\n",
       "            fig.request_resize(ui.size.width, ui.size.height);\n",
       "        },\n",
       "        stop: function(event, ui) {\n",
       "            pass_mouse_events = true;\n",
       "            fig.request_resize(ui.size.width, ui.size.height);\n",
       "        },\n",
       "    });\n",
       "\n",
       "    function mouse_event_fn(event) {\n",
       "        if (pass_mouse_events)\n",
       "            return fig.mouse_event(event, event['data']);\n",
       "    }\n",
       "\n",
       "    rubberband.mousedown('button_press', mouse_event_fn);\n",
       "    rubberband.mouseup('button_release', mouse_event_fn);\n",
       "    // Throttle sequential mouse events to 1 every 20ms.\n",
       "    rubberband.mousemove('motion_notify', mouse_event_fn);\n",
       "\n",
       "    rubberband.mouseenter('figure_enter', mouse_event_fn);\n",
       "    rubberband.mouseleave('figure_leave', mouse_event_fn);\n",
       "\n",
       "    canvas_div.on(\"wheel\", function (event) {\n",
       "        event = event.originalEvent;\n",
       "        event['data'] = 'scroll'\n",
       "        if (event.deltaY < 0) {\n",
       "            event.step = 1;\n",
       "        } else {\n",
       "            event.step = -1;\n",
       "        }\n",
       "        mouse_event_fn(event);\n",
       "    });\n",
       "\n",
       "    canvas_div.append(canvas);\n",
       "    canvas_div.append(rubberband);\n",
       "\n",
       "    this.rubberband = rubberband;\n",
       "    this.rubberband_canvas = rubberband[0];\n",
       "    this.rubberband_context = rubberband[0].getContext(\"2d\");\n",
       "    this.rubberband_context.strokeStyle = \"#000000\";\n",
       "\n",
       "    this._resize_canvas = function(width, height) {\n",
       "        // Keep the size of the canvas, canvas container, and rubber band\n",
       "        // canvas in synch.\n",
       "        canvas_div.css('width', width)\n",
       "        canvas_div.css('height', height)\n",
       "\n",
       "        canvas.attr('width', width * mpl.ratio);\n",
       "        canvas.attr('height', height * mpl.ratio);\n",
       "        canvas.attr('style', 'width: ' + width + 'px; height: ' + height + 'px;');\n",
       "\n",
       "        rubberband.attr('width', width);\n",
       "        rubberband.attr('height', height);\n",
       "    }\n",
       "\n",
       "    // Set the figure to an initial 600x600px, this will subsequently be updated\n",
       "    // upon first draw.\n",
       "    this._resize_canvas(600, 600);\n",
       "\n",
       "    // Disable right mouse context menu.\n",
       "    $(this.rubberband_canvas).bind(\"contextmenu\",function(e){\n",
       "        return false;\n",
       "    });\n",
       "\n",
       "    function set_focus () {\n",
       "        canvas.focus();\n",
       "        canvas_div.focus();\n",
       "    }\n",
       "\n",
       "    window.setTimeout(set_focus, 100);\n",
       "}\n",
       "\n",
       "mpl.figure.prototype._init_toolbar = function() {\n",
       "    var fig = this;\n",
       "\n",
       "    var nav_element = $('<div/>');\n",
       "    nav_element.attr('style', 'width: 100%');\n",
       "    this.root.append(nav_element);\n",
       "\n",
       "    // Define a callback function for later on.\n",
       "    function toolbar_event(event) {\n",
       "        return fig.toolbar_button_onclick(event['data']);\n",
       "    }\n",
       "    function toolbar_mouse_event(event) {\n",
       "        return fig.toolbar_button_onmouseover(event['data']);\n",
       "    }\n",
       "\n",
       "    for(var toolbar_ind in mpl.toolbar_items) {\n",
       "        var name = mpl.toolbar_items[toolbar_ind][0];\n",
       "        var tooltip = mpl.toolbar_items[toolbar_ind][1];\n",
       "        var image = mpl.toolbar_items[toolbar_ind][2];\n",
       "        var method_name = mpl.toolbar_items[toolbar_ind][3];\n",
       "\n",
       "        if (!name) {\n",
       "            // put a spacer in here.\n",
       "            continue;\n",
       "        }\n",
       "        var button = $('<button/>');\n",
       "        button.addClass('ui-button ui-widget ui-state-default ui-corner-all ' +\n",
       "                        'ui-button-icon-only');\n",
       "        button.attr('role', 'button');\n",
       "        button.attr('aria-disabled', 'false');\n",
       "        button.click(method_name, toolbar_event);\n",
       "        button.mouseover(tooltip, toolbar_mouse_event);\n",
       "\n",
       "        var icon_img = $('<span/>');\n",
       "        icon_img.addClass('ui-button-icon-primary ui-icon');\n",
       "        icon_img.addClass(image);\n",
       "        icon_img.addClass('ui-corner-all');\n",
       "\n",
       "        var tooltip_span = $('<span/>');\n",
       "        tooltip_span.addClass('ui-button-text');\n",
       "        tooltip_span.html(tooltip);\n",
       "\n",
       "        button.append(icon_img);\n",
       "        button.append(tooltip_span);\n",
       "\n",
       "        nav_element.append(button);\n",
       "    }\n",
       "\n",
       "    var fmt_picker_span = $('<span/>');\n",
       "\n",
       "    var fmt_picker = $('<select/>');\n",
       "    fmt_picker.addClass('mpl-toolbar-option ui-widget ui-widget-content');\n",
       "    fmt_picker_span.append(fmt_picker);\n",
       "    nav_element.append(fmt_picker_span);\n",
       "    this.format_dropdown = fmt_picker[0];\n",
       "\n",
       "    for (var ind in mpl.extensions) {\n",
       "        var fmt = mpl.extensions[ind];\n",
       "        var option = $(\n",
       "            '<option/>', {selected: fmt === mpl.default_extension}).html(fmt);\n",
       "        fmt_picker.append(option);\n",
       "    }\n",
       "\n",
       "    // Add hover states to the ui-buttons\n",
       "    $( \".ui-button\" ).hover(\n",
       "        function() { $(this).addClass(\"ui-state-hover\");},\n",
       "        function() { $(this).removeClass(\"ui-state-hover\");}\n",
       "    );\n",
       "\n",
       "    var status_bar = $('<span class=\"mpl-message\"/>');\n",
       "    nav_element.append(status_bar);\n",
       "    this.message = status_bar[0];\n",
       "}\n",
       "\n",
       "mpl.figure.prototype.request_resize = function(x_pixels, y_pixels) {\n",
       "    // Request matplotlib to resize the figure. Matplotlib will then trigger a resize in the client,\n",
       "    // which will in turn request a refresh of the image.\n",
       "    this.send_message('resize', {'width': x_pixels, 'height': y_pixels});\n",
       "}\n",
       "\n",
       "mpl.figure.prototype.send_message = function(type, properties) {\n",
       "    properties['type'] = type;\n",
       "    properties['figure_id'] = this.id;\n",
       "    this.ws.send(JSON.stringify(properties));\n",
       "}\n",
       "\n",
       "mpl.figure.prototype.send_draw_message = function() {\n",
       "    if (!this.waiting) {\n",
       "        this.waiting = true;\n",
       "        this.ws.send(JSON.stringify({type: \"draw\", figure_id: this.id}));\n",
       "    }\n",
       "}\n",
       "\n",
       "\n",
       "mpl.figure.prototype.handle_save = function(fig, msg) {\n",
       "    var format_dropdown = fig.format_dropdown;\n",
       "    var format = format_dropdown.options[format_dropdown.selectedIndex].value;\n",
       "    fig.ondownload(fig, format);\n",
       "}\n",
       "\n",
       "\n",
       "mpl.figure.prototype.handle_resize = function(fig, msg) {\n",
       "    var size = msg['size'];\n",
       "    if (size[0] != fig.canvas.width || size[1] != fig.canvas.height) {\n",
       "        fig._resize_canvas(size[0], size[1]);\n",
       "        fig.send_message(\"refresh\", {});\n",
       "    };\n",
       "}\n",
       "\n",
       "mpl.figure.prototype.handle_rubberband = function(fig, msg) {\n",
       "    var x0 = msg['x0'] / mpl.ratio;\n",
       "    var y0 = (fig.canvas.height - msg['y0']) / mpl.ratio;\n",
       "    var x1 = msg['x1'] / mpl.ratio;\n",
       "    var y1 = (fig.canvas.height - msg['y1']) / mpl.ratio;\n",
       "    x0 = Math.floor(x0) + 0.5;\n",
       "    y0 = Math.floor(y0) + 0.5;\n",
       "    x1 = Math.floor(x1) + 0.5;\n",
       "    y1 = Math.floor(y1) + 0.5;\n",
       "    var min_x = Math.min(x0, x1);\n",
       "    var min_y = Math.min(y0, y1);\n",
       "    var width = Math.abs(x1 - x0);\n",
       "    var height = Math.abs(y1 - y0);\n",
       "\n",
       "    fig.rubberband_context.clearRect(\n",
       "        0, 0, fig.canvas.width / mpl.ratio, fig.canvas.height / mpl.ratio);\n",
       "\n",
       "    fig.rubberband_context.strokeRect(min_x, min_y, width, height);\n",
       "}\n",
       "\n",
       "mpl.figure.prototype.handle_figure_label = function(fig, msg) {\n",
       "    // Updates the figure title.\n",
       "    fig.header.textContent = msg['label'];\n",
       "}\n",
       "\n",
       "mpl.figure.prototype.handle_cursor = function(fig, msg) {\n",
       "    var cursor = msg['cursor'];\n",
       "    switch(cursor)\n",
       "    {\n",
       "    case 0:\n",
       "        cursor = 'pointer';\n",
       "        break;\n",
       "    case 1:\n",
       "        cursor = 'default';\n",
       "        break;\n",
       "    case 2:\n",
       "        cursor = 'crosshair';\n",
       "        break;\n",
       "    case 3:\n",
       "        cursor = 'move';\n",
       "        break;\n",
       "    }\n",
       "    fig.rubberband_canvas.style.cursor = cursor;\n",
       "}\n",
       "\n",
       "mpl.figure.prototype.handle_message = function(fig, msg) {\n",
       "    fig.message.textContent = msg['message'];\n",
       "}\n",
       "\n",
       "mpl.figure.prototype.handle_draw = function(fig, msg) {\n",
       "    // Request the server to send over a new figure.\n",
       "    fig.send_draw_message();\n",
       "}\n",
       "\n",
       "mpl.figure.prototype.handle_image_mode = function(fig, msg) {\n",
       "    fig.image_mode = msg['mode'];\n",
       "}\n",
       "\n",
       "mpl.figure.prototype.updated_canvas_event = function() {\n",
       "    // Called whenever the canvas gets updated.\n",
       "    this.send_message(\"ack\", {});\n",
       "}\n",
       "\n",
       "// A function to construct a web socket function for onmessage handling.\n",
       "// Called in the figure constructor.\n",
       "mpl.figure.prototype._make_on_message_function = function(fig) {\n",
       "    return function socket_on_message(evt) {\n",
       "        if (evt.data instanceof Blob) {\n",
       "            /* FIXME: We get \"Resource interpreted as Image but\n",
       "             * transferred with MIME type text/plain:\" errors on\n",
       "             * Chrome.  But how to set the MIME type?  It doesn't seem\n",
       "             * to be part of the websocket stream */\n",
       "            evt.data.type = \"image/png\";\n",
       "\n",
       "            /* Free the memory for the previous frames */\n",
       "            if (fig.imageObj.src) {\n",
       "                (window.URL || window.webkitURL).revokeObjectURL(\n",
       "                    fig.imageObj.src);\n",
       "            }\n",
       "\n",
       "            fig.imageObj.src = (window.URL || window.webkitURL).createObjectURL(\n",
       "                evt.data);\n",
       "            fig.updated_canvas_event();\n",
       "            fig.waiting = false;\n",
       "            return;\n",
       "        }\n",
       "        else if (typeof evt.data === 'string' && evt.data.slice(0, 21) == \"data:image/png;base64\") {\n",
       "            fig.imageObj.src = evt.data;\n",
       "            fig.updated_canvas_event();\n",
       "            fig.waiting = false;\n",
       "            return;\n",
       "        }\n",
       "\n",
       "        var msg = JSON.parse(evt.data);\n",
       "        var msg_type = msg['type'];\n",
       "\n",
       "        // Call the  \"handle_{type}\" callback, which takes\n",
       "        // the figure and JSON message as its only arguments.\n",
       "        try {\n",
       "            var callback = fig[\"handle_\" + msg_type];\n",
       "        } catch (e) {\n",
       "            console.log(\"No handler for the '\" + msg_type + \"' message type: \", msg);\n",
       "            return;\n",
       "        }\n",
       "\n",
       "        if (callback) {\n",
       "            try {\n",
       "                // console.log(\"Handling '\" + msg_type + \"' message: \", msg);\n",
       "                callback(fig, msg);\n",
       "            } catch (e) {\n",
       "                console.log(\"Exception inside the 'handler_\" + msg_type + \"' callback:\", e, e.stack, msg);\n",
       "            }\n",
       "        }\n",
       "    };\n",
       "}\n",
       "\n",
       "// from http://stackoverflow.com/questions/1114465/getting-mouse-location-in-canvas\n",
       "mpl.findpos = function(e) {\n",
       "    //this section is from http://www.quirksmode.org/js/events_properties.html\n",
       "    var targ;\n",
       "    if (!e)\n",
       "        e = window.event;\n",
       "    if (e.target)\n",
       "        targ = e.target;\n",
       "    else if (e.srcElement)\n",
       "        targ = e.srcElement;\n",
       "    if (targ.nodeType == 3) // defeat Safari bug\n",
       "        targ = targ.parentNode;\n",
       "\n",
       "    // jQuery normalizes the pageX and pageY\n",
       "    // pageX,Y are the mouse positions relative to the document\n",
       "    // offset() returns the position of the element relative to the document\n",
       "    var x = e.pageX - $(targ).offset().left;\n",
       "    var y = e.pageY - $(targ).offset().top;\n",
       "\n",
       "    return {\"x\": x, \"y\": y};\n",
       "};\n",
       "\n",
       "/*\n",
       " * return a copy of an object with only non-object keys\n",
       " * we need this to avoid circular references\n",
       " * http://stackoverflow.com/a/24161582/3208463\n",
       " */\n",
       "function simpleKeys (original) {\n",
       "  return Object.keys(original).reduce(function (obj, key) {\n",
       "    if (typeof original[key] !== 'object')\n",
       "        obj[key] = original[key]\n",
       "    return obj;\n",
       "  }, {});\n",
       "}\n",
       "\n",
       "mpl.figure.prototype.mouse_event = function(event, name) {\n",
       "    var canvas_pos = mpl.findpos(event)\n",
       "\n",
       "    if (name === 'button_press')\n",
       "    {\n",
       "        this.canvas.focus();\n",
       "        this.canvas_div.focus();\n",
       "    }\n",
       "\n",
       "    var x = canvas_pos.x * mpl.ratio;\n",
       "    var y = canvas_pos.y * mpl.ratio;\n",
       "\n",
       "    this.send_message(name, {x: x, y: y, button: event.button,\n",
       "                             step: event.step,\n",
       "                             guiEvent: simpleKeys(event)});\n",
       "\n",
       "    /* This prevents the web browser from automatically changing to\n",
       "     * the text insertion cursor when the button is pressed.  We want\n",
       "     * to control all of the cursor setting manually through the\n",
       "     * 'cursor' event from matplotlib */\n",
       "    event.preventDefault();\n",
       "    return false;\n",
       "}\n",
       "\n",
       "mpl.figure.prototype._key_event_extra = function(event, name) {\n",
       "    // Handle any extra behaviour associated with a key event\n",
       "}\n",
       "\n",
       "mpl.figure.prototype.key_event = function(event, name) {\n",
       "\n",
       "    // Prevent repeat events\n",
       "    if (name == 'key_press')\n",
       "    {\n",
       "        if (event.which === this._key)\n",
       "            return;\n",
       "        else\n",
       "            this._key = event.which;\n",
       "    }\n",
       "    if (name == 'key_release')\n",
       "        this._key = null;\n",
       "\n",
       "    var value = '';\n",
       "    if (event.ctrlKey && event.which != 17)\n",
       "        value += \"ctrl+\";\n",
       "    if (event.altKey && event.which != 18)\n",
       "        value += \"alt+\";\n",
       "    if (event.shiftKey && event.which != 16)\n",
       "        value += \"shift+\";\n",
       "\n",
       "    value += 'k';\n",
       "    value += event.which.toString();\n",
       "\n",
       "    this._key_event_extra(event, name);\n",
       "\n",
       "    this.send_message(name, {key: value,\n",
       "                             guiEvent: simpleKeys(event)});\n",
       "    return false;\n",
       "}\n",
       "\n",
       "mpl.figure.prototype.toolbar_button_onclick = function(name) {\n",
       "    if (name == 'download') {\n",
       "        this.handle_save(this, null);\n",
       "    } else {\n",
       "        this.send_message(\"toolbar_button\", {name: name});\n",
       "    }\n",
       "};\n",
       "\n",
       "mpl.figure.prototype.toolbar_button_onmouseover = function(tooltip) {\n",
       "    this.message.textContent = tooltip;\n",
       "};\n",
       "mpl.toolbar_items = [[\"Home\", \"Reset original view\", \"fa fa-home icon-home\", \"home\"], [\"Back\", \"Back to previous view\", \"fa fa-arrow-left icon-arrow-left\", \"back\"], [\"Forward\", \"Forward to next view\", \"fa fa-arrow-right icon-arrow-right\", \"forward\"], [\"\", \"\", \"\", \"\"], [\"Pan\", \"Pan axes with left mouse, zoom with right\", \"fa fa-arrows icon-move\", \"pan\"], [\"Zoom\", \"Zoom to rectangle\", \"fa fa-square-o icon-check-empty\", \"zoom\"], [\"\", \"\", \"\", \"\"], [\"Download\", \"Download plot\", \"fa fa-floppy-o icon-save\", \"download\"]];\n",
       "\n",
       "mpl.extensions = [\"eps\", \"jpeg\", \"pdf\", \"png\", \"ps\", \"raw\", \"svg\", \"tif\"];\n",
       "\n",
       "mpl.default_extension = \"png\";var comm_websocket_adapter = function(comm) {\n",
       "    // Create a \"websocket\"-like object which calls the given IPython comm\n",
       "    // object with the appropriate methods. Currently this is a non binary\n",
       "    // socket, so there is still some room for performance tuning.\n",
       "    var ws = {};\n",
       "\n",
       "    ws.close = function() {\n",
       "        comm.close()\n",
       "    };\n",
       "    ws.send = function(m) {\n",
       "        //console.log('sending', m);\n",
       "        comm.send(m);\n",
       "    };\n",
       "    // Register the callback with on_msg.\n",
       "    comm.on_msg(function(msg) {\n",
       "        //console.log('receiving', msg['content']['data'], msg);\n",
       "        // Pass the mpl event to the overridden (by mpl) onmessage function.\n",
       "        ws.onmessage(msg['content']['data'])\n",
       "    });\n",
       "    return ws;\n",
       "}\n",
       "\n",
       "mpl.mpl_figure_comm = function(comm, msg) {\n",
       "    // This is the function which gets called when the mpl process\n",
       "    // starts-up an IPython Comm through the \"matplotlib\" channel.\n",
       "\n",
       "    var id = msg.content.data.id;\n",
       "    // Get hold of the div created by the display call when the Comm\n",
       "    // socket was opened in Python.\n",
       "    var element = $(\"#\" + id);\n",
       "    var ws_proxy = comm_websocket_adapter(comm)\n",
       "\n",
       "    function ondownload(figure, format) {\n",
       "        window.open(figure.imageObj.src);\n",
       "    }\n",
       "\n",
       "    var fig = new mpl.figure(id, ws_proxy,\n",
       "                           ondownload,\n",
       "                           element.get(0));\n",
       "\n",
       "    // Call onopen now - mpl needs it, as it is assuming we've passed it a real\n",
       "    // web socket which is closed, not our websocket->open comm proxy.\n",
       "    ws_proxy.onopen();\n",
       "\n",
       "    fig.parent_element = element.get(0);\n",
       "    fig.cell_info = mpl.find_output_cell(\"<div id='\" + id + \"'></div>\");\n",
       "    if (!fig.cell_info) {\n",
       "        console.error(\"Failed to find cell for figure\", id, fig);\n",
       "        return;\n",
       "    }\n",
       "\n",
       "    var output_index = fig.cell_info[2]\n",
       "    var cell = fig.cell_info[0];\n",
       "\n",
       "};\n",
       "\n",
       "mpl.figure.prototype.handle_close = function(fig, msg) {\n",
       "    var width = fig.canvas.width/mpl.ratio\n",
       "    fig.root.unbind('remove')\n",
       "\n",
       "    // Update the output cell to use the data from the current canvas.\n",
       "    fig.push_to_output();\n",
       "    var dataURL = fig.canvas.toDataURL();\n",
       "    // Re-enable the keyboard manager in IPython - without this line, in FF,\n",
       "    // the notebook keyboard shortcuts fail.\n",
       "    IPython.keyboard_manager.enable()\n",
       "    $(fig.parent_element).html('<img src=\"' + dataURL + '\" width=\"' + width + '\">');\n",
       "    fig.close_ws(fig, msg);\n",
       "}\n",
       "\n",
       "mpl.figure.prototype.close_ws = function(fig, msg){\n",
       "    fig.send_message('closing', msg);\n",
       "    // fig.ws.close()\n",
       "}\n",
       "\n",
       "mpl.figure.prototype.push_to_output = function(remove_interactive) {\n",
       "    // Turn the data on the canvas into data in the output cell.\n",
       "    var width = this.canvas.width/mpl.ratio\n",
       "    var dataURL = this.canvas.toDataURL();\n",
       "    this.cell_info[1]['text/html'] = '<img src=\"' + dataURL + '\" width=\"' + width + '\">';\n",
       "}\n",
       "\n",
       "mpl.figure.prototype.updated_canvas_event = function() {\n",
       "    // Tell IPython that the notebook contents must change.\n",
       "    IPython.notebook.set_dirty(true);\n",
       "    this.send_message(\"ack\", {});\n",
       "    var fig = this;\n",
       "    // Wait a second, then push the new image to the DOM so\n",
       "    // that it is saved nicely (might be nice to debounce this).\n",
       "    setTimeout(function () { fig.push_to_output() }, 1000);\n",
       "}\n",
       "\n",
       "mpl.figure.prototype._init_toolbar = function() {\n",
       "    var fig = this;\n",
       "\n",
       "    var nav_element = $('<div/>');\n",
       "    nav_element.attr('style', 'width: 100%');\n",
       "    this.root.append(nav_element);\n",
       "\n",
       "    // Define a callback function for later on.\n",
       "    function toolbar_event(event) {\n",
       "        return fig.toolbar_button_onclick(event['data']);\n",
       "    }\n",
       "    function toolbar_mouse_event(event) {\n",
       "        return fig.toolbar_button_onmouseover(event['data']);\n",
       "    }\n",
       "\n",
       "    for(var toolbar_ind in mpl.toolbar_items){\n",
       "        var name = mpl.toolbar_items[toolbar_ind][0];\n",
       "        var tooltip = mpl.toolbar_items[toolbar_ind][1];\n",
       "        var image = mpl.toolbar_items[toolbar_ind][2];\n",
       "        var method_name = mpl.toolbar_items[toolbar_ind][3];\n",
       "\n",
       "        if (!name) { continue; };\n",
       "\n",
       "        var button = $('<button class=\"btn btn-default\" href=\"#\" title=\"' + name + '\"><i class=\"fa ' + image + ' fa-lg\"></i></button>');\n",
       "        button.click(method_name, toolbar_event);\n",
       "        button.mouseover(tooltip, toolbar_mouse_event);\n",
       "        nav_element.append(button);\n",
       "    }\n",
       "\n",
       "    // Add the status bar.\n",
       "    var status_bar = $('<span class=\"mpl-message\" style=\"text-align:right; float: right;\"/>');\n",
       "    nav_element.append(status_bar);\n",
       "    this.message = status_bar[0];\n",
       "\n",
       "    // Add the close button to the window.\n",
       "    var buttongrp = $('<div class=\"btn-group inline pull-right\"></div>');\n",
       "    var button = $('<button class=\"btn btn-mini btn-primary\" href=\"#\" title=\"Stop Interaction\"><i class=\"fa fa-power-off icon-remove icon-large\"></i></button>');\n",
       "    button.click(function (evt) { fig.handle_close(fig, {}); } );\n",
       "    button.mouseover('Stop Interaction', toolbar_mouse_event);\n",
       "    buttongrp.append(button);\n",
       "    var titlebar = this.root.find($('.ui-dialog-titlebar'));\n",
       "    titlebar.prepend(buttongrp);\n",
       "}\n",
       "\n",
       "mpl.figure.prototype._root_extra_style = function(el){\n",
       "    var fig = this\n",
       "    el.on(\"remove\", function(){\n",
       "\tfig.close_ws(fig, {});\n",
       "    });\n",
       "}\n",
       "\n",
       "mpl.figure.prototype._canvas_extra_style = function(el){\n",
       "    // this is important to make the div 'focusable\n",
       "    el.attr('tabindex', 0)\n",
       "    // reach out to IPython and tell the keyboard manager to turn it's self\n",
       "    // off when our div gets focus\n",
       "\n",
       "    // location in version 3\n",
       "    if (IPython.notebook.keyboard_manager) {\n",
       "        IPython.notebook.keyboard_manager.register_events(el);\n",
       "    }\n",
       "    else {\n",
       "        // location in version 2\n",
       "        IPython.keyboard_manager.register_events(el);\n",
       "    }\n",
       "\n",
       "}\n",
       "\n",
       "mpl.figure.prototype._key_event_extra = function(event, name) {\n",
       "    var manager = IPython.notebook.keyboard_manager;\n",
       "    if (!manager)\n",
       "        manager = IPython.keyboard_manager;\n",
       "\n",
       "    // Check for shift+enter\n",
       "    if (event.shiftKey && event.which == 13) {\n",
       "        this.canvas_div.blur();\n",
       "        // select the cell after this one\n",
       "        var index = IPython.notebook.find_cell_index(this.cell_info[0]);\n",
       "        IPython.notebook.select(index + 1);\n",
       "    }\n",
       "}\n",
       "\n",
       "mpl.figure.prototype.handle_save = function(fig, msg) {\n",
       "    fig.ondownload(fig, null);\n",
       "}\n",
       "\n",
       "\n",
       "mpl.find_output_cell = function(html_output) {\n",
       "    // Return the cell and output element which can be found *uniquely* in the notebook.\n",
       "    // Note - this is a bit hacky, but it is done because the \"notebook_saving.Notebook\"\n",
       "    // IPython event is triggered only after the cells have been serialised, which for\n",
       "    // our purposes (turning an active figure into a static one), is too late.\n",
       "    var cells = IPython.notebook.get_cells();\n",
       "    var ncells = cells.length;\n",
       "    for (var i=0; i<ncells; i++) {\n",
       "        var cell = cells[i];\n",
       "        if (cell.cell_type === 'code'){\n",
       "            for (var j=0; j<cell.output_area.outputs.length; j++) {\n",
       "                var data = cell.output_area.outputs[j];\n",
       "                if (data.data) {\n",
       "                    // IPython >= 3 moved mimebundle to data attribute of output\n",
       "                    data = data.data;\n",
       "                }\n",
       "                if (data['text/html'] == html_output) {\n",
       "                    return [cell, data, j];\n",
       "                }\n",
       "            }\n",
       "        }\n",
       "    }\n",
       "}\n",
       "\n",
       "// Register the function which deals with the matplotlib target/channel.\n",
       "// The kernel may be null if the page has been refreshed.\n",
       "if (IPython.notebook.kernel != null) {\n",
       "    IPython.notebook.kernel.comm_manager.register_target('matplotlib', mpl.mpl_figure_comm);\n",
       "}\n"
      ],
      "text/plain": [
       "<IPython.core.display.Javascript object>"
      ]
     },
     "metadata": {},
     "output_type": "display_data"
    },
    {
     "data": {
      "text/html": [
       "<img src=\"data:image/png;base64,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\" width=\"799.5333333333333\">"
      ],
      "text/plain": [
       "<IPython.core.display.HTML object>"
      ]
     },
     "metadata": {},
     "output_type": "display_data"
    }
   ],
   "source": [
    "plt.figure(figsize=(8,5))\n",
    "\n",
    "temp = np.arange(2500, 30000, 100)*pq.kelvin\n",
    "BmenosV = get_BV(temp)\n",
    "UmenosB= get_UB(temp)\n",
    "\n",
    "plt.scatter(BmenosV, UmenosB, c='darkblue')\n",
    "plt.title(r'Gráfico cor-cor dos corpos negros', family='serif', fontsize=15)\n",
    "plt.xlabel(r'B-V', family='serif', fontsize=15)\n",
    "plt.ylabel('U-B', family='serif', fontsize=15)\n",
    "opt_plot()\n",
    "\n",
    "temp = np.array([3000, 4000, 5000, 7500, 10000, 20000, 30000])*pq.kelvin\n",
    "BmenosV = get_BV(temp)\n",
    "UmenosB = get_UB(temp)\n",
    "\n",
    "plt.scatter(BmenosV, UmenosB, s=100., c='red')\n",
    "\n",
    "for t in temp:\n",
    "    plt.annotate('%d K' %t, xy=(get_BV(t)+0.1, get_UB(t)-0.05))\n",
    "    \n",
    "plt.savefig('Gráfico cor-cor dos corpos negros.png')"
   ]
  },
  {
   "cell_type": "markdown",
   "metadata": {
    "slideshow": {
     "slide_type": "-"
    }
   },
   "source": [
    "$\\text{ }$"
   ]
  },
  {
   "cell_type": "markdown",
   "metadata": {
    "slideshow": {
     "slide_type": "slide"
    }
   },
   "source": [
    "## 2. Trabalhando com dados reais"
   ]
  },
  {
   "cell_type": "markdown",
   "metadata": {
    "slideshow": {
     "slide_type": "-"
    }
   },
   "source": [
    "Agora vamos examinar os dados em um catálogo de estrelas que contém dados fotométricos e espectrográficos e formaremos com elas gráficos cor-cor em que tentaremos diferenciar entre as diferentes classes de estrelas. Ou seja, vamos aplicar os conceitos expostos anteriormente a dados reais."
   ]
  },
  {
   "cell_type": "markdown",
   "metadata": {
    "slideshow": {
     "slide_type": "-"
    }
   },
   "source": [
    "O catálogo que vamos usar é o \"*Bright Star Catalogue\"*, que inclui praticamente todas as estrelas visíveis a olho nu, até magnitude 6.5 ou mais brilhantes. Aqui está uma primeira [descrição](https://heasarc.gsfc.nasa.gov/W3Browse/star-catalog/bsc5p.html)."
   ]
  },
  {
   "cell_type": "markdown",
   "metadata": {
    "slideshow": {
     "slide_type": "subslide"
    }
   },
   "source": [
    "Este catálogo está disponível [online](http://tdc-www.harvard.edu/catalogs/bsc5.html) [6] aqui. Para seguir os exercícios desta entrada, os três arquivos que compõem o catálogo devem ser baixados deste site:"
   ]
  },
  {
   "cell_type": "markdown",
   "metadata": {
    "slideshow": {
     "slide_type": "-"
    }
   },
   "source": [
    "- `bsc5.dat` : O catálogo\n",
    "- `bsc5.readme` : Uma descrição do catálogo\n",
    "- `bsc5.notes` : Notas do catálogo"
   ]
  },
  {
   "cell_type": "markdown",
   "metadata": {
    "slideshow": {
     "slide_type": "-"
    }
   },
   "source": [
    "Um artigo útil será esse [aqui](https://www.enchantedlearning.com/subjects/astronomy/stars/startypes.shtml) [7] dedicado à classificação das estrelas pelas características de seu espectro."
   ]
  },
  {
   "cell_type": "markdown",
   "metadata": {
    "slideshow": {
     "slide_type": "subslide"
    }
   },
   "source": [
    "### Leitura dos dados do *Bright Star Catalogue* (BSC)"
   ]
  },
  {
   "cell_type": "markdown",
   "metadata": {
    "slideshow": {
     "slide_type": "-"
    }
   },
   "source": [
    "Depois de fazer o download dos três arquivos que compõem o BSC, vamos ler uma série de campos, importando-os para um dataframe do `Pandas`. Sobre esta algumas observações:"
   ]
  },
  {
   "cell_type": "markdown",
   "metadata": {
    "slideshow": {
     "slide_type": "subslide"
    }
   },
   "source": [
    "- A estrutura das entradas na BSC é detalhada no arquivo `bsc5.readme`, junto com uma breve descrição.\n",
    "- Não vamos ler todos os campos, mas apenas aqueles que vamos usar mais tarde.\n",
    "- Como estamos lidando com registros com campos de largura fixa, usaremos a função `read_fwf()` da biblioteca `Pandas` (você pode checar a documentação dessa biblioteca clicando [aqui](https://pandas.pydata.org/docs/)) que nos permite fornecer uma descrição da posição inicial e comprimento de cada campo."
   ]
  },
  {
   "cell_type": "code",
   "execution_count": 14,
   "metadata": {
    "slideshow": {
     "slide_type": "subslide"
    }
   },
   "outputs": [],
   "source": [
    "colspecs = [(0,4), (4,14), (25,31), (31,37), (41,42), (43,44), (51,60), \n",
    "            (90,96), (96,102), (102,107), (109,114), (115,120), (127,147)]"
   ]
  },
  {
   "cell_type": "code",
   "execution_count": 15,
   "metadata": {
    "slideshow": {
     "slide_type": "-"
    }
   },
   "outputs": [],
   "source": [
    "labels =['HR', 'Name', 'HD', 'SAO', 'IRflag', 'Multiple', 'VarID', \n",
    "         'GLON', 'GLAT', 'Vmag', 'B-V', 'U-B', 'SpType']"
   ]
  },
  {
   "cell_type": "code",
   "execution_count": 16,
   "metadata": {
    "slideshow": {
     "slide_type": "-"
    }
   },
   "outputs": [],
   "source": [
    "bsc = pd.read_fwf('bsc5.dat', header= None, colspecs=colspecs,\n",
    "                    names=labels, index_col=0)"
   ]
  },
  {
   "cell_type": "markdown",
   "metadata": {
    "slideshow": {
     "slide_type": "subslide"
    }
   },
   "source": [
    "Vamos ver uma amostra dos dados:"
   ]
  },
  {
   "cell_type": "code",
   "execution_count": 17,
   "metadata": {
    "slideshow": {
     "slide_type": "-"
    }
   },
   "outputs": [
    {
     "data": {
      "text/html": [
       "<div>\n",
       "<style scoped>\n",
       "    .dataframe tbody tr th:only-of-type {\n",
       "        vertical-align: middle;\n",
       "    }\n",
       "\n",
       "    .dataframe tbody tr th {\n",
       "        vertical-align: top;\n",
       "    }\n",
       "\n",
       "    .dataframe thead th {\n",
       "        text-align: right;\n",
       "    }\n",
       "</style>\n",
       "<table border=\"1\" class=\"dataframe\">\n",
       "  <thead>\n",
       "    <tr style=\"text-align: right;\">\n",
       "      <th></th>\n",
       "      <th>Name</th>\n",
       "      <th>HD</th>\n",
       "      <th>SAO</th>\n",
       "      <th>IRflag</th>\n",
       "      <th>Multiple</th>\n",
       "      <th>VarID</th>\n",
       "      <th>GLON</th>\n",
       "      <th>GLAT</th>\n",
       "      <th>Vmag</th>\n",
       "      <th>B-V</th>\n",
       "      <th>U-B</th>\n",
       "      <th>SpType</th>\n",
       "    </tr>\n",
       "    <tr>\n",
       "      <th>HR</th>\n",
       "      <th></th>\n",
       "      <th></th>\n",
       "      <th></th>\n",
       "      <th></th>\n",
       "      <th></th>\n",
       "      <th></th>\n",
       "      <th></th>\n",
       "      <th></th>\n",
       "      <th></th>\n",
       "      <th></th>\n",
       "      <th></th>\n",
       "      <th></th>\n",
       "    </tr>\n",
       "  </thead>\n",
       "  <tbody>\n",
       "    <tr>\n",
       "      <th>1</th>\n",
       "      <td>NaN</td>\n",
       "      <td>3.0</td>\n",
       "      <td>36042.0</td>\n",
       "      <td>NaN</td>\n",
       "      <td>NaN</td>\n",
       "      <td>NaN</td>\n",
       "      <td>114.44</td>\n",
       "      <td>-16.88</td>\n",
       "      <td>6.70</td>\n",
       "      <td>0.07</td>\n",
       "      <td>0.08</td>\n",
       "      <td>A1Vn</td>\n",
       "    </tr>\n",
       "    <tr>\n",
       "      <th>2</th>\n",
       "      <td>NaN</td>\n",
       "      <td>6.0</td>\n",
       "      <td>128569.0</td>\n",
       "      <td>NaN</td>\n",
       "      <td>NaN</td>\n",
       "      <td>NaN</td>\n",
       "      <td>98.33</td>\n",
       "      <td>-61.14</td>\n",
       "      <td>6.29</td>\n",
       "      <td>1.10</td>\n",
       "      <td>1.02</td>\n",
       "      <td>gG9</td>\n",
       "    </tr>\n",
       "    <tr>\n",
       "      <th>3</th>\n",
       "      <td>33    Psc</td>\n",
       "      <td>28.0</td>\n",
       "      <td>128572.0</td>\n",
       "      <td>I</td>\n",
       "      <td>NaN</td>\n",
       "      <td>Var?</td>\n",
       "      <td>93.75</td>\n",
       "      <td>-65.93</td>\n",
       "      <td>4.61</td>\n",
       "      <td>1.04</td>\n",
       "      <td>0.89</td>\n",
       "      <td>K0IIIbCN-0.5</td>\n",
       "    </tr>\n",
       "    <tr>\n",
       "      <th>4</th>\n",
       "      <td>86    Peg</td>\n",
       "      <td>87.0</td>\n",
       "      <td>91701.0</td>\n",
       "      <td>NaN</td>\n",
       "      <td>NaN</td>\n",
       "      <td>NaN</td>\n",
       "      <td>106.19</td>\n",
       "      <td>-47.98</td>\n",
       "      <td>5.51</td>\n",
       "      <td>0.90</td>\n",
       "      <td>NaN</td>\n",
       "      <td>G5III</td>\n",
       "    </tr>\n",
       "    <tr>\n",
       "      <th>5</th>\n",
       "      <td>NaN</td>\n",
       "      <td>123.0</td>\n",
       "      <td>21085.0</td>\n",
       "      <td>NaN</td>\n",
       "      <td>NaN</td>\n",
       "      <td>V640 Cas</td>\n",
       "      <td>117.03</td>\n",
       "      <td>-3.92</td>\n",
       "      <td>5.96</td>\n",
       "      <td>0.67</td>\n",
       "      <td>0.20</td>\n",
       "      <td>G5V</td>\n",
       "    </tr>\n",
       "  </tbody>\n",
       "</table>\n",
       "</div>"
      ],
      "text/plain": [
       "         Name     HD       SAO IRflag Multiple     VarID    GLON   GLAT  Vmag  \\\n",
       "HR                                                                              \n",
       "1         NaN    3.0   36042.0    NaN      NaN       NaN  114.44 -16.88  6.70   \n",
       "2         NaN    6.0  128569.0    NaN      NaN       NaN   98.33 -61.14  6.29   \n",
       "3   33    Psc   28.0  128572.0      I      NaN      Var?   93.75 -65.93  4.61   \n",
       "4   86    Peg   87.0   91701.0    NaN      NaN       NaN  106.19 -47.98  5.51   \n",
       "5         NaN  123.0   21085.0    NaN      NaN  V640 Cas  117.03  -3.92  5.96   \n",
       "\n",
       "     B-V   U-B        SpType  \n",
       "HR                            \n",
       "1   0.07  0.08          A1Vn  \n",
       "2   1.10  1.02           gG9  \n",
       "3   1.04  0.89  K0IIIbCN-0.5  \n",
       "4   0.90   NaN         G5III  \n",
       "5   0.67  0.20           G5V  "
      ]
     },
     "execution_count": 17,
     "metadata": {},
     "output_type": "execute_result"
    }
   ],
   "source": [
    "bsc.head()"
   ]
  },
  {
   "cell_type": "code",
   "execution_count": 18,
   "metadata": {
    "slideshow": {
     "slide_type": "subslide"
    }
   },
   "outputs": [
    {
     "data": {
      "text/html": [
       "<div>\n",
       "<style scoped>\n",
       "    .dataframe tbody tr th:only-of-type {\n",
       "        vertical-align: middle;\n",
       "    }\n",
       "\n",
       "    .dataframe tbody tr th {\n",
       "        vertical-align: top;\n",
       "    }\n",
       "\n",
       "    .dataframe thead th {\n",
       "        text-align: right;\n",
       "    }\n",
       "</style>\n",
       "<table border=\"1\" class=\"dataframe\">\n",
       "  <thead>\n",
       "    <tr style=\"text-align: right;\">\n",
       "      <th></th>\n",
       "      <th>Name</th>\n",
       "      <th>HD</th>\n",
       "      <th>SAO</th>\n",
       "      <th>IRflag</th>\n",
       "      <th>Multiple</th>\n",
       "      <th>VarID</th>\n",
       "      <th>GLON</th>\n",
       "      <th>GLAT</th>\n",
       "      <th>Vmag</th>\n",
       "      <th>B-V</th>\n",
       "      <th>U-B</th>\n",
       "      <th>SpType</th>\n",
       "    </tr>\n",
       "    <tr>\n",
       "      <th>HR</th>\n",
       "      <th></th>\n",
       "      <th></th>\n",
       "      <th></th>\n",
       "      <th></th>\n",
       "      <th></th>\n",
       "      <th></th>\n",
       "      <th></th>\n",
       "      <th></th>\n",
       "      <th></th>\n",
       "      <th></th>\n",
       "      <th></th>\n",
       "      <th></th>\n",
       "    </tr>\n",
       "  </thead>\n",
       "  <tbody>\n",
       "    <tr>\n",
       "      <th>9106</th>\n",
       "      <td>NaN</td>\n",
       "      <td>225233.0</td>\n",
       "      <td>255629.0</td>\n",
       "      <td>NaN</td>\n",
       "      <td>NaN</td>\n",
       "      <td>NaN</td>\n",
       "      <td>307.68</td>\n",
       "      <td>-43.80</td>\n",
       "      <td>7.31</td>\n",
       "      <td>0.44</td>\n",
       "      <td>0.01</td>\n",
       "      <td>F2V</td>\n",
       "    </tr>\n",
       "    <tr>\n",
       "      <th>9107</th>\n",
       "      <td>NaN</td>\n",
       "      <td>225239.0</td>\n",
       "      <td>53622.0</td>\n",
       "      <td>NaN</td>\n",
       "      <td>NaN</td>\n",
       "      <td>NaN</td>\n",
       "      <td>112.17</td>\n",
       "      <td>-27.24</td>\n",
       "      <td>6.12</td>\n",
       "      <td>0.62</td>\n",
       "      <td>0.09</td>\n",
       "      <td>G2V</td>\n",
       "    </tr>\n",
       "    <tr>\n",
       "      <th>9108</th>\n",
       "      <td>NaN</td>\n",
       "      <td>225253.0</td>\n",
       "      <td>255631.0</td>\n",
       "      <td>NaN</td>\n",
       "      <td>NaN</td>\n",
       "      <td>NaN</td>\n",
       "      <td>308.18</td>\n",
       "      <td>-45.21</td>\n",
       "      <td>5.59</td>\n",
       "      <td>-0.12</td>\n",
       "      <td>-0.42</td>\n",
       "      <td>B8IV-V</td>\n",
       "    </tr>\n",
       "    <tr>\n",
       "      <th>9109</th>\n",
       "      <td>NaN</td>\n",
       "      <td>225276.0</td>\n",
       "      <td>73731.0</td>\n",
       "      <td>I</td>\n",
       "      <td>NaN</td>\n",
       "      <td>NaN</td>\n",
       "      <td>110.22</td>\n",
       "      <td>-35.07</td>\n",
       "      <td>6.25</td>\n",
       "      <td>1.40</td>\n",
       "      <td>1.59</td>\n",
       "      <td>K4IIIb</td>\n",
       "    </tr>\n",
       "    <tr>\n",
       "      <th>9110</th>\n",
       "      <td>NaN</td>\n",
       "      <td>225289.0</td>\n",
       "      <td>10962.0</td>\n",
       "      <td>NaN</td>\n",
       "      <td>NaN</td>\n",
       "      <td>V567 Cas</td>\n",
       "      <td>117.40</td>\n",
       "      <td>-1.06</td>\n",
       "      <td>5.80</td>\n",
       "      <td>-0.09</td>\n",
       "      <td>-0.32</td>\n",
       "      <td>B8IVpHgMn</td>\n",
       "    </tr>\n",
       "  </tbody>\n",
       "</table>\n",
       "</div>"
      ],
      "text/plain": [
       "     Name        HD       SAO IRflag Multiple     VarID    GLON   GLAT  Vmag  \\\n",
       "HR                                                                             \n",
       "9106  NaN  225233.0  255629.0    NaN      NaN       NaN  307.68 -43.80  7.31   \n",
       "9107  NaN  225239.0   53622.0    NaN      NaN       NaN  112.17 -27.24  6.12   \n",
       "9108  NaN  225253.0  255631.0    NaN      NaN       NaN  308.18 -45.21  5.59   \n",
       "9109  NaN  225276.0   73731.0      I      NaN       NaN  110.22 -35.07  6.25   \n",
       "9110  NaN  225289.0   10962.0    NaN      NaN  V567 Cas  117.40  -1.06  5.80   \n",
       "\n",
       "       B-V   U-B     SpType  \n",
       "HR                           \n",
       "9106  0.44  0.01        F2V  \n",
       "9107  0.62  0.09        G2V  \n",
       "9108 -0.12 -0.42     B8IV-V  \n",
       "9109  1.40  1.59     K4IIIb  \n",
       "9110 -0.09 -0.32  B8IVpHgMn  "
      ]
     },
     "execution_count": 18,
     "metadata": {},
     "output_type": "execute_result"
    }
   ],
   "source": [
    "bsc.tail()"
   ]
  },
  {
   "cell_type": "markdown",
   "metadata": {
    "slideshow": {
     "slide_type": "subslide"
    }
   },
   "source": [
    "### Diagrama cor-cor da sequência principal"
   ]
  },
  {
   "cell_type": "markdown",
   "metadata": {
    "slideshow": {
     "slide_type": "-"
    }
   },
   "source": [
    "O objetivo final deste `Notebook` é fazer diagramas cor-cor dos diferentes tipos de estrelas, ou seja, classes espectrais para as quais começaremos com as estrelas da sequência principal. Utilizaremos os índices de cores do sistema **UBV**, por serem estes os recolhidos no BSC."
   ]
  },
  {
   "cell_type": "markdown",
   "metadata": {
    "slideshow": {
     "slide_type": "-"
    }
   },
   "source": [
    "Este é o nome dado às estrelas (que constituem aproximadamente 80% da população estelar) que usam hidrogênio como combustível em seus processos de fusão nuclear."
   ]
  },
  {
   "cell_type": "markdown",
   "metadata": {
    "slideshow": {
     "slide_type": "subslide"
    }
   },
   "source": [
    "Para diferenciar essas estrelas das demais, usaremos o campo de tipo espectral do BSC (a coluna do dataframe com o nome *SpType*). O BSC usa o sistema de classificação Morgan-Keenan (MK), que inclui a classificação no esquema de cassificação de Harvard (PBAFGKM mais um numeral 0-9), ao qual é adicionada uma classificação baseada na luminosidade, que usa algarismos romanos I-VI, aos quais às vezes é adicionada uma letra minúscula \"*a\"* ou \"*b\"*. Exemplos da classificação resultantes são: \"*B5III\"*, \"*A5Ia\"*, \"*K0V\"* e assim por diante. Em particular, o \"*V\"* significa \"*sequência principal*\", que é o que nos permitirá reconhecer as estrelas pertencentes à sequência principal."
   ]
  },
  {
   "cell_type": "markdown",
   "metadata": {
    "slideshow": {
     "slide_type": "subslide"
    }
   },
   "source": [
    "**Observação importante** : Note que o \"*Bright Star Catalogue\"* inclui apenas as estrelas mais brilhantes, basicamente aquelas que são visíveis a olho nu, portanto, o número de estrelas de uma determinada classe espectral no catálogo não é representativo de forma alguma de sua abundância no universo. As estrelas menos brilhantes ou mais distantes não serão representadas no BSC."
   ]
  },
  {
   "cell_type": "markdown",
   "metadata": {
    "slideshow": {
     "slide_type": "subslide"
    }
   },
   "source": [
    "Quantos tipos espectrais existem no catálogo?"
   ]
  },
  {
   "cell_type": "code",
   "execution_count": 19,
   "metadata": {
    "slideshow": {
     "slide_type": "-"
    }
   },
   "outputs": [
    {
     "data": {
      "text/plain": [
       "1975"
      ]
     },
     "execution_count": 19,
     "metadata": {},
     "output_type": "execute_result"
    }
   ],
   "source": [
    "bsc['SpType'].nunique()"
   ]
  },
  {
   "cell_type": "markdown",
   "metadata": {
    "slideshow": {
     "slide_type": "subslide"
    }
   },
   "source": [
    "Existem alguns tipos espectrais sem dados (marcados como `NaN` no `Pandas`)?"
   ]
  },
  {
   "cell_type": "code",
   "execution_count": 20,
   "metadata": {
    "slideshow": {
     "slide_type": "-"
    }
   },
   "outputs": [
    {
     "data": {
      "text/plain": [
       "14"
      ]
     },
     "execution_count": 20,
     "metadata": {},
     "output_type": "execute_result"
    }
   ],
   "source": [
    "pd.isnull(bsc['SpType']).sum()"
   ]
  },
  {
   "cell_type": "markdown",
   "metadata": {
    "slideshow": {
     "slide_type": "subslide"
    }
   },
   "source": [
    "São 14. Vamos remover essas entradas do dataframe:"
   ]
  },
  {
   "cell_type": "code",
   "execution_count": 21,
   "metadata": {
    "slideshow": {
     "slide_type": "subslide"
    }
   },
   "outputs": [
    {
     "name": "stdout",
     "output_type": "stream",
     "text": [
      "<class 'pandas.core.frame.DataFrame'>\n",
      "Int64Index: 9096 entries, 1 to 9110\n",
      "Data columns (total 12 columns):\n",
      "Name        3143 non-null object\n",
      "HD          9096 non-null float64\n",
      "SAO         9071 non-null float64\n",
      "IRflag      1743 non-null object\n",
      "Multiple    1577 non-null object\n",
      "VarID       2172 non-null object\n",
      "GLON        9096 non-null float64\n",
      "GLAT        9096 non-null float64\n",
      "Vmag        9096 non-null float64\n",
      "B-V         8786 non-null float64\n",
      "U-B         7206 non-null float64\n",
      "SpType      9096 non-null object\n",
      "dtypes: float64(7), object(5)\n",
      "memory usage: 923.8+ KB\n"
     ]
    }
   ],
   "source": [
    "b = pd.notnull(bsc['SpType'])\n",
    "bsc = bsc[b]\n",
    "bsc.info()"
   ]
  },
  {
   "cell_type": "markdown",
   "metadata": {
    "slideshow": {
     "slide_type": "subslide"
    }
   },
   "source": [
    "No resumo anterior, verificamos que o dataframe já tem 14 entradas a menos e o campo `SpType` não possui valores não nulos."
   ]
  },
  {
   "cell_type": "markdown",
   "metadata": {
    "slideshow": {
     "slide_type": "-"
    }
   },
   "source": [
    "Em seguida, vamos selecionar as estrelas na sequência principal, criando um novo dataframe que chamaremos de `main()`. São aqueles que na classificação MK possuem classe de brilho \"V\":"
   ]
  },
  {
   "cell_type": "code",
   "execution_count": 22,
   "metadata": {
    "slideshow": {
     "slide_type": "-"
    }
   },
   "outputs": [],
   "source": [
    "b1 = bsc['SpType'].str.contains('V')\n",
    "b2 = bsc['SpType'].str.contains('IV')\n",
    "b3 = bsc['SpType'].str.contains('VI')"
   ]
  },
  {
   "cell_type": "markdown",
   "metadata": {
    "slideshow": {
     "slide_type": "subslide"
    }
   },
   "source": [
    "Classes de luminosidade do tipo \"V\", não \"IV\", ou \"VI\" ou \"VII\":"
   ]
  },
  {
   "cell_type": "code",
   "execution_count": 23,
   "metadata": {
    "slideshow": {
     "slide_type": "-"
    }
   },
   "outputs": [
    {
     "data": {
      "text/plain": [
       "(3025, 12)"
      ]
     },
     "execution_count": 23,
     "metadata": {},
     "output_type": "execute_result"
    }
   ],
   "source": [
    "b = np.logical_and(b1,np.logical_and(np.logical_not(b2),np.logical_not(b3)))\n",
    "main = bsc[b]\n",
    "main.shape"
   ]
  },
  {
   "cell_type": "markdown",
   "metadata": {
    "slideshow": {
     "slide_type": "subslide"
    }
   },
   "source": [
    "Vamos fazer uma primeira verificação visual:"
   ]
  },
  {
   "cell_type": "code",
   "execution_count": 24,
   "metadata": {
    "slideshow": {
     "slide_type": "-"
    }
   },
   "outputs": [
    {
     "data": {
      "text/html": [
       "<div>\n",
       "<style scoped>\n",
       "    .dataframe tbody tr th:only-of-type {\n",
       "        vertical-align: middle;\n",
       "    }\n",
       "\n",
       "    .dataframe tbody tr th {\n",
       "        vertical-align: top;\n",
       "    }\n",
       "\n",
       "    .dataframe thead th {\n",
       "        text-align: right;\n",
       "    }\n",
       "</style>\n",
       "<table border=\"1\" class=\"dataframe\">\n",
       "  <thead>\n",
       "    <tr style=\"text-align: right;\">\n",
       "      <th></th>\n",
       "      <th>Name</th>\n",
       "      <th>HD</th>\n",
       "      <th>SAO</th>\n",
       "      <th>IRflag</th>\n",
       "      <th>Multiple</th>\n",
       "      <th>VarID</th>\n",
       "      <th>GLON</th>\n",
       "      <th>GLAT</th>\n",
       "      <th>Vmag</th>\n",
       "      <th>B-V</th>\n",
       "      <th>U-B</th>\n",
       "      <th>SpType</th>\n",
       "    </tr>\n",
       "    <tr>\n",
       "      <th>HR</th>\n",
       "      <th></th>\n",
       "      <th></th>\n",
       "      <th></th>\n",
       "      <th></th>\n",
       "      <th></th>\n",
       "      <th></th>\n",
       "      <th></th>\n",
       "      <th></th>\n",
       "      <th></th>\n",
       "      <th></th>\n",
       "      <th></th>\n",
       "      <th></th>\n",
       "    </tr>\n",
       "  </thead>\n",
       "  <tbody>\n",
       "    <tr>\n",
       "      <th>1</th>\n",
       "      <td>NaN</td>\n",
       "      <td>3.0</td>\n",
       "      <td>36042.0</td>\n",
       "      <td>NaN</td>\n",
       "      <td>NaN</td>\n",
       "      <td>NaN</td>\n",
       "      <td>114.44</td>\n",
       "      <td>-16.88</td>\n",
       "      <td>6.70</td>\n",
       "      <td>0.07</td>\n",
       "      <td>0.08</td>\n",
       "      <td>A1Vn</td>\n",
       "    </tr>\n",
       "    <tr>\n",
       "      <th>5</th>\n",
       "      <td>NaN</td>\n",
       "      <td>123.0</td>\n",
       "      <td>21085.0</td>\n",
       "      <td>NaN</td>\n",
       "      <td>NaN</td>\n",
       "      <td>V640 Cas</td>\n",
       "      <td>117.03</td>\n",
       "      <td>-3.92</td>\n",
       "      <td>5.96</td>\n",
       "      <td>0.67</td>\n",
       "      <td>0.20</td>\n",
       "      <td>G5V</td>\n",
       "    </tr>\n",
       "    <tr>\n",
       "      <th>8</th>\n",
       "      <td>NaN</td>\n",
       "      <td>166.0</td>\n",
       "      <td>73743.0</td>\n",
       "      <td>NaN</td>\n",
       "      <td>NaN</td>\n",
       "      <td>33</td>\n",
       "      <td>111.26</td>\n",
       "      <td>-32.83</td>\n",
       "      <td>6.13</td>\n",
       "      <td>0.75</td>\n",
       "      <td>0.33</td>\n",
       "      <td>K0V</td>\n",
       "    </tr>\n",
       "    <tr>\n",
       "      <th>9</th>\n",
       "      <td>NaN</td>\n",
       "      <td>203.0</td>\n",
       "      <td>166053.0</td>\n",
       "      <td>NaN</td>\n",
       "      <td>NaN</td>\n",
       "      <td>NaN</td>\n",
       "      <td>52.21</td>\n",
       "      <td>-79.14</td>\n",
       "      <td>6.18</td>\n",
       "      <td>0.38</td>\n",
       "      <td>0.05</td>\n",
       "      <td>A7V</td>\n",
       "    </tr>\n",
       "    <tr>\n",
       "      <th>10</th>\n",
       "      <td>NaN</td>\n",
       "      <td>256.0</td>\n",
       "      <td>147090.0</td>\n",
       "      <td>NaN</td>\n",
       "      <td>NaN</td>\n",
       "      <td>NaN</td>\n",
       "      <td>74.36</td>\n",
       "      <td>-75.90</td>\n",
       "      <td>6.19</td>\n",
       "      <td>0.14</td>\n",
       "      <td>0.10</td>\n",
       "      <td>A6Vn</td>\n",
       "    </tr>\n",
       "    <tr>\n",
       "      <th>12</th>\n",
       "      <td>NaN</td>\n",
       "      <td>319.0</td>\n",
       "      <td>166066.0</td>\n",
       "      <td>NaN</td>\n",
       "      <td>NaN</td>\n",
       "      <td>46</td>\n",
       "      <td>55.56</td>\n",
       "      <td>-79.07</td>\n",
       "      <td>5.94</td>\n",
       "      <td>0.14</td>\n",
       "      <td>0.06</td>\n",
       "      <td>A2Vp:</td>\n",
       "    </tr>\n",
       "    <tr>\n",
       "      <th>24</th>\n",
       "      <td>Kap1Scl</td>\n",
       "      <td>493.0</td>\n",
       "      <td>166083.0</td>\n",
       "      <td>NaN</td>\n",
       "      <td>NaN</td>\n",
       "      <td>NaN</td>\n",
       "      <td>25.24</td>\n",
       "      <td>-80.63</td>\n",
       "      <td>5.42</td>\n",
       "      <td>0.42</td>\n",
       "      <td>0.08</td>\n",
       "      <td>F2V</td>\n",
       "    </tr>\n",
       "    <tr>\n",
       "      <th>26</th>\n",
       "      <td>34    Psc</td>\n",
       "      <td>560.0</td>\n",
       "      <td>91750.0</td>\n",
       "      <td>NaN</td>\n",
       "      <td>NaN</td>\n",
       "      <td>NaN</td>\n",
       "      <td>106.87</td>\n",
       "      <td>-50.43</td>\n",
       "      <td>5.51</td>\n",
       "      <td>-0.07</td>\n",
       "      <td>-0.24</td>\n",
       "      <td>B9Vn</td>\n",
       "    </tr>\n",
       "    <tr>\n",
       "      <th>32</th>\n",
       "      <td>NaN</td>\n",
       "      <td>661.0</td>\n",
       "      <td>255642.0</td>\n",
       "      <td>NaN</td>\n",
       "      <td>W</td>\n",
       "      <td>NaN</td>\n",
       "      <td>306.98</td>\n",
       "      <td>-43.58</td>\n",
       "      <td>6.64</td>\n",
       "      <td>0.37</td>\n",
       "      <td>0.06</td>\n",
       "      <td>F2V+F6V</td>\n",
       "    </tr>\n",
       "    <tr>\n",
       "      <th>33</th>\n",
       "      <td>6    Cet</td>\n",
       "      <td>693.0</td>\n",
       "      <td>147133.0</td>\n",
       "      <td>NaN</td>\n",
       "      <td>NaN</td>\n",
       "      <td>NaN</td>\n",
       "      <td>82.24</td>\n",
       "      <td>-75.06</td>\n",
       "      <td>4.89</td>\n",
       "      <td>0.49</td>\n",
       "      <td>-0.03</td>\n",
       "      <td>F7V</td>\n",
       "    </tr>\n",
       "  </tbody>\n",
       "</table>\n",
       "</div>"
      ],
      "text/plain": [
       "         Name     HD       SAO IRflag Multiple     VarID    GLON   GLAT  Vmag  \\\n",
       "HR                                                                              \n",
       "1         NaN    3.0   36042.0    NaN      NaN       NaN  114.44 -16.88  6.70   \n",
       "5         NaN  123.0   21085.0    NaN      NaN  V640 Cas  117.03  -3.92  5.96   \n",
       "8         NaN  166.0   73743.0    NaN      NaN        33  111.26 -32.83  6.13   \n",
       "9         NaN  203.0  166053.0    NaN      NaN       NaN   52.21 -79.14  6.18   \n",
       "10        NaN  256.0  147090.0    NaN      NaN       NaN   74.36 -75.90  6.19   \n",
       "12        NaN  319.0  166066.0    NaN      NaN        46   55.56 -79.07  5.94   \n",
       "24    Kap1Scl  493.0  166083.0    NaN      NaN       NaN   25.24 -80.63  5.42   \n",
       "26  34    Psc  560.0   91750.0    NaN      NaN       NaN  106.87 -50.43  5.51   \n",
       "32        NaN  661.0  255642.0    NaN        W       NaN  306.98 -43.58  6.64   \n",
       "33   6    Cet  693.0  147133.0    NaN      NaN       NaN   82.24 -75.06  4.89   \n",
       "\n",
       "     B-V   U-B   SpType  \n",
       "HR                       \n",
       "1   0.07  0.08     A1Vn  \n",
       "5   0.67  0.20      G5V  \n",
       "8   0.75  0.33      K0V  \n",
       "9   0.38  0.05      A7V  \n",
       "10  0.14  0.10     A6Vn  \n",
       "12  0.14  0.06    A2Vp:  \n",
       "24  0.42  0.08      F2V  \n",
       "26 -0.07 -0.24     B9Vn  \n",
       "32  0.37  0.06  F2V+F6V  \n",
       "33  0.49 -0.03      F7V  "
      ]
     },
     "execution_count": 24,
     "metadata": {},
     "output_type": "execute_result"
    }
   ],
   "source": [
    "main[0:10]"
   ]
  },
  {
   "cell_type": "markdown",
   "metadata": {
    "slideshow": {
     "slide_type": "subslide"
    }
   },
   "source": [
    "Agora queremos verificar se a primeira letra dessas classes espectrais está na sequência O, B, A, F, G, K, M:"
   ]
  },
  {
   "cell_type": "code",
   "execution_count": 25,
   "metadata": {
    "slideshow": {
     "slide_type": "-"
    }
   },
   "outputs": [
    {
     "data": {
      "text/plain": [
       "array(['A', 'G', 'K', 'F', 'B', 'M', 'O'], dtype=object)"
      ]
     },
     "execution_count": 25,
     "metadata": {},
     "output_type": "execute_result"
    }
   ],
   "source": [
    "main['SpType'].map(lambda s:s[0]).unique()"
   ]
  },
  {
   "cell_type": "markdown",
   "metadata": {
    "slideshow": {
     "slide_type": "subslide"
    }
   },
   "source": [
    "Agora preparamos um dicionário Python com os códigos de cores que iremos atribuir a cada classe espectral, que irá de azul (tipo O) para vermelho (tipo M):"
   ]
  },
  {
   "cell_type": "code",
   "execution_count": 26,
   "metadata": {
    "slideshow": {
     "slide_type": "-"
    }
   },
   "outputs": [],
   "source": [
    "colors = {'O':'#0000FF', 'B':'#CCCCFF', 'A':'#FFFFFF', 'F':'#FFFFB2', 'G':'#FFFF00', \n",
    "          'K':'#FFA500', 'M':'#FF0000'}"
   ]
  },
  {
   "cell_type": "markdown",
   "metadata": {
    "slideshow": {
     "slide_type": "-"
    }
   },
   "source": [
    "Agora geramos o diagrama cor-cor com a biblioteca `Matplotlib` do Python:"
   ]
  },
  {
   "cell_type": "code",
   "execution_count": 27,
   "metadata": {
    "slideshow": {
     "slide_type": "subslide"
    }
   },
   "outputs": [
    {
     "data": {
      "application/javascript": [
       "/* Put everything inside the global mpl namespace */\n",
       "window.mpl = {};\n",
       "\n",
       "\n",
       "mpl.get_websocket_type = function() {\n",
       "    if (typeof(WebSocket) !== 'undefined') {\n",
       "        return WebSocket;\n",
       "    } else if (typeof(MozWebSocket) !== 'undefined') {\n",
       "        return MozWebSocket;\n",
       "    } else {\n",
       "        alert('Your browser does not have WebSocket support. ' +\n",
       "              'Please try Chrome, Safari or Firefox ≥ 6. ' +\n",
       "              'Firefox 4 and 5 are also supported but you ' +\n",
       "              'have to enable WebSockets in about:config.');\n",
       "    };\n",
       "}\n",
       "\n",
       "mpl.figure = function(figure_id, websocket, ondownload, parent_element) {\n",
       "    this.id = figure_id;\n",
       "\n",
       "    this.ws = websocket;\n",
       "\n",
       "    this.supports_binary = (this.ws.binaryType != undefined);\n",
       "\n",
       "    if (!this.supports_binary) {\n",
       "        var warnings = document.getElementById(\"mpl-warnings\");\n",
       "        if (warnings) {\n",
       "            warnings.style.display = 'block';\n",
       "            warnings.textContent = (\n",
       "                \"This browser does not support binary websocket messages. \" +\n",
       "                    \"Performance may be slow.\");\n",
       "        }\n",
       "    }\n",
       "\n",
       "    this.imageObj = new Image();\n",
       "\n",
       "    this.context = undefined;\n",
       "    this.message = undefined;\n",
       "    this.canvas = undefined;\n",
       "    this.rubberband_canvas = undefined;\n",
       "    this.rubberband_context = undefined;\n",
       "    this.format_dropdown = undefined;\n",
       "\n",
       "    this.image_mode = 'full';\n",
       "\n",
       "    this.root = $('<div/>');\n",
       "    this._root_extra_style(this.root)\n",
       "    this.root.attr('style', 'display: inline-block');\n",
       "\n",
       "    $(parent_element).append(this.root);\n",
       "\n",
       "    this._init_header(this);\n",
       "    this._init_canvas(this);\n",
       "    this._init_toolbar(this);\n",
       "\n",
       "    var fig = this;\n",
       "\n",
       "    this.waiting = false;\n",
       "\n",
       "    this.ws.onopen =  function () {\n",
       "            fig.send_message(\"supports_binary\", {value: fig.supports_binary});\n",
       "            fig.send_message(\"send_image_mode\", {});\n",
       "            if (mpl.ratio != 1) {\n",
       "                fig.send_message(\"set_dpi_ratio\", {'dpi_ratio': mpl.ratio});\n",
       "            }\n",
       "            fig.send_message(\"refresh\", {});\n",
       "        }\n",
       "\n",
       "    this.imageObj.onload = function() {\n",
       "            if (fig.image_mode == 'full') {\n",
       "                // Full images could contain transparency (where diff images\n",
       "                // almost always do), so we need to clear the canvas so that\n",
       "                // there is no ghosting.\n",
       "                fig.context.clearRect(0, 0, fig.canvas.width, fig.canvas.height);\n",
       "            }\n",
       "            fig.context.drawImage(fig.imageObj, 0, 0);\n",
       "        };\n",
       "\n",
       "    this.imageObj.onunload = function() {\n",
       "        fig.ws.close();\n",
       "    }\n",
       "\n",
       "    this.ws.onmessage = this._make_on_message_function(this);\n",
       "\n",
       "    this.ondownload = ondownload;\n",
       "}\n",
       "\n",
       "mpl.figure.prototype._init_header = function() {\n",
       "    var titlebar = $(\n",
       "        '<div class=\"ui-dialog-titlebar ui-widget-header ui-corner-all ' +\n",
       "        'ui-helper-clearfix\"/>');\n",
       "    var titletext = $(\n",
       "        '<div class=\"ui-dialog-title\" style=\"width: 100%; ' +\n",
       "        'text-align: center; padding: 3px;\"/>');\n",
       "    titlebar.append(titletext)\n",
       "    this.root.append(titlebar);\n",
       "    this.header = titletext[0];\n",
       "}\n",
       "\n",
       "\n",
       "\n",
       "mpl.figure.prototype._canvas_extra_style = function(canvas_div) {\n",
       "\n",
       "}\n",
       "\n",
       "\n",
       "mpl.figure.prototype._root_extra_style = function(canvas_div) {\n",
       "\n",
       "}\n",
       "\n",
       "mpl.figure.prototype._init_canvas = function() {\n",
       "    var fig = this;\n",
       "\n",
       "    var canvas_div = $('<div/>');\n",
       "\n",
       "    canvas_div.attr('style', 'position: relative; clear: both; outline: 0');\n",
       "\n",
       "    function canvas_keyboard_event(event) {\n",
       "        return fig.key_event(event, event['data']);\n",
       "    }\n",
       "\n",
       "    canvas_div.keydown('key_press', canvas_keyboard_event);\n",
       "    canvas_div.keyup('key_release', canvas_keyboard_event);\n",
       "    this.canvas_div = canvas_div\n",
       "    this._canvas_extra_style(canvas_div)\n",
       "    this.root.append(canvas_div);\n",
       "\n",
       "    var canvas = $('<canvas/>');\n",
       "    canvas.addClass('mpl-canvas');\n",
       "    canvas.attr('style', \"left: 0; top: 0; z-index: 0; outline: 0\")\n",
       "\n",
       "    this.canvas = canvas[0];\n",
       "    this.context = canvas[0].getContext(\"2d\");\n",
       "\n",
       "    var backingStore = this.context.backingStorePixelRatio ||\n",
       "\tthis.context.webkitBackingStorePixelRatio ||\n",
       "\tthis.context.mozBackingStorePixelRatio ||\n",
       "\tthis.context.msBackingStorePixelRatio ||\n",
       "\tthis.context.oBackingStorePixelRatio ||\n",
       "\tthis.context.backingStorePixelRatio || 1;\n",
       "\n",
       "    mpl.ratio = (window.devicePixelRatio || 1) / backingStore;\n",
       "\n",
       "    var rubberband = $('<canvas/>');\n",
       "    rubberband.attr('style', \"position: absolute; left: 0; top: 0; z-index: 1;\")\n",
       "\n",
       "    var pass_mouse_events = true;\n",
       "\n",
       "    canvas_div.resizable({\n",
       "        start: function(event, ui) {\n",
       "            pass_mouse_events = false;\n",
       "        },\n",
       "        resize: function(event, ui) {\n",
       "            fig.request_resize(ui.size.width, ui.size.height);\n",
       "        },\n",
       "        stop: function(event, ui) {\n",
       "            pass_mouse_events = true;\n",
       "            fig.request_resize(ui.size.width, ui.size.height);\n",
       "        },\n",
       "    });\n",
       "\n",
       "    function mouse_event_fn(event) {\n",
       "        if (pass_mouse_events)\n",
       "            return fig.mouse_event(event, event['data']);\n",
       "    }\n",
       "\n",
       "    rubberband.mousedown('button_press', mouse_event_fn);\n",
       "    rubberband.mouseup('button_release', mouse_event_fn);\n",
       "    // Throttle sequential mouse events to 1 every 20ms.\n",
       "    rubberband.mousemove('motion_notify', mouse_event_fn);\n",
       "\n",
       "    rubberband.mouseenter('figure_enter', mouse_event_fn);\n",
       "    rubberband.mouseleave('figure_leave', mouse_event_fn);\n",
       "\n",
       "    canvas_div.on(\"wheel\", function (event) {\n",
       "        event = event.originalEvent;\n",
       "        event['data'] = 'scroll'\n",
       "        if (event.deltaY < 0) {\n",
       "            event.step = 1;\n",
       "        } else {\n",
       "            event.step = -1;\n",
       "        }\n",
       "        mouse_event_fn(event);\n",
       "    });\n",
       "\n",
       "    canvas_div.append(canvas);\n",
       "    canvas_div.append(rubberband);\n",
       "\n",
       "    this.rubberband = rubberband;\n",
       "    this.rubberband_canvas = rubberband[0];\n",
       "    this.rubberband_context = rubberband[0].getContext(\"2d\");\n",
       "    this.rubberband_context.strokeStyle = \"#000000\";\n",
       "\n",
       "    this._resize_canvas = function(width, height) {\n",
       "        // Keep the size of the canvas, canvas container, and rubber band\n",
       "        // canvas in synch.\n",
       "        canvas_div.css('width', width)\n",
       "        canvas_div.css('height', height)\n",
       "\n",
       "        canvas.attr('width', width * mpl.ratio);\n",
       "        canvas.attr('height', height * mpl.ratio);\n",
       "        canvas.attr('style', 'width: ' + width + 'px; height: ' + height + 'px;');\n",
       "\n",
       "        rubberband.attr('width', width);\n",
       "        rubberband.attr('height', height);\n",
       "    }\n",
       "\n",
       "    // Set the figure to an initial 600x600px, this will subsequently be updated\n",
       "    // upon first draw.\n",
       "    this._resize_canvas(600, 600);\n",
       "\n",
       "    // Disable right mouse context menu.\n",
       "    $(this.rubberband_canvas).bind(\"contextmenu\",function(e){\n",
       "        return false;\n",
       "    });\n",
       "\n",
       "    function set_focus () {\n",
       "        canvas.focus();\n",
       "        canvas_div.focus();\n",
       "    }\n",
       "\n",
       "    window.setTimeout(set_focus, 100);\n",
       "}\n",
       "\n",
       "mpl.figure.prototype._init_toolbar = function() {\n",
       "    var fig = this;\n",
       "\n",
       "    var nav_element = $('<div/>');\n",
       "    nav_element.attr('style', 'width: 100%');\n",
       "    this.root.append(nav_element);\n",
       "\n",
       "    // Define a callback function for later on.\n",
       "    function toolbar_event(event) {\n",
       "        return fig.toolbar_button_onclick(event['data']);\n",
       "    }\n",
       "    function toolbar_mouse_event(event) {\n",
       "        return fig.toolbar_button_onmouseover(event['data']);\n",
       "    }\n",
       "\n",
       "    for(var toolbar_ind in mpl.toolbar_items) {\n",
       "        var name = mpl.toolbar_items[toolbar_ind][0];\n",
       "        var tooltip = mpl.toolbar_items[toolbar_ind][1];\n",
       "        var image = mpl.toolbar_items[toolbar_ind][2];\n",
       "        var method_name = mpl.toolbar_items[toolbar_ind][3];\n",
       "\n",
       "        if (!name) {\n",
       "            // put a spacer in here.\n",
       "            continue;\n",
       "        }\n",
       "        var button = $('<button/>');\n",
       "        button.addClass('ui-button ui-widget ui-state-default ui-corner-all ' +\n",
       "                        'ui-button-icon-only');\n",
       "        button.attr('role', 'button');\n",
       "        button.attr('aria-disabled', 'false');\n",
       "        button.click(method_name, toolbar_event);\n",
       "        button.mouseover(tooltip, toolbar_mouse_event);\n",
       "\n",
       "        var icon_img = $('<span/>');\n",
       "        icon_img.addClass('ui-button-icon-primary ui-icon');\n",
       "        icon_img.addClass(image);\n",
       "        icon_img.addClass('ui-corner-all');\n",
       "\n",
       "        var tooltip_span = $('<span/>');\n",
       "        tooltip_span.addClass('ui-button-text');\n",
       "        tooltip_span.html(tooltip);\n",
       "\n",
       "        button.append(icon_img);\n",
       "        button.append(tooltip_span);\n",
       "\n",
       "        nav_element.append(button);\n",
       "    }\n",
       "\n",
       "    var fmt_picker_span = $('<span/>');\n",
       "\n",
       "    var fmt_picker = $('<select/>');\n",
       "    fmt_picker.addClass('mpl-toolbar-option ui-widget ui-widget-content');\n",
       "    fmt_picker_span.append(fmt_picker);\n",
       "    nav_element.append(fmt_picker_span);\n",
       "    this.format_dropdown = fmt_picker[0];\n",
       "\n",
       "    for (var ind in mpl.extensions) {\n",
       "        var fmt = mpl.extensions[ind];\n",
       "        var option = $(\n",
       "            '<option/>', {selected: fmt === mpl.default_extension}).html(fmt);\n",
       "        fmt_picker.append(option);\n",
       "    }\n",
       "\n",
       "    // Add hover states to the ui-buttons\n",
       "    $( \".ui-button\" ).hover(\n",
       "        function() { $(this).addClass(\"ui-state-hover\");},\n",
       "        function() { $(this).removeClass(\"ui-state-hover\");}\n",
       "    );\n",
       "\n",
       "    var status_bar = $('<span class=\"mpl-message\"/>');\n",
       "    nav_element.append(status_bar);\n",
       "    this.message = status_bar[0];\n",
       "}\n",
       "\n",
       "mpl.figure.prototype.request_resize = function(x_pixels, y_pixels) {\n",
       "    // Request matplotlib to resize the figure. Matplotlib will then trigger a resize in the client,\n",
       "    // which will in turn request a refresh of the image.\n",
       "    this.send_message('resize', {'width': x_pixels, 'height': y_pixels});\n",
       "}\n",
       "\n",
       "mpl.figure.prototype.send_message = function(type, properties) {\n",
       "    properties['type'] = type;\n",
       "    properties['figure_id'] = this.id;\n",
       "    this.ws.send(JSON.stringify(properties));\n",
       "}\n",
       "\n",
       "mpl.figure.prototype.send_draw_message = function() {\n",
       "    if (!this.waiting) {\n",
       "        this.waiting = true;\n",
       "        this.ws.send(JSON.stringify({type: \"draw\", figure_id: this.id}));\n",
       "    }\n",
       "}\n",
       "\n",
       "\n",
       "mpl.figure.prototype.handle_save = function(fig, msg) {\n",
       "    var format_dropdown = fig.format_dropdown;\n",
       "    var format = format_dropdown.options[format_dropdown.selectedIndex].value;\n",
       "    fig.ondownload(fig, format);\n",
       "}\n",
       "\n",
       "\n",
       "mpl.figure.prototype.handle_resize = function(fig, msg) {\n",
       "    var size = msg['size'];\n",
       "    if (size[0] != fig.canvas.width || size[1] != fig.canvas.height) {\n",
       "        fig._resize_canvas(size[0], size[1]);\n",
       "        fig.send_message(\"refresh\", {});\n",
       "    };\n",
       "}\n",
       "\n",
       "mpl.figure.prototype.handle_rubberband = function(fig, msg) {\n",
       "    var x0 = msg['x0'] / mpl.ratio;\n",
       "    var y0 = (fig.canvas.height - msg['y0']) / mpl.ratio;\n",
       "    var x1 = msg['x1'] / mpl.ratio;\n",
       "    var y1 = (fig.canvas.height - msg['y1']) / mpl.ratio;\n",
       "    x0 = Math.floor(x0) + 0.5;\n",
       "    y0 = Math.floor(y0) + 0.5;\n",
       "    x1 = Math.floor(x1) + 0.5;\n",
       "    y1 = Math.floor(y1) + 0.5;\n",
       "    var min_x = Math.min(x0, x1);\n",
       "    var min_y = Math.min(y0, y1);\n",
       "    var width = Math.abs(x1 - x0);\n",
       "    var height = Math.abs(y1 - y0);\n",
       "\n",
       "    fig.rubberband_context.clearRect(\n",
       "        0, 0, fig.canvas.width / mpl.ratio, fig.canvas.height / mpl.ratio);\n",
       "\n",
       "    fig.rubberband_context.strokeRect(min_x, min_y, width, height);\n",
       "}\n",
       "\n",
       "mpl.figure.prototype.handle_figure_label = function(fig, msg) {\n",
       "    // Updates the figure title.\n",
       "    fig.header.textContent = msg['label'];\n",
       "}\n",
       "\n",
       "mpl.figure.prototype.handle_cursor = function(fig, msg) {\n",
       "    var cursor = msg['cursor'];\n",
       "    switch(cursor)\n",
       "    {\n",
       "    case 0:\n",
       "        cursor = 'pointer';\n",
       "        break;\n",
       "    case 1:\n",
       "        cursor = 'default';\n",
       "        break;\n",
       "    case 2:\n",
       "        cursor = 'crosshair';\n",
       "        break;\n",
       "    case 3:\n",
       "        cursor = 'move';\n",
       "        break;\n",
       "    }\n",
       "    fig.rubberband_canvas.style.cursor = cursor;\n",
       "}\n",
       "\n",
       "mpl.figure.prototype.handle_message = function(fig, msg) {\n",
       "    fig.message.textContent = msg['message'];\n",
       "}\n",
       "\n",
       "mpl.figure.prototype.handle_draw = function(fig, msg) {\n",
       "    // Request the server to send over a new figure.\n",
       "    fig.send_draw_message();\n",
       "}\n",
       "\n",
       "mpl.figure.prototype.handle_image_mode = function(fig, msg) {\n",
       "    fig.image_mode = msg['mode'];\n",
       "}\n",
       "\n",
       "mpl.figure.prototype.updated_canvas_event = function() {\n",
       "    // Called whenever the canvas gets updated.\n",
       "    this.send_message(\"ack\", {});\n",
       "}\n",
       "\n",
       "// A function to construct a web socket function for onmessage handling.\n",
       "// Called in the figure constructor.\n",
       "mpl.figure.prototype._make_on_message_function = function(fig) {\n",
       "    return function socket_on_message(evt) {\n",
       "        if (evt.data instanceof Blob) {\n",
       "            /* FIXME: We get \"Resource interpreted as Image but\n",
       "             * transferred with MIME type text/plain:\" errors on\n",
       "             * Chrome.  But how to set the MIME type?  It doesn't seem\n",
       "             * to be part of the websocket stream */\n",
       "            evt.data.type = \"image/png\";\n",
       "\n",
       "            /* Free the memory for the previous frames */\n",
       "            if (fig.imageObj.src) {\n",
       "                (window.URL || window.webkitURL).revokeObjectURL(\n",
       "                    fig.imageObj.src);\n",
       "            }\n",
       "\n",
       "            fig.imageObj.src = (window.URL || window.webkitURL).createObjectURL(\n",
       "                evt.data);\n",
       "            fig.updated_canvas_event();\n",
       "            fig.waiting = false;\n",
       "            return;\n",
       "        }\n",
       "        else if (typeof evt.data === 'string' && evt.data.slice(0, 21) == \"data:image/png;base64\") {\n",
       "            fig.imageObj.src = evt.data;\n",
       "            fig.updated_canvas_event();\n",
       "            fig.waiting = false;\n",
       "            return;\n",
       "        }\n",
       "\n",
       "        var msg = JSON.parse(evt.data);\n",
       "        var msg_type = msg['type'];\n",
       "\n",
       "        // Call the  \"handle_{type}\" callback, which takes\n",
       "        // the figure and JSON message as its only arguments.\n",
       "        try {\n",
       "            var callback = fig[\"handle_\" + msg_type];\n",
       "        } catch (e) {\n",
       "            console.log(\"No handler for the '\" + msg_type + \"' message type: \", msg);\n",
       "            return;\n",
       "        }\n",
       "\n",
       "        if (callback) {\n",
       "            try {\n",
       "                // console.log(\"Handling '\" + msg_type + \"' message: \", msg);\n",
       "                callback(fig, msg);\n",
       "            } catch (e) {\n",
       "                console.log(\"Exception inside the 'handler_\" + msg_type + \"' callback:\", e, e.stack, msg);\n",
       "            }\n",
       "        }\n",
       "    };\n",
       "}\n",
       "\n",
       "// from http://stackoverflow.com/questions/1114465/getting-mouse-location-in-canvas\n",
       "mpl.findpos = function(e) {\n",
       "    //this section is from http://www.quirksmode.org/js/events_properties.html\n",
       "    var targ;\n",
       "    if (!e)\n",
       "        e = window.event;\n",
       "    if (e.target)\n",
       "        targ = e.target;\n",
       "    else if (e.srcElement)\n",
       "        targ = e.srcElement;\n",
       "    if (targ.nodeType == 3) // defeat Safari bug\n",
       "        targ = targ.parentNode;\n",
       "\n",
       "    // jQuery normalizes the pageX and pageY\n",
       "    // pageX,Y are the mouse positions relative to the document\n",
       "    // offset() returns the position of the element relative to the document\n",
       "    var x = e.pageX - $(targ).offset().left;\n",
       "    var y = e.pageY - $(targ).offset().top;\n",
       "\n",
       "    return {\"x\": x, \"y\": y};\n",
       "};\n",
       "\n",
       "/*\n",
       " * return a copy of an object with only non-object keys\n",
       " * we need this to avoid circular references\n",
       " * http://stackoverflow.com/a/24161582/3208463\n",
       " */\n",
       "function simpleKeys (original) {\n",
       "  return Object.keys(original).reduce(function (obj, key) {\n",
       "    if (typeof original[key] !== 'object')\n",
       "        obj[key] = original[key]\n",
       "    return obj;\n",
       "  }, {});\n",
       "}\n",
       "\n",
       "mpl.figure.prototype.mouse_event = function(event, name) {\n",
       "    var canvas_pos = mpl.findpos(event)\n",
       "\n",
       "    if (name === 'button_press')\n",
       "    {\n",
       "        this.canvas.focus();\n",
       "        this.canvas_div.focus();\n",
       "    }\n",
       "\n",
       "    var x = canvas_pos.x * mpl.ratio;\n",
       "    var y = canvas_pos.y * mpl.ratio;\n",
       "\n",
       "    this.send_message(name, {x: x, y: y, button: event.button,\n",
       "                             step: event.step,\n",
       "                             guiEvent: simpleKeys(event)});\n",
       "\n",
       "    /* This prevents the web browser from automatically changing to\n",
       "     * the text insertion cursor when the button is pressed.  We want\n",
       "     * to control all of the cursor setting manually through the\n",
       "     * 'cursor' event from matplotlib */\n",
       "    event.preventDefault();\n",
       "    return false;\n",
       "}\n",
       "\n",
       "mpl.figure.prototype._key_event_extra = function(event, name) {\n",
       "    // Handle any extra behaviour associated with a key event\n",
       "}\n",
       "\n",
       "mpl.figure.prototype.key_event = function(event, name) {\n",
       "\n",
       "    // Prevent repeat events\n",
       "    if (name == 'key_press')\n",
       "    {\n",
       "        if (event.which === this._key)\n",
       "            return;\n",
       "        else\n",
       "            this._key = event.which;\n",
       "    }\n",
       "    if (name == 'key_release')\n",
       "        this._key = null;\n",
       "\n",
       "    var value = '';\n",
       "    if (event.ctrlKey && event.which != 17)\n",
       "        value += \"ctrl+\";\n",
       "    if (event.altKey && event.which != 18)\n",
       "        value += \"alt+\";\n",
       "    if (event.shiftKey && event.which != 16)\n",
       "        value += \"shift+\";\n",
       "\n",
       "    value += 'k';\n",
       "    value += event.which.toString();\n",
       "\n",
       "    this._key_event_extra(event, name);\n",
       "\n",
       "    this.send_message(name, {key: value,\n",
       "                             guiEvent: simpleKeys(event)});\n",
       "    return false;\n",
       "}\n",
       "\n",
       "mpl.figure.prototype.toolbar_button_onclick = function(name) {\n",
       "    if (name == 'download') {\n",
       "        this.handle_save(this, null);\n",
       "    } else {\n",
       "        this.send_message(\"toolbar_button\", {name: name});\n",
       "    }\n",
       "};\n",
       "\n",
       "mpl.figure.prototype.toolbar_button_onmouseover = function(tooltip) {\n",
       "    this.message.textContent = tooltip;\n",
       "};\n",
       "mpl.toolbar_items = [[\"Home\", \"Reset original view\", \"fa fa-home icon-home\", \"home\"], [\"Back\", \"Back to previous view\", \"fa fa-arrow-left icon-arrow-left\", \"back\"], [\"Forward\", \"Forward to next view\", \"fa fa-arrow-right icon-arrow-right\", \"forward\"], [\"\", \"\", \"\", \"\"], [\"Pan\", \"Pan axes with left mouse, zoom with right\", \"fa fa-arrows icon-move\", \"pan\"], [\"Zoom\", \"Zoom to rectangle\", \"fa fa-square-o icon-check-empty\", \"zoom\"], [\"\", \"\", \"\", \"\"], [\"Download\", \"Download plot\", \"fa fa-floppy-o icon-save\", \"download\"]];\n",
       "\n",
       "mpl.extensions = [\"eps\", \"jpeg\", \"pdf\", \"png\", \"ps\", \"raw\", \"svg\", \"tif\"];\n",
       "\n",
       "mpl.default_extension = \"png\";var comm_websocket_adapter = function(comm) {\n",
       "    // Create a \"websocket\"-like object which calls the given IPython comm\n",
       "    // object with the appropriate methods. Currently this is a non binary\n",
       "    // socket, so there is still some room for performance tuning.\n",
       "    var ws = {};\n",
       "\n",
       "    ws.close = function() {\n",
       "        comm.close()\n",
       "    };\n",
       "    ws.send = function(m) {\n",
       "        //console.log('sending', m);\n",
       "        comm.send(m);\n",
       "    };\n",
       "    // Register the callback with on_msg.\n",
       "    comm.on_msg(function(msg) {\n",
       "        //console.log('receiving', msg['content']['data'], msg);\n",
       "        // Pass the mpl event to the overridden (by mpl) onmessage function.\n",
       "        ws.onmessage(msg['content']['data'])\n",
       "    });\n",
       "    return ws;\n",
       "}\n",
       "\n",
       "mpl.mpl_figure_comm = function(comm, msg) {\n",
       "    // This is the function which gets called when the mpl process\n",
       "    // starts-up an IPython Comm through the \"matplotlib\" channel.\n",
       "\n",
       "    var id = msg.content.data.id;\n",
       "    // Get hold of the div created by the display call when the Comm\n",
       "    // socket was opened in Python.\n",
       "    var element = $(\"#\" + id);\n",
       "    var ws_proxy = comm_websocket_adapter(comm)\n",
       "\n",
       "    function ondownload(figure, format) {\n",
       "        window.open(figure.imageObj.src);\n",
       "    }\n",
       "\n",
       "    var fig = new mpl.figure(id, ws_proxy,\n",
       "                           ondownload,\n",
       "                           element.get(0));\n",
       "\n",
       "    // Call onopen now - mpl needs it, as it is assuming we've passed it a real\n",
       "    // web socket which is closed, not our websocket->open comm proxy.\n",
       "    ws_proxy.onopen();\n",
       "\n",
       "    fig.parent_element = element.get(0);\n",
       "    fig.cell_info = mpl.find_output_cell(\"<div id='\" + id + \"'></div>\");\n",
       "    if (!fig.cell_info) {\n",
       "        console.error(\"Failed to find cell for figure\", id, fig);\n",
       "        return;\n",
       "    }\n",
       "\n",
       "    var output_index = fig.cell_info[2]\n",
       "    var cell = fig.cell_info[0];\n",
       "\n",
       "};\n",
       "\n",
       "mpl.figure.prototype.handle_close = function(fig, msg) {\n",
       "    var width = fig.canvas.width/mpl.ratio\n",
       "    fig.root.unbind('remove')\n",
       "\n",
       "    // Update the output cell to use the data from the current canvas.\n",
       "    fig.push_to_output();\n",
       "    var dataURL = fig.canvas.toDataURL();\n",
       "    // Re-enable the keyboard manager in IPython - without this line, in FF,\n",
       "    // the notebook keyboard shortcuts fail.\n",
       "    IPython.keyboard_manager.enable()\n",
       "    $(fig.parent_element).html('<img src=\"' + dataURL + '\" width=\"' + width + '\">');\n",
       "    fig.close_ws(fig, msg);\n",
       "}\n",
       "\n",
       "mpl.figure.prototype.close_ws = function(fig, msg){\n",
       "    fig.send_message('closing', msg);\n",
       "    // fig.ws.close()\n",
       "}\n",
       "\n",
       "mpl.figure.prototype.push_to_output = function(remove_interactive) {\n",
       "    // Turn the data on the canvas into data in the output cell.\n",
       "    var width = this.canvas.width/mpl.ratio\n",
       "    var dataURL = this.canvas.toDataURL();\n",
       "    this.cell_info[1]['text/html'] = '<img src=\"' + dataURL + '\" width=\"' + width + '\">';\n",
       "}\n",
       "\n",
       "mpl.figure.prototype.updated_canvas_event = function() {\n",
       "    // Tell IPython that the notebook contents must change.\n",
       "    IPython.notebook.set_dirty(true);\n",
       "    this.send_message(\"ack\", {});\n",
       "    var fig = this;\n",
       "    // Wait a second, then push the new image to the DOM so\n",
       "    // that it is saved nicely (might be nice to debounce this).\n",
       "    setTimeout(function () { fig.push_to_output() }, 1000);\n",
       "}\n",
       "\n",
       "mpl.figure.prototype._init_toolbar = function() {\n",
       "    var fig = this;\n",
       "\n",
       "    var nav_element = $('<div/>');\n",
       "    nav_element.attr('style', 'width: 100%');\n",
       "    this.root.append(nav_element);\n",
       "\n",
       "    // Define a callback function for later on.\n",
       "    function toolbar_event(event) {\n",
       "        return fig.toolbar_button_onclick(event['data']);\n",
       "    }\n",
       "    function toolbar_mouse_event(event) {\n",
       "        return fig.toolbar_button_onmouseover(event['data']);\n",
       "    }\n",
       "\n",
       "    for(var toolbar_ind in mpl.toolbar_items){\n",
       "        var name = mpl.toolbar_items[toolbar_ind][0];\n",
       "        var tooltip = mpl.toolbar_items[toolbar_ind][1];\n",
       "        var image = mpl.toolbar_items[toolbar_ind][2];\n",
       "        var method_name = mpl.toolbar_items[toolbar_ind][3];\n",
       "\n",
       "        if (!name) { continue; };\n",
       "\n",
       "        var button = $('<button class=\"btn btn-default\" href=\"#\" title=\"' + name + '\"><i class=\"fa ' + image + ' fa-lg\"></i></button>');\n",
       "        button.click(method_name, toolbar_event);\n",
       "        button.mouseover(tooltip, toolbar_mouse_event);\n",
       "        nav_element.append(button);\n",
       "    }\n",
       "\n",
       "    // Add the status bar.\n",
       "    var status_bar = $('<span class=\"mpl-message\" style=\"text-align:right; float: right;\"/>');\n",
       "    nav_element.append(status_bar);\n",
       "    this.message = status_bar[0];\n",
       "\n",
       "    // Add the close button to the window.\n",
       "    var buttongrp = $('<div class=\"btn-group inline pull-right\"></div>');\n",
       "    var button = $('<button class=\"btn btn-mini btn-primary\" href=\"#\" title=\"Stop Interaction\"><i class=\"fa fa-power-off icon-remove icon-large\"></i></button>');\n",
       "    button.click(function (evt) { fig.handle_close(fig, {}); } );\n",
       "    button.mouseover('Stop Interaction', toolbar_mouse_event);\n",
       "    buttongrp.append(button);\n",
       "    var titlebar = this.root.find($('.ui-dialog-titlebar'));\n",
       "    titlebar.prepend(buttongrp);\n",
       "}\n",
       "\n",
       "mpl.figure.prototype._root_extra_style = function(el){\n",
       "    var fig = this\n",
       "    el.on(\"remove\", function(){\n",
       "\tfig.close_ws(fig, {});\n",
       "    });\n",
       "}\n",
       "\n",
       "mpl.figure.prototype._canvas_extra_style = function(el){\n",
       "    // this is important to make the div 'focusable\n",
       "    el.attr('tabindex', 0)\n",
       "    // reach out to IPython and tell the keyboard manager to turn it's self\n",
       "    // off when our div gets focus\n",
       "\n",
       "    // location in version 3\n",
       "    if (IPython.notebook.keyboard_manager) {\n",
       "        IPython.notebook.keyboard_manager.register_events(el);\n",
       "    }\n",
       "    else {\n",
       "        // location in version 2\n",
       "        IPython.keyboard_manager.register_events(el);\n",
       "    }\n",
       "\n",
       "}\n",
       "\n",
       "mpl.figure.prototype._key_event_extra = function(event, name) {\n",
       "    var manager = IPython.notebook.keyboard_manager;\n",
       "    if (!manager)\n",
       "        manager = IPython.keyboard_manager;\n",
       "\n",
       "    // Check for shift+enter\n",
       "    if (event.shiftKey && event.which == 13) {\n",
       "        this.canvas_div.blur();\n",
       "        // select the cell after this one\n",
       "        var index = IPython.notebook.find_cell_index(this.cell_info[0]);\n",
       "        IPython.notebook.select(index + 1);\n",
       "    }\n",
       "}\n",
       "\n",
       "mpl.figure.prototype.handle_save = function(fig, msg) {\n",
       "    fig.ondownload(fig, null);\n",
       "}\n",
       "\n",
       "\n",
       "mpl.find_output_cell = function(html_output) {\n",
       "    // Return the cell and output element which can be found *uniquely* in the notebook.\n",
       "    // Note - this is a bit hacky, but it is done because the \"notebook_saving.Notebook\"\n",
       "    // IPython event is triggered only after the cells have been serialised, which for\n",
       "    // our purposes (turning an active figure into a static one), is too late.\n",
       "    var cells = IPython.notebook.get_cells();\n",
       "    var ncells = cells.length;\n",
       "    for (var i=0; i<ncells; i++) {\n",
       "        var cell = cells[i];\n",
       "        if (cell.cell_type === 'code'){\n",
       "            for (var j=0; j<cell.output_area.outputs.length; j++) {\n",
       "                var data = cell.output_area.outputs[j];\n",
       "                if (data.data) {\n",
       "                    // IPython >= 3 moved mimebundle to data attribute of output\n",
       "                    data = data.data;\n",
       "                }\n",
       "                if (data['text/html'] == html_output) {\n",
       "                    return [cell, data, j];\n",
       "                }\n",
       "            }\n",
       "        }\n",
       "    }\n",
       "}\n",
       "\n",
       "// Register the function which deals with the matplotlib target/channel.\n",
       "// The kernel may be null if the page has been refreshed.\n",
       "if (IPython.notebook.kernel != null) {\n",
       "    IPython.notebook.kernel.comm_manager.register_target('matplotlib', mpl.mpl_figure_comm);\n",
       "}\n"
      ],
      "text/plain": [
       "<IPython.core.display.Javascript object>"
      ]
     },
     "metadata": {},
     "output_type": "display_data"
    },
    {
     "data": {
      "text/html": [
       "<img src=\"data:image/png;base64,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\" width=\"999.4166666666666\">"
      ],
      "text/plain": [
       "<IPython.core.display.HTML object>"
      ]
     },
     "metadata": {},
     "output_type": "display_data"
    }
   ],
   "source": [
    "fig, ax = plt.subplots(figsize=(10, 10))\n",
    "\n",
    "ax.set_facecolor('gray')\n",
    "plt.title(u'Diagrama cor-cor : sequência principal (catálogo BSC)', family='serif', fontsize=18)\n",
    "plt.xlabel('B-V', family='serif', fontsize=20)\n",
    "plt.ylabel('U-B', family='serif', fontsize=20)\n",
    "ax.grid(True, linestyle=':')\n",
    "\n",
    "for cls in 'OBAFGKM':\n",
    "    f = lambda s: s[0] == cls\n",
    "    b = main['SpType'].astype(str).map(f)\n",
    "    x = main[b]['B-V']\n",
    "    y = main[b]['U-B']\n",
    "    c = colors[cls]\n",
    "    plt.scatter(x, y, c = c, s=6, edgecolors='none', label = cls)\n",
    "\n",
    "legend = ax.legend(scatterpoints=1,markerscale = 6, shadow=True)\n",
    "frame = legend.get_frame()\n",
    "frame.set_facecolor('0.90')\n",
    "\n",
    "plt.savefig('Diagrama cor-cor - sequência principal (catálogo BSC) 1.png')"
   ]
  },
  {
   "cell_type": "markdown",
   "metadata": {
    "slideshow": {
     "slide_type": "subslide"
    }
   },
   "source": [
    "Nota-se que existem muito poucas estrelas da classe M, mas isso porque estamos considerando apenas aquelas visíveis a olho nu e elas estão obscurecidas. Na verdade, elas são as mais abundantes."
   ]
  },
  {
   "cell_type": "markdown",
   "metadata": {
    "slideshow": {
     "slide_type": "subslide"
    }
   },
   "source": [
    "### Diagrama cor-cor das estrelas gigantes"
   ]
  },
  {
   "cell_type": "markdown",
   "metadata": {
    "slideshow": {
     "slide_type": "-"
    }
   },
   "source": [
    "Veremos se existem estrelas anãs no BSC, entendidas como aquelas correspondentes às classes de luminosidade VI e VII."
   ]
  },
  {
   "cell_type": "code",
   "execution_count": 28,
   "metadata": {
    "slideshow": {
     "slide_type": "-"
    }
   },
   "outputs": [
    {
     "data": {
      "text/plain": [
       "(0, 12)"
      ]
     },
     "execution_count": 28,
     "metadata": {},
     "output_type": "execute_result"
    }
   ],
   "source": [
    "b = bsc['SpType'].str.contains('VI')\n",
    "bsc[b].shape"
   ]
  },
  {
   "cell_type": "markdown",
   "metadata": {
    "slideshow": {
     "slide_type": "subslide"
    }
   },
   "source": [
    "Vemos que não há estrelas desse tipo no catálogo do BSC, o que era de se esperar, pois é um catálogo de estrelas mais brilhantes do céu. Isso significa que não há valores \"VI\" ou VII\" no campo SpType, que serão levados em consideração ao fazer a seleção."
   ]
  },
  {
   "cell_type": "markdown",
   "metadata": {
    "slideshow": {
     "slide_type": "subslide"
    }
   },
   "source": [
    "Portanto, vamos incorporar ao gráfico as estrelas pertencentes às classes de brilho dos tipos gigantes:"
   ]
  },
  {
   "cell_type": "markdown",
   "metadata": {
    "slideshow": {
     "slide_type": "-"
    }
   },
   "source": [
    "- I : Supergigantes\n",
    "- II : Gigantes brilhantes \n",
    "- III : Gigantes normais\n",
    "- IV : Subgigantes"
   ]
  },
  {
   "cell_type": "markdown",
   "metadata": {
    "slideshow": {
     "slide_type": "subslide"
    }
   },
   "source": [
    "Vamos ver quantas estrelas existem dessas classes no BSC:"
   ]
  },
  {
   "cell_type": "code",
   "execution_count": 29,
   "metadata": {
    "slideshow": {
     "slide_type": "-"
    }
   },
   "outputs": [
    {
     "data": {
      "text/plain": [
       "(5161, 12)"
      ]
     },
     "execution_count": 29,
     "metadata": {},
     "output_type": "execute_result"
    }
   ],
   "source": [
    "b =  bsc['SpType'].str.contains('I')\n",
    "giants = bsc[b]\n",
    "giants.shape"
   ]
  },
  {
   "cell_type": "markdown",
   "metadata": {
    "slideshow": {
     "slide_type": "subslide"
    }
   },
   "source": [
    "E então vamos ver se novas classes espectrais aparecem entre elas, além do usual O, B, A, F, G, K, M : "
   ]
  },
  {
   "cell_type": "code",
   "execution_count": 30,
   "metadata": {
    "slideshow": {
     "slide_type": "-"
    }
   },
   "outputs": [
    {
     "data": {
      "text/plain": [
       "array(['K', 'G', 'B', 'F', 'M', 'A', 'O', 'S', 'C', 'W'], dtype=object)"
      ]
     },
     "execution_count": 30,
     "metadata": {},
     "output_type": "execute_result"
    }
   ],
   "source": [
    "giants['SpType'].map(lambda s:s[0]).unique()"
   ]
  },
  {
   "cell_type": "markdown",
   "metadata": {
    "slideshow": {
     "slide_type": "subslide"
    }
   },
   "source": [
    "Vemos que novas classes espectrais mais exóticas aparecem: W (estrelas azuis brilhantes que têm principalmente hélio em vez de hidrogênio em suas atmosferas), e as estrelas de carbono dos tipos C e S, gigantes e supergigantes vermelhas nas fases finais de sua evolução, então vamos expandir nosso dicionário de cores para acomodar esses novos tipos:"
   ]
  },
  {
   "cell_type": "code",
   "execution_count": 31,
   "metadata": {
    "slideshow": {
     "slide_type": "-"
    }
   },
   "outputs": [],
   "source": [
    "colors = {'O':'#0000FF', 'B':'#CCCCFF', 'A':'#FFFFFF', 'F':'#FFFFB2', 'G':'#FFFF00', 'K':'#FFA500', 'M':'#FF0000',\n",
    "          'W':'#000099' ,'S':'#B80000', 'C':'#780000'}"
   ]
  },
  {
   "cell_type": "markdown",
   "metadata": {
    "slideshow": {
     "slide_type": "subslide"
    }
   },
   "source": [
    "A seguir veremos qual é a incidência dos novos tipos W, S e C. No gráfico abaixo veremos que sua presença no BSC é muito escassa, e no caso de estrelas de carbono sua posição em um esquema de cor-cor está ocupando posições muito extremas (magnitudes muito altas e, portanto, baixa temperatura e cor vermelha intensa)."
   ]
  },
  {
   "cell_type": "code",
   "execution_count": 32,
   "metadata": {
    "slideshow": {
     "slide_type": "subslide"
    }
   },
   "outputs": [
    {
     "data": {
      "application/javascript": [
       "/* Put everything inside the global mpl namespace */\n",
       "window.mpl = {};\n",
       "\n",
       "\n",
       "mpl.get_websocket_type = function() {\n",
       "    if (typeof(WebSocket) !== 'undefined') {\n",
       "        return WebSocket;\n",
       "    } else if (typeof(MozWebSocket) !== 'undefined') {\n",
       "        return MozWebSocket;\n",
       "    } else {\n",
       "        alert('Your browser does not have WebSocket support. ' +\n",
       "              'Please try Chrome, Safari or Firefox ≥ 6. ' +\n",
       "              'Firefox 4 and 5 are also supported but you ' +\n",
       "              'have to enable WebSockets in about:config.');\n",
       "    };\n",
       "}\n",
       "\n",
       "mpl.figure = function(figure_id, websocket, ondownload, parent_element) {\n",
       "    this.id = figure_id;\n",
       "\n",
       "    this.ws = websocket;\n",
       "\n",
       "    this.supports_binary = (this.ws.binaryType != undefined);\n",
       "\n",
       "    if (!this.supports_binary) {\n",
       "        var warnings = document.getElementById(\"mpl-warnings\");\n",
       "        if (warnings) {\n",
       "            warnings.style.display = 'block';\n",
       "            warnings.textContent = (\n",
       "                \"This browser does not support binary websocket messages. \" +\n",
       "                    \"Performance may be slow.\");\n",
       "        }\n",
       "    }\n",
       "\n",
       "    this.imageObj = new Image();\n",
       "\n",
       "    this.context = undefined;\n",
       "    this.message = undefined;\n",
       "    this.canvas = undefined;\n",
       "    this.rubberband_canvas = undefined;\n",
       "    this.rubberband_context = undefined;\n",
       "    this.format_dropdown = undefined;\n",
       "\n",
       "    this.image_mode = 'full';\n",
       "\n",
       "    this.root = $('<div/>');\n",
       "    this._root_extra_style(this.root)\n",
       "    this.root.attr('style', 'display: inline-block');\n",
       "\n",
       "    $(parent_element).append(this.root);\n",
       "\n",
       "    this._init_header(this);\n",
       "    this._init_canvas(this);\n",
       "    this._init_toolbar(this);\n",
       "\n",
       "    var fig = this;\n",
       "\n",
       "    this.waiting = false;\n",
       "\n",
       "    this.ws.onopen =  function () {\n",
       "            fig.send_message(\"supports_binary\", {value: fig.supports_binary});\n",
       "            fig.send_message(\"send_image_mode\", {});\n",
       "            if (mpl.ratio != 1) {\n",
       "                fig.send_message(\"set_dpi_ratio\", {'dpi_ratio': mpl.ratio});\n",
       "            }\n",
       "            fig.send_message(\"refresh\", {});\n",
       "        }\n",
       "\n",
       "    this.imageObj.onload = function() {\n",
       "            if (fig.image_mode == 'full') {\n",
       "                // Full images could contain transparency (where diff images\n",
       "                // almost always do), so we need to clear the canvas so that\n",
       "                // there is no ghosting.\n",
       "                fig.context.clearRect(0, 0, fig.canvas.width, fig.canvas.height);\n",
       "            }\n",
       "            fig.context.drawImage(fig.imageObj, 0, 0);\n",
       "        };\n",
       "\n",
       "    this.imageObj.onunload = function() {\n",
       "        fig.ws.close();\n",
       "    }\n",
       "\n",
       "    this.ws.onmessage = this._make_on_message_function(this);\n",
       "\n",
       "    this.ondownload = ondownload;\n",
       "}\n",
       "\n",
       "mpl.figure.prototype._init_header = function() {\n",
       "    var titlebar = $(\n",
       "        '<div class=\"ui-dialog-titlebar ui-widget-header ui-corner-all ' +\n",
       "        'ui-helper-clearfix\"/>');\n",
       "    var titletext = $(\n",
       "        '<div class=\"ui-dialog-title\" style=\"width: 100%; ' +\n",
       "        'text-align: center; padding: 3px;\"/>');\n",
       "    titlebar.append(titletext)\n",
       "    this.root.append(titlebar);\n",
       "    this.header = titletext[0];\n",
       "}\n",
       "\n",
       "\n",
       "\n",
       "mpl.figure.prototype._canvas_extra_style = function(canvas_div) {\n",
       "\n",
       "}\n",
       "\n",
       "\n",
       "mpl.figure.prototype._root_extra_style = function(canvas_div) {\n",
       "\n",
       "}\n",
       "\n",
       "mpl.figure.prototype._init_canvas = function() {\n",
       "    var fig = this;\n",
       "\n",
       "    var canvas_div = $('<div/>');\n",
       "\n",
       "    canvas_div.attr('style', 'position: relative; clear: both; outline: 0');\n",
       "\n",
       "    function canvas_keyboard_event(event) {\n",
       "        return fig.key_event(event, event['data']);\n",
       "    }\n",
       "\n",
       "    canvas_div.keydown('key_press', canvas_keyboard_event);\n",
       "    canvas_div.keyup('key_release', canvas_keyboard_event);\n",
       "    this.canvas_div = canvas_div\n",
       "    this._canvas_extra_style(canvas_div)\n",
       "    this.root.append(canvas_div);\n",
       "\n",
       "    var canvas = $('<canvas/>');\n",
       "    canvas.addClass('mpl-canvas');\n",
       "    canvas.attr('style', \"left: 0; top: 0; z-index: 0; outline: 0\")\n",
       "\n",
       "    this.canvas = canvas[0];\n",
       "    this.context = canvas[0].getContext(\"2d\");\n",
       "\n",
       "    var backingStore = this.context.backingStorePixelRatio ||\n",
       "\tthis.context.webkitBackingStorePixelRatio ||\n",
       "\tthis.context.mozBackingStorePixelRatio ||\n",
       "\tthis.context.msBackingStorePixelRatio ||\n",
       "\tthis.context.oBackingStorePixelRatio ||\n",
       "\tthis.context.backingStorePixelRatio || 1;\n",
       "\n",
       "    mpl.ratio = (window.devicePixelRatio || 1) / backingStore;\n",
       "\n",
       "    var rubberband = $('<canvas/>');\n",
       "    rubberband.attr('style', \"position: absolute; left: 0; top: 0; z-index: 1;\")\n",
       "\n",
       "    var pass_mouse_events = true;\n",
       "\n",
       "    canvas_div.resizable({\n",
       "        start: function(event, ui) {\n",
       "            pass_mouse_events = false;\n",
       "        },\n",
       "        resize: function(event, ui) {\n",
       "            fig.request_resize(ui.size.width, ui.size.height);\n",
       "        },\n",
       "        stop: function(event, ui) {\n",
       "            pass_mouse_events = true;\n",
       "            fig.request_resize(ui.size.width, ui.size.height);\n",
       "        },\n",
       "    });\n",
       "\n",
       "    function mouse_event_fn(event) {\n",
       "        if (pass_mouse_events)\n",
       "            return fig.mouse_event(event, event['data']);\n",
       "    }\n",
       "\n",
       "    rubberband.mousedown('button_press', mouse_event_fn);\n",
       "    rubberband.mouseup('button_release', mouse_event_fn);\n",
       "    // Throttle sequential mouse events to 1 every 20ms.\n",
       "    rubberband.mousemove('motion_notify', mouse_event_fn);\n",
       "\n",
       "    rubberband.mouseenter('figure_enter', mouse_event_fn);\n",
       "    rubberband.mouseleave('figure_leave', mouse_event_fn);\n",
       "\n",
       "    canvas_div.on(\"wheel\", function (event) {\n",
       "        event = event.originalEvent;\n",
       "        event['data'] = 'scroll'\n",
       "        if (event.deltaY < 0) {\n",
       "            event.step = 1;\n",
       "        } else {\n",
       "            event.step = -1;\n",
       "        }\n",
       "        mouse_event_fn(event);\n",
       "    });\n",
       "\n",
       "    canvas_div.append(canvas);\n",
       "    canvas_div.append(rubberband);\n",
       "\n",
       "    this.rubberband = rubberband;\n",
       "    this.rubberband_canvas = rubberband[0];\n",
       "    this.rubberband_context = rubberband[0].getContext(\"2d\");\n",
       "    this.rubberband_context.strokeStyle = \"#000000\";\n",
       "\n",
       "    this._resize_canvas = function(width, height) {\n",
       "        // Keep the size of the canvas, canvas container, and rubber band\n",
       "        // canvas in synch.\n",
       "        canvas_div.css('width', width)\n",
       "        canvas_div.css('height', height)\n",
       "\n",
       "        canvas.attr('width', width * mpl.ratio);\n",
       "        canvas.attr('height', height * mpl.ratio);\n",
       "        canvas.attr('style', 'width: ' + width + 'px; height: ' + height + 'px;');\n",
       "\n",
       "        rubberband.attr('width', width);\n",
       "        rubberband.attr('height', height);\n",
       "    }\n",
       "\n",
       "    // Set the figure to an initial 600x600px, this will subsequently be updated\n",
       "    // upon first draw.\n",
       "    this._resize_canvas(600, 600);\n",
       "\n",
       "    // Disable right mouse context menu.\n",
       "    $(this.rubberband_canvas).bind(\"contextmenu\",function(e){\n",
       "        return false;\n",
       "    });\n",
       "\n",
       "    function set_focus () {\n",
       "        canvas.focus();\n",
       "        canvas_div.focus();\n",
       "    }\n",
       "\n",
       "    window.setTimeout(set_focus, 100);\n",
       "}\n",
       "\n",
       "mpl.figure.prototype._init_toolbar = function() {\n",
       "    var fig = this;\n",
       "\n",
       "    var nav_element = $('<div/>');\n",
       "    nav_element.attr('style', 'width: 100%');\n",
       "    this.root.append(nav_element);\n",
       "\n",
       "    // Define a callback function for later on.\n",
       "    function toolbar_event(event) {\n",
       "        return fig.toolbar_button_onclick(event['data']);\n",
       "    }\n",
       "    function toolbar_mouse_event(event) {\n",
       "        return fig.toolbar_button_onmouseover(event['data']);\n",
       "    }\n",
       "\n",
       "    for(var toolbar_ind in mpl.toolbar_items) {\n",
       "        var name = mpl.toolbar_items[toolbar_ind][0];\n",
       "        var tooltip = mpl.toolbar_items[toolbar_ind][1];\n",
       "        var image = mpl.toolbar_items[toolbar_ind][2];\n",
       "        var method_name = mpl.toolbar_items[toolbar_ind][3];\n",
       "\n",
       "        if (!name) {\n",
       "            // put a spacer in here.\n",
       "            continue;\n",
       "        }\n",
       "        var button = $('<button/>');\n",
       "        button.addClass('ui-button ui-widget ui-state-default ui-corner-all ' +\n",
       "                        'ui-button-icon-only');\n",
       "        button.attr('role', 'button');\n",
       "        button.attr('aria-disabled', 'false');\n",
       "        button.click(method_name, toolbar_event);\n",
       "        button.mouseover(tooltip, toolbar_mouse_event);\n",
       "\n",
       "        var icon_img = $('<span/>');\n",
       "        icon_img.addClass('ui-button-icon-primary ui-icon');\n",
       "        icon_img.addClass(image);\n",
       "        icon_img.addClass('ui-corner-all');\n",
       "\n",
       "        var tooltip_span = $('<span/>');\n",
       "        tooltip_span.addClass('ui-button-text');\n",
       "        tooltip_span.html(tooltip);\n",
       "\n",
       "        button.append(icon_img);\n",
       "        button.append(tooltip_span);\n",
       "\n",
       "        nav_element.append(button);\n",
       "    }\n",
       "\n",
       "    var fmt_picker_span = $('<span/>');\n",
       "\n",
       "    var fmt_picker = $('<select/>');\n",
       "    fmt_picker.addClass('mpl-toolbar-option ui-widget ui-widget-content');\n",
       "    fmt_picker_span.append(fmt_picker);\n",
       "    nav_element.append(fmt_picker_span);\n",
       "    this.format_dropdown = fmt_picker[0];\n",
       "\n",
       "    for (var ind in mpl.extensions) {\n",
       "        var fmt = mpl.extensions[ind];\n",
       "        var option = $(\n",
       "            '<option/>', {selected: fmt === mpl.default_extension}).html(fmt);\n",
       "        fmt_picker.append(option);\n",
       "    }\n",
       "\n",
       "    // Add hover states to the ui-buttons\n",
       "    $( \".ui-button\" ).hover(\n",
       "        function() { $(this).addClass(\"ui-state-hover\");},\n",
       "        function() { $(this).removeClass(\"ui-state-hover\");}\n",
       "    );\n",
       "\n",
       "    var status_bar = $('<span class=\"mpl-message\"/>');\n",
       "    nav_element.append(status_bar);\n",
       "    this.message = status_bar[0];\n",
       "}\n",
       "\n",
       "mpl.figure.prototype.request_resize = function(x_pixels, y_pixels) {\n",
       "    // Request matplotlib to resize the figure. Matplotlib will then trigger a resize in the client,\n",
       "    // which will in turn request a refresh of the image.\n",
       "    this.send_message('resize', {'width': x_pixels, 'height': y_pixels});\n",
       "}\n",
       "\n",
       "mpl.figure.prototype.send_message = function(type, properties) {\n",
       "    properties['type'] = type;\n",
       "    properties['figure_id'] = this.id;\n",
       "    this.ws.send(JSON.stringify(properties));\n",
       "}\n",
       "\n",
       "mpl.figure.prototype.send_draw_message = function() {\n",
       "    if (!this.waiting) {\n",
       "        this.waiting = true;\n",
       "        this.ws.send(JSON.stringify({type: \"draw\", figure_id: this.id}));\n",
       "    }\n",
       "}\n",
       "\n",
       "\n",
       "mpl.figure.prototype.handle_save = function(fig, msg) {\n",
       "    var format_dropdown = fig.format_dropdown;\n",
       "    var format = format_dropdown.options[format_dropdown.selectedIndex].value;\n",
       "    fig.ondownload(fig, format);\n",
       "}\n",
       "\n",
       "\n",
       "mpl.figure.prototype.handle_resize = function(fig, msg) {\n",
       "    var size = msg['size'];\n",
       "    if (size[0] != fig.canvas.width || size[1] != fig.canvas.height) {\n",
       "        fig._resize_canvas(size[0], size[1]);\n",
       "        fig.send_message(\"refresh\", {});\n",
       "    };\n",
       "}\n",
       "\n",
       "mpl.figure.prototype.handle_rubberband = function(fig, msg) {\n",
       "    var x0 = msg['x0'] / mpl.ratio;\n",
       "    var y0 = (fig.canvas.height - msg['y0']) / mpl.ratio;\n",
       "    var x1 = msg['x1'] / mpl.ratio;\n",
       "    var y1 = (fig.canvas.height - msg['y1']) / mpl.ratio;\n",
       "    x0 = Math.floor(x0) + 0.5;\n",
       "    y0 = Math.floor(y0) + 0.5;\n",
       "    x1 = Math.floor(x1) + 0.5;\n",
       "    y1 = Math.floor(y1) + 0.5;\n",
       "    var min_x = Math.min(x0, x1);\n",
       "    var min_y = Math.min(y0, y1);\n",
       "    var width = Math.abs(x1 - x0);\n",
       "    var height = Math.abs(y1 - y0);\n",
       "\n",
       "    fig.rubberband_context.clearRect(\n",
       "        0, 0, fig.canvas.width / mpl.ratio, fig.canvas.height / mpl.ratio);\n",
       "\n",
       "    fig.rubberband_context.strokeRect(min_x, min_y, width, height);\n",
       "}\n",
       "\n",
       "mpl.figure.prototype.handle_figure_label = function(fig, msg) {\n",
       "    // Updates the figure title.\n",
       "    fig.header.textContent = msg['label'];\n",
       "}\n",
       "\n",
       "mpl.figure.prototype.handle_cursor = function(fig, msg) {\n",
       "    var cursor = msg['cursor'];\n",
       "    switch(cursor)\n",
       "    {\n",
       "    case 0:\n",
       "        cursor = 'pointer';\n",
       "        break;\n",
       "    case 1:\n",
       "        cursor = 'default';\n",
       "        break;\n",
       "    case 2:\n",
       "        cursor = 'crosshair';\n",
       "        break;\n",
       "    case 3:\n",
       "        cursor = 'move';\n",
       "        break;\n",
       "    }\n",
       "    fig.rubberband_canvas.style.cursor = cursor;\n",
       "}\n",
       "\n",
       "mpl.figure.prototype.handle_message = function(fig, msg) {\n",
       "    fig.message.textContent = msg['message'];\n",
       "}\n",
       "\n",
       "mpl.figure.prototype.handle_draw = function(fig, msg) {\n",
       "    // Request the server to send over a new figure.\n",
       "    fig.send_draw_message();\n",
       "}\n",
       "\n",
       "mpl.figure.prototype.handle_image_mode = function(fig, msg) {\n",
       "    fig.image_mode = msg['mode'];\n",
       "}\n",
       "\n",
       "mpl.figure.prototype.updated_canvas_event = function() {\n",
       "    // Called whenever the canvas gets updated.\n",
       "    this.send_message(\"ack\", {});\n",
       "}\n",
       "\n",
       "// A function to construct a web socket function for onmessage handling.\n",
       "// Called in the figure constructor.\n",
       "mpl.figure.prototype._make_on_message_function = function(fig) {\n",
       "    return function socket_on_message(evt) {\n",
       "        if (evt.data instanceof Blob) {\n",
       "            /* FIXME: We get \"Resource interpreted as Image but\n",
       "             * transferred with MIME type text/plain:\" errors on\n",
       "             * Chrome.  But how to set the MIME type?  It doesn't seem\n",
       "             * to be part of the websocket stream */\n",
       "            evt.data.type = \"image/png\";\n",
       "\n",
       "            /* Free the memory for the previous frames */\n",
       "            if (fig.imageObj.src) {\n",
       "                (window.URL || window.webkitURL).revokeObjectURL(\n",
       "                    fig.imageObj.src);\n",
       "            }\n",
       "\n",
       "            fig.imageObj.src = (window.URL || window.webkitURL).createObjectURL(\n",
       "                evt.data);\n",
       "            fig.updated_canvas_event();\n",
       "            fig.waiting = false;\n",
       "            return;\n",
       "        }\n",
       "        else if (typeof evt.data === 'string' && evt.data.slice(0, 21) == \"data:image/png;base64\") {\n",
       "            fig.imageObj.src = evt.data;\n",
       "            fig.updated_canvas_event();\n",
       "            fig.waiting = false;\n",
       "            return;\n",
       "        }\n",
       "\n",
       "        var msg = JSON.parse(evt.data);\n",
       "        var msg_type = msg['type'];\n",
       "\n",
       "        // Call the  \"handle_{type}\" callback, which takes\n",
       "        // the figure and JSON message as its only arguments.\n",
       "        try {\n",
       "            var callback = fig[\"handle_\" + msg_type];\n",
       "        } catch (e) {\n",
       "            console.log(\"No handler for the '\" + msg_type + \"' message type: \", msg);\n",
       "            return;\n",
       "        }\n",
       "\n",
       "        if (callback) {\n",
       "            try {\n",
       "                // console.log(\"Handling '\" + msg_type + \"' message: \", msg);\n",
       "                callback(fig, msg);\n",
       "            } catch (e) {\n",
       "                console.log(\"Exception inside the 'handler_\" + msg_type + \"' callback:\", e, e.stack, msg);\n",
       "            }\n",
       "        }\n",
       "    };\n",
       "}\n",
       "\n",
       "// from http://stackoverflow.com/questions/1114465/getting-mouse-location-in-canvas\n",
       "mpl.findpos = function(e) {\n",
       "    //this section is from http://www.quirksmode.org/js/events_properties.html\n",
       "    var targ;\n",
       "    if (!e)\n",
       "        e = window.event;\n",
       "    if (e.target)\n",
       "        targ = e.target;\n",
       "    else if (e.srcElement)\n",
       "        targ = e.srcElement;\n",
       "    if (targ.nodeType == 3) // defeat Safari bug\n",
       "        targ = targ.parentNode;\n",
       "\n",
       "    // jQuery normalizes the pageX and pageY\n",
       "    // pageX,Y are the mouse positions relative to the document\n",
       "    // offset() returns the position of the element relative to the document\n",
       "    var x = e.pageX - $(targ).offset().left;\n",
       "    var y = e.pageY - $(targ).offset().top;\n",
       "\n",
       "    return {\"x\": x, \"y\": y};\n",
       "};\n",
       "\n",
       "/*\n",
       " * return a copy of an object with only non-object keys\n",
       " * we need this to avoid circular references\n",
       " * http://stackoverflow.com/a/24161582/3208463\n",
       " */\n",
       "function simpleKeys (original) {\n",
       "  return Object.keys(original).reduce(function (obj, key) {\n",
       "    if (typeof original[key] !== 'object')\n",
       "        obj[key] = original[key]\n",
       "    return obj;\n",
       "  }, {});\n",
       "}\n",
       "\n",
       "mpl.figure.prototype.mouse_event = function(event, name) {\n",
       "    var canvas_pos = mpl.findpos(event)\n",
       "\n",
       "    if (name === 'button_press')\n",
       "    {\n",
       "        this.canvas.focus();\n",
       "        this.canvas_div.focus();\n",
       "    }\n",
       "\n",
       "    var x = canvas_pos.x * mpl.ratio;\n",
       "    var y = canvas_pos.y * mpl.ratio;\n",
       "\n",
       "    this.send_message(name, {x: x, y: y, button: event.button,\n",
       "                             step: event.step,\n",
       "                             guiEvent: simpleKeys(event)});\n",
       "\n",
       "    /* This prevents the web browser from automatically changing to\n",
       "     * the text insertion cursor when the button is pressed.  We want\n",
       "     * to control all of the cursor setting manually through the\n",
       "     * 'cursor' event from matplotlib */\n",
       "    event.preventDefault();\n",
       "    return false;\n",
       "}\n",
       "\n",
       "mpl.figure.prototype._key_event_extra = function(event, name) {\n",
       "    // Handle any extra behaviour associated with a key event\n",
       "}\n",
       "\n",
       "mpl.figure.prototype.key_event = function(event, name) {\n",
       "\n",
       "    // Prevent repeat events\n",
       "    if (name == 'key_press')\n",
       "    {\n",
       "        if (event.which === this._key)\n",
       "            return;\n",
       "        else\n",
       "            this._key = event.which;\n",
       "    }\n",
       "    if (name == 'key_release')\n",
       "        this._key = null;\n",
       "\n",
       "    var value = '';\n",
       "    if (event.ctrlKey && event.which != 17)\n",
       "        value += \"ctrl+\";\n",
       "    if (event.altKey && event.which != 18)\n",
       "        value += \"alt+\";\n",
       "    if (event.shiftKey && event.which != 16)\n",
       "        value += \"shift+\";\n",
       "\n",
       "    value += 'k';\n",
       "    value += event.which.toString();\n",
       "\n",
       "    this._key_event_extra(event, name);\n",
       "\n",
       "    this.send_message(name, {key: value,\n",
       "                             guiEvent: simpleKeys(event)});\n",
       "    return false;\n",
       "}\n",
       "\n",
       "mpl.figure.prototype.toolbar_button_onclick = function(name) {\n",
       "    if (name == 'download') {\n",
       "        this.handle_save(this, null);\n",
       "    } else {\n",
       "        this.send_message(\"toolbar_button\", {name: name});\n",
       "    }\n",
       "};\n",
       "\n",
       "mpl.figure.prototype.toolbar_button_onmouseover = function(tooltip) {\n",
       "    this.message.textContent = tooltip;\n",
       "};\n",
       "mpl.toolbar_items = [[\"Home\", \"Reset original view\", \"fa fa-home icon-home\", \"home\"], [\"Back\", \"Back to previous view\", \"fa fa-arrow-left icon-arrow-left\", \"back\"], [\"Forward\", \"Forward to next view\", \"fa fa-arrow-right icon-arrow-right\", \"forward\"], [\"\", \"\", \"\", \"\"], [\"Pan\", \"Pan axes with left mouse, zoom with right\", \"fa fa-arrows icon-move\", \"pan\"], [\"Zoom\", \"Zoom to rectangle\", \"fa fa-square-o icon-check-empty\", \"zoom\"], [\"\", \"\", \"\", \"\"], [\"Download\", \"Download plot\", \"fa fa-floppy-o icon-save\", \"download\"]];\n",
       "\n",
       "mpl.extensions = [\"eps\", \"jpeg\", \"pdf\", \"png\", \"ps\", \"raw\", \"svg\", \"tif\"];\n",
       "\n",
       "mpl.default_extension = \"png\";var comm_websocket_adapter = function(comm) {\n",
       "    // Create a \"websocket\"-like object which calls the given IPython comm\n",
       "    // object with the appropriate methods. Currently this is a non binary\n",
       "    // socket, so there is still some room for performance tuning.\n",
       "    var ws = {};\n",
       "\n",
       "    ws.close = function() {\n",
       "        comm.close()\n",
       "    };\n",
       "    ws.send = function(m) {\n",
       "        //console.log('sending', m);\n",
       "        comm.send(m);\n",
       "    };\n",
       "    // Register the callback with on_msg.\n",
       "    comm.on_msg(function(msg) {\n",
       "        //console.log('receiving', msg['content']['data'], msg);\n",
       "        // Pass the mpl event to the overridden (by mpl) onmessage function.\n",
       "        ws.onmessage(msg['content']['data'])\n",
       "    });\n",
       "    return ws;\n",
       "}\n",
       "\n",
       "mpl.mpl_figure_comm = function(comm, msg) {\n",
       "    // This is the function which gets called when the mpl process\n",
       "    // starts-up an IPython Comm through the \"matplotlib\" channel.\n",
       "\n",
       "    var id = msg.content.data.id;\n",
       "    // Get hold of the div created by the display call when the Comm\n",
       "    // socket was opened in Python.\n",
       "    var element = $(\"#\" + id);\n",
       "    var ws_proxy = comm_websocket_adapter(comm)\n",
       "\n",
       "    function ondownload(figure, format) {\n",
       "        window.open(figure.imageObj.src);\n",
       "    }\n",
       "\n",
       "    var fig = new mpl.figure(id, ws_proxy,\n",
       "                           ondownload,\n",
       "                           element.get(0));\n",
       "\n",
       "    // Call onopen now - mpl needs it, as it is assuming we've passed it a real\n",
       "    // web socket which is closed, not our websocket->open comm proxy.\n",
       "    ws_proxy.onopen();\n",
       "\n",
       "    fig.parent_element = element.get(0);\n",
       "    fig.cell_info = mpl.find_output_cell(\"<div id='\" + id + \"'></div>\");\n",
       "    if (!fig.cell_info) {\n",
       "        console.error(\"Failed to find cell for figure\", id, fig);\n",
       "        return;\n",
       "    }\n",
       "\n",
       "    var output_index = fig.cell_info[2]\n",
       "    var cell = fig.cell_info[0];\n",
       "\n",
       "};\n",
       "\n",
       "mpl.figure.prototype.handle_close = function(fig, msg) {\n",
       "    var width = fig.canvas.width/mpl.ratio\n",
       "    fig.root.unbind('remove')\n",
       "\n",
       "    // Update the output cell to use the data from the current canvas.\n",
       "    fig.push_to_output();\n",
       "    var dataURL = fig.canvas.toDataURL();\n",
       "    // Re-enable the keyboard manager in IPython - without this line, in FF,\n",
       "    // the notebook keyboard shortcuts fail.\n",
       "    IPython.keyboard_manager.enable()\n",
       "    $(fig.parent_element).html('<img src=\"' + dataURL + '\" width=\"' + width + '\">');\n",
       "    fig.close_ws(fig, msg);\n",
       "}\n",
       "\n",
       "mpl.figure.prototype.close_ws = function(fig, msg){\n",
       "    fig.send_message('closing', msg);\n",
       "    // fig.ws.close()\n",
       "}\n",
       "\n",
       "mpl.figure.prototype.push_to_output = function(remove_interactive) {\n",
       "    // Turn the data on the canvas into data in the output cell.\n",
       "    var width = this.canvas.width/mpl.ratio\n",
       "    var dataURL = this.canvas.toDataURL();\n",
       "    this.cell_info[1]['text/html'] = '<img src=\"' + dataURL + '\" width=\"' + width + '\">';\n",
       "}\n",
       "\n",
       "mpl.figure.prototype.updated_canvas_event = function() {\n",
       "    // Tell IPython that the notebook contents must change.\n",
       "    IPython.notebook.set_dirty(true);\n",
       "    this.send_message(\"ack\", {});\n",
       "    var fig = this;\n",
       "    // Wait a second, then push the new image to the DOM so\n",
       "    // that it is saved nicely (might be nice to debounce this).\n",
       "    setTimeout(function () { fig.push_to_output() }, 1000);\n",
       "}\n",
       "\n",
       "mpl.figure.prototype._init_toolbar = function() {\n",
       "    var fig = this;\n",
       "\n",
       "    var nav_element = $('<div/>');\n",
       "    nav_element.attr('style', 'width: 100%');\n",
       "    this.root.append(nav_element);\n",
       "\n",
       "    // Define a callback function for later on.\n",
       "    function toolbar_event(event) {\n",
       "        return fig.toolbar_button_onclick(event['data']);\n",
       "    }\n",
       "    function toolbar_mouse_event(event) {\n",
       "        return fig.toolbar_button_onmouseover(event['data']);\n",
       "    }\n",
       "\n",
       "    for(var toolbar_ind in mpl.toolbar_items){\n",
       "        var name = mpl.toolbar_items[toolbar_ind][0];\n",
       "        var tooltip = mpl.toolbar_items[toolbar_ind][1];\n",
       "        var image = mpl.toolbar_items[toolbar_ind][2];\n",
       "        var method_name = mpl.toolbar_items[toolbar_ind][3];\n",
       "\n",
       "        if (!name) { continue; };\n",
       "\n",
       "        var button = $('<button class=\"btn btn-default\" href=\"#\" title=\"' + name + '\"><i class=\"fa ' + image + ' fa-lg\"></i></button>');\n",
       "        button.click(method_name, toolbar_event);\n",
       "        button.mouseover(tooltip, toolbar_mouse_event);\n",
       "        nav_element.append(button);\n",
       "    }\n",
       "\n",
       "    // Add the status bar.\n",
       "    var status_bar = $('<span class=\"mpl-message\" style=\"text-align:right; float: right;\"/>');\n",
       "    nav_element.append(status_bar);\n",
       "    this.message = status_bar[0];\n",
       "\n",
       "    // Add the close button to the window.\n",
       "    var buttongrp = $('<div class=\"btn-group inline pull-right\"></div>');\n",
       "    var button = $('<button class=\"btn btn-mini btn-primary\" href=\"#\" title=\"Stop Interaction\"><i class=\"fa fa-power-off icon-remove icon-large\"></i></button>');\n",
       "    button.click(function (evt) { fig.handle_close(fig, {}); } );\n",
       "    button.mouseover('Stop Interaction', toolbar_mouse_event);\n",
       "    buttongrp.append(button);\n",
       "    var titlebar = this.root.find($('.ui-dialog-titlebar'));\n",
       "    titlebar.prepend(buttongrp);\n",
       "}\n",
       "\n",
       "mpl.figure.prototype._root_extra_style = function(el){\n",
       "    var fig = this\n",
       "    el.on(\"remove\", function(){\n",
       "\tfig.close_ws(fig, {});\n",
       "    });\n",
       "}\n",
       "\n",
       "mpl.figure.prototype._canvas_extra_style = function(el){\n",
       "    // this is important to make the div 'focusable\n",
       "    el.attr('tabindex', 0)\n",
       "    // reach out to IPython and tell the keyboard manager to turn it's self\n",
       "    // off when our div gets focus\n",
       "\n",
       "    // location in version 3\n",
       "    if (IPython.notebook.keyboard_manager) {\n",
       "        IPython.notebook.keyboard_manager.register_events(el);\n",
       "    }\n",
       "    else {\n",
       "        // location in version 2\n",
       "        IPython.keyboard_manager.register_events(el);\n",
       "    }\n",
       "\n",
       "}\n",
       "\n",
       "mpl.figure.prototype._key_event_extra = function(event, name) {\n",
       "    var manager = IPython.notebook.keyboard_manager;\n",
       "    if (!manager)\n",
       "        manager = IPython.keyboard_manager;\n",
       "\n",
       "    // Check for shift+enter\n",
       "    if (event.shiftKey && event.which == 13) {\n",
       "        this.canvas_div.blur();\n",
       "        // select the cell after this one\n",
       "        var index = IPython.notebook.find_cell_index(this.cell_info[0]);\n",
       "        IPython.notebook.select(index + 1);\n",
       "    }\n",
       "}\n",
       "\n",
       "mpl.figure.prototype.handle_save = function(fig, msg) {\n",
       "    fig.ondownload(fig, null);\n",
       "}\n",
       "\n",
       "\n",
       "mpl.find_output_cell = function(html_output) {\n",
       "    // Return the cell and output element which can be found *uniquely* in the notebook.\n",
       "    // Note - this is a bit hacky, but it is done because the \"notebook_saving.Notebook\"\n",
       "    // IPython event is triggered only after the cells have been serialised, which for\n",
       "    // our purposes (turning an active figure into a static one), is too late.\n",
       "    var cells = IPython.notebook.get_cells();\n",
       "    var ncells = cells.length;\n",
       "    for (var i=0; i<ncells; i++) {\n",
       "        var cell = cells[i];\n",
       "        if (cell.cell_type === 'code'){\n",
       "            for (var j=0; j<cell.output_area.outputs.length; j++) {\n",
       "                var data = cell.output_area.outputs[j];\n",
       "                if (data.data) {\n",
       "                    // IPython >= 3 moved mimebundle to data attribute of output\n",
       "                    data = data.data;\n",
       "                }\n",
       "                if (data['text/html'] == html_output) {\n",
       "                    return [cell, data, j];\n",
       "                }\n",
       "            }\n",
       "        }\n",
       "    }\n",
       "}\n",
       "\n",
       "// Register the function which deals with the matplotlib target/channel.\n",
       "// The kernel may be null if the page has been refreshed.\n",
       "if (IPython.notebook.kernel != null) {\n",
       "    IPython.notebook.kernel.comm_manager.register_target('matplotlib', mpl.mpl_figure_comm);\n",
       "}\n"
      ],
      "text/plain": [
       "<IPython.core.display.Javascript object>"
      ]
     },
     "metadata": {},
     "output_type": "display_data"
    },
    {
     "data": {
      "text/html": [
       "<img src=\"data:image/png;base64,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\" width=\"999.4166666666666\">"
      ],
      "text/plain": [
       "<IPython.core.display.HTML object>"
      ]
     },
     "metadata": {},
     "output_type": "display_data"
    }
   ],
   "source": [
    "fig, ax = plt.subplots(figsize=(10, 10))\n",
    "\n",
    "ax.set_facecolor('gray')\n",
    "ax.grid(True, linestyle=':')\n",
    "ax.set_title(u'Diagrama cor-cor : sequência principal (catálogo BSC)', family='serif', fontsize=18)\n",
    "plt.xlabel('B-V', family='serif', fontsize=20)\n",
    "plt.ylabel('U-B', family='serif', fontsize=20)\n",
    "ax.yaxis.label.set_fontsize(20)\n",
    "\n",
    "for cls in 'WSC':\n",
    "    f = lambda s: s[0] == cls\n",
    "    b = giants['SpType'].astype(str).map(f)\n",
    "    x = giants[b]['B-V']\n",
    "    y = giants[b]['U-B']\n",
    "    c = colors[cls]\n",
    "    ax.scatter(x, y, c = c, s=30,\n",
    "               edgecolors='None', label = cls)\n",
    "\n",
    "legend = ax.legend(scatterpoints=1,markerscale = 2, shadow=True)\n",
    "frame = legend.get_frame()\n",
    "frame.set_facecolor('0.90')\n",
    "plt.savefig('Diagrama cor-cor - sequência principal (catálogo BSC) 2.png')"
   ]
  },
  {
   "cell_type": "markdown",
   "metadata": {
    "slideshow": {
     "slide_type": "subslide"
    }
   },
   "source": [
    "Dada a escassez de estrelas das classes W, S e C no catálogo do BSC, uma vez que vimos onde estão localizadas nos gráficos cor-cor, vamos omitir sua representação, pois sua inclusão alteraria muito a escala dos eixos. A seguir geraremos um gráfico no qual iremos sobrepor as estrelas da sequência principal e as gigantes, com exceção dos tipos W, S e C. Para diferenciá-las, agora serão representadas as estrelas da sequência principal com pequenos pontos pretos, enquanto estrelas gigantes (tipos I, II, III e IV) serão exibidas com cores convencionais e discos semitransparentes."
   ]
  },
  {
   "cell_type": "code",
   "execution_count": 33,
   "metadata": {
    "slideshow": {
     "slide_type": "subslide"
    }
   },
   "outputs": [
    {
     "data": {
      "application/javascript": [
       "/* Put everything inside the global mpl namespace */\n",
       "window.mpl = {};\n",
       "\n",
       "\n",
       "mpl.get_websocket_type = function() {\n",
       "    if (typeof(WebSocket) !== 'undefined') {\n",
       "        return WebSocket;\n",
       "    } else if (typeof(MozWebSocket) !== 'undefined') {\n",
       "        return MozWebSocket;\n",
       "    } else {\n",
       "        alert('Your browser does not have WebSocket support. ' +\n",
       "              'Please try Chrome, Safari or Firefox ≥ 6. ' +\n",
       "              'Firefox 4 and 5 are also supported but you ' +\n",
       "              'have to enable WebSockets in about:config.');\n",
       "    };\n",
       "}\n",
       "\n",
       "mpl.figure = function(figure_id, websocket, ondownload, parent_element) {\n",
       "    this.id = figure_id;\n",
       "\n",
       "    this.ws = websocket;\n",
       "\n",
       "    this.supports_binary = (this.ws.binaryType != undefined);\n",
       "\n",
       "    if (!this.supports_binary) {\n",
       "        var warnings = document.getElementById(\"mpl-warnings\");\n",
       "        if (warnings) {\n",
       "            warnings.style.display = 'block';\n",
       "            warnings.textContent = (\n",
       "                \"This browser does not support binary websocket messages. \" +\n",
       "                    \"Performance may be slow.\");\n",
       "        }\n",
       "    }\n",
       "\n",
       "    this.imageObj = new Image();\n",
       "\n",
       "    this.context = undefined;\n",
       "    this.message = undefined;\n",
       "    this.canvas = undefined;\n",
       "    this.rubberband_canvas = undefined;\n",
       "    this.rubberband_context = undefined;\n",
       "    this.format_dropdown = undefined;\n",
       "\n",
       "    this.image_mode = 'full';\n",
       "\n",
       "    this.root = $('<div/>');\n",
       "    this._root_extra_style(this.root)\n",
       "    this.root.attr('style', 'display: inline-block');\n",
       "\n",
       "    $(parent_element).append(this.root);\n",
       "\n",
       "    this._init_header(this);\n",
       "    this._init_canvas(this);\n",
       "    this._init_toolbar(this);\n",
       "\n",
       "    var fig = this;\n",
       "\n",
       "    this.waiting = false;\n",
       "\n",
       "    this.ws.onopen =  function () {\n",
       "            fig.send_message(\"supports_binary\", {value: fig.supports_binary});\n",
       "            fig.send_message(\"send_image_mode\", {});\n",
       "            if (mpl.ratio != 1) {\n",
       "                fig.send_message(\"set_dpi_ratio\", {'dpi_ratio': mpl.ratio});\n",
       "            }\n",
       "            fig.send_message(\"refresh\", {});\n",
       "        }\n",
       "\n",
       "    this.imageObj.onload = function() {\n",
       "            if (fig.image_mode == 'full') {\n",
       "                // Full images could contain transparency (where diff images\n",
       "                // almost always do), so we need to clear the canvas so that\n",
       "                // there is no ghosting.\n",
       "                fig.context.clearRect(0, 0, fig.canvas.width, fig.canvas.height);\n",
       "            }\n",
       "            fig.context.drawImage(fig.imageObj, 0, 0);\n",
       "        };\n",
       "\n",
       "    this.imageObj.onunload = function() {\n",
       "        fig.ws.close();\n",
       "    }\n",
       "\n",
       "    this.ws.onmessage = this._make_on_message_function(this);\n",
       "\n",
       "    this.ondownload = ondownload;\n",
       "}\n",
       "\n",
       "mpl.figure.prototype._init_header = function() {\n",
       "    var titlebar = $(\n",
       "        '<div class=\"ui-dialog-titlebar ui-widget-header ui-corner-all ' +\n",
       "        'ui-helper-clearfix\"/>');\n",
       "    var titletext = $(\n",
       "        '<div class=\"ui-dialog-title\" style=\"width: 100%; ' +\n",
       "        'text-align: center; padding: 3px;\"/>');\n",
       "    titlebar.append(titletext)\n",
       "    this.root.append(titlebar);\n",
       "    this.header = titletext[0];\n",
       "}\n",
       "\n",
       "\n",
       "\n",
       "mpl.figure.prototype._canvas_extra_style = function(canvas_div) {\n",
       "\n",
       "}\n",
       "\n",
       "\n",
       "mpl.figure.prototype._root_extra_style = function(canvas_div) {\n",
       "\n",
       "}\n",
       "\n",
       "mpl.figure.prototype._init_canvas = function() {\n",
       "    var fig = this;\n",
       "\n",
       "    var canvas_div = $('<div/>');\n",
       "\n",
       "    canvas_div.attr('style', 'position: relative; clear: both; outline: 0');\n",
       "\n",
       "    function canvas_keyboard_event(event) {\n",
       "        return fig.key_event(event, event['data']);\n",
       "    }\n",
       "\n",
       "    canvas_div.keydown('key_press', canvas_keyboard_event);\n",
       "    canvas_div.keyup('key_release', canvas_keyboard_event);\n",
       "    this.canvas_div = canvas_div\n",
       "    this._canvas_extra_style(canvas_div)\n",
       "    this.root.append(canvas_div);\n",
       "\n",
       "    var canvas = $('<canvas/>');\n",
       "    canvas.addClass('mpl-canvas');\n",
       "    canvas.attr('style', \"left: 0; top: 0; z-index: 0; outline: 0\")\n",
       "\n",
       "    this.canvas = canvas[0];\n",
       "    this.context = canvas[0].getContext(\"2d\");\n",
       "\n",
       "    var backingStore = this.context.backingStorePixelRatio ||\n",
       "\tthis.context.webkitBackingStorePixelRatio ||\n",
       "\tthis.context.mozBackingStorePixelRatio ||\n",
       "\tthis.context.msBackingStorePixelRatio ||\n",
       "\tthis.context.oBackingStorePixelRatio ||\n",
       "\tthis.context.backingStorePixelRatio || 1;\n",
       "\n",
       "    mpl.ratio = (window.devicePixelRatio || 1) / backingStore;\n",
       "\n",
       "    var rubberband = $('<canvas/>');\n",
       "    rubberband.attr('style', \"position: absolute; left: 0; top: 0; z-index: 1;\")\n",
       "\n",
       "    var pass_mouse_events = true;\n",
       "\n",
       "    canvas_div.resizable({\n",
       "        start: function(event, ui) {\n",
       "            pass_mouse_events = false;\n",
       "        },\n",
       "        resize: function(event, ui) {\n",
       "            fig.request_resize(ui.size.width, ui.size.height);\n",
       "        },\n",
       "        stop: function(event, ui) {\n",
       "            pass_mouse_events = true;\n",
       "            fig.request_resize(ui.size.width, ui.size.height);\n",
       "        },\n",
       "    });\n",
       "\n",
       "    function mouse_event_fn(event) {\n",
       "        if (pass_mouse_events)\n",
       "            return fig.mouse_event(event, event['data']);\n",
       "    }\n",
       "\n",
       "    rubberband.mousedown('button_press', mouse_event_fn);\n",
       "    rubberband.mouseup('button_release', mouse_event_fn);\n",
       "    // Throttle sequential mouse events to 1 every 20ms.\n",
       "    rubberband.mousemove('motion_notify', mouse_event_fn);\n",
       "\n",
       "    rubberband.mouseenter('figure_enter', mouse_event_fn);\n",
       "    rubberband.mouseleave('figure_leave', mouse_event_fn);\n",
       "\n",
       "    canvas_div.on(\"wheel\", function (event) {\n",
       "        event = event.originalEvent;\n",
       "        event['data'] = 'scroll'\n",
       "        if (event.deltaY < 0) {\n",
       "            event.step = 1;\n",
       "        } else {\n",
       "            event.step = -1;\n",
       "        }\n",
       "        mouse_event_fn(event);\n",
       "    });\n",
       "\n",
       "    canvas_div.append(canvas);\n",
       "    canvas_div.append(rubberband);\n",
       "\n",
       "    this.rubberband = rubberband;\n",
       "    this.rubberband_canvas = rubberband[0];\n",
       "    this.rubberband_context = rubberband[0].getContext(\"2d\");\n",
       "    this.rubberband_context.strokeStyle = \"#000000\";\n",
       "\n",
       "    this._resize_canvas = function(width, height) {\n",
       "        // Keep the size of the canvas, canvas container, and rubber band\n",
       "        // canvas in synch.\n",
       "        canvas_div.css('width', width)\n",
       "        canvas_div.css('height', height)\n",
       "\n",
       "        canvas.attr('width', width * mpl.ratio);\n",
       "        canvas.attr('height', height * mpl.ratio);\n",
       "        canvas.attr('style', 'width: ' + width + 'px; height: ' + height + 'px;');\n",
       "\n",
       "        rubberband.attr('width', width);\n",
       "        rubberband.attr('height', height);\n",
       "    }\n",
       "\n",
       "    // Set the figure to an initial 600x600px, this will subsequently be updated\n",
       "    // upon first draw.\n",
       "    this._resize_canvas(600, 600);\n",
       "\n",
       "    // Disable right mouse context menu.\n",
       "    $(this.rubberband_canvas).bind(\"contextmenu\",function(e){\n",
       "        return false;\n",
       "    });\n",
       "\n",
       "    function set_focus () {\n",
       "        canvas.focus();\n",
       "        canvas_div.focus();\n",
       "    }\n",
       "\n",
       "    window.setTimeout(set_focus, 100);\n",
       "}\n",
       "\n",
       "mpl.figure.prototype._init_toolbar = function() {\n",
       "    var fig = this;\n",
       "\n",
       "    var nav_element = $('<div/>');\n",
       "    nav_element.attr('style', 'width: 100%');\n",
       "    this.root.append(nav_element);\n",
       "\n",
       "    // Define a callback function for later on.\n",
       "    function toolbar_event(event) {\n",
       "        return fig.toolbar_button_onclick(event['data']);\n",
       "    }\n",
       "    function toolbar_mouse_event(event) {\n",
       "        return fig.toolbar_button_onmouseover(event['data']);\n",
       "    }\n",
       "\n",
       "    for(var toolbar_ind in mpl.toolbar_items) {\n",
       "        var name = mpl.toolbar_items[toolbar_ind][0];\n",
       "        var tooltip = mpl.toolbar_items[toolbar_ind][1];\n",
       "        var image = mpl.toolbar_items[toolbar_ind][2];\n",
       "        var method_name = mpl.toolbar_items[toolbar_ind][3];\n",
       "\n",
       "        if (!name) {\n",
       "            // put a spacer in here.\n",
       "            continue;\n",
       "        }\n",
       "        var button = $('<button/>');\n",
       "        button.addClass('ui-button ui-widget ui-state-default ui-corner-all ' +\n",
       "                        'ui-button-icon-only');\n",
       "        button.attr('role', 'button');\n",
       "        button.attr('aria-disabled', 'false');\n",
       "        button.click(method_name, toolbar_event);\n",
       "        button.mouseover(tooltip, toolbar_mouse_event);\n",
       "\n",
       "        var icon_img = $('<span/>');\n",
       "        icon_img.addClass('ui-button-icon-primary ui-icon');\n",
       "        icon_img.addClass(image);\n",
       "        icon_img.addClass('ui-corner-all');\n",
       "\n",
       "        var tooltip_span = $('<span/>');\n",
       "        tooltip_span.addClass('ui-button-text');\n",
       "        tooltip_span.html(tooltip);\n",
       "\n",
       "        button.append(icon_img);\n",
       "        button.append(tooltip_span);\n",
       "\n",
       "        nav_element.append(button);\n",
       "    }\n",
       "\n",
       "    var fmt_picker_span = $('<span/>');\n",
       "\n",
       "    var fmt_picker = $('<select/>');\n",
       "    fmt_picker.addClass('mpl-toolbar-option ui-widget ui-widget-content');\n",
       "    fmt_picker_span.append(fmt_picker);\n",
       "    nav_element.append(fmt_picker_span);\n",
       "    this.format_dropdown = fmt_picker[0];\n",
       "\n",
       "    for (var ind in mpl.extensions) {\n",
       "        var fmt = mpl.extensions[ind];\n",
       "        var option = $(\n",
       "            '<option/>', {selected: fmt === mpl.default_extension}).html(fmt);\n",
       "        fmt_picker.append(option);\n",
       "    }\n",
       "\n",
       "    // Add hover states to the ui-buttons\n",
       "    $( \".ui-button\" ).hover(\n",
       "        function() { $(this).addClass(\"ui-state-hover\");},\n",
       "        function() { $(this).removeClass(\"ui-state-hover\");}\n",
       "    );\n",
       "\n",
       "    var status_bar = $('<span class=\"mpl-message\"/>');\n",
       "    nav_element.append(status_bar);\n",
       "    this.message = status_bar[0];\n",
       "}\n",
       "\n",
       "mpl.figure.prototype.request_resize = function(x_pixels, y_pixels) {\n",
       "    // Request matplotlib to resize the figure. Matplotlib will then trigger a resize in the client,\n",
       "    // which will in turn request a refresh of the image.\n",
       "    this.send_message('resize', {'width': x_pixels, 'height': y_pixels});\n",
       "}\n",
       "\n",
       "mpl.figure.prototype.send_message = function(type, properties) {\n",
       "    properties['type'] = type;\n",
       "    properties['figure_id'] = this.id;\n",
       "    this.ws.send(JSON.stringify(properties));\n",
       "}\n",
       "\n",
       "mpl.figure.prototype.send_draw_message = function() {\n",
       "    if (!this.waiting) {\n",
       "        this.waiting = true;\n",
       "        this.ws.send(JSON.stringify({type: \"draw\", figure_id: this.id}));\n",
       "    }\n",
       "}\n",
       "\n",
       "\n",
       "mpl.figure.prototype.handle_save = function(fig, msg) {\n",
       "    var format_dropdown = fig.format_dropdown;\n",
       "    var format = format_dropdown.options[format_dropdown.selectedIndex].value;\n",
       "    fig.ondownload(fig, format);\n",
       "}\n",
       "\n",
       "\n",
       "mpl.figure.prototype.handle_resize = function(fig, msg) {\n",
       "    var size = msg['size'];\n",
       "    if (size[0] != fig.canvas.width || size[1] != fig.canvas.height) {\n",
       "        fig._resize_canvas(size[0], size[1]);\n",
       "        fig.send_message(\"refresh\", {});\n",
       "    };\n",
       "}\n",
       "\n",
       "mpl.figure.prototype.handle_rubberband = function(fig, msg) {\n",
       "    var x0 = msg['x0'] / mpl.ratio;\n",
       "    var y0 = (fig.canvas.height - msg['y0']) / mpl.ratio;\n",
       "    var x1 = msg['x1'] / mpl.ratio;\n",
       "    var y1 = (fig.canvas.height - msg['y1']) / mpl.ratio;\n",
       "    x0 = Math.floor(x0) + 0.5;\n",
       "    y0 = Math.floor(y0) + 0.5;\n",
       "    x1 = Math.floor(x1) + 0.5;\n",
       "    y1 = Math.floor(y1) + 0.5;\n",
       "    var min_x = Math.min(x0, x1);\n",
       "    var min_y = Math.min(y0, y1);\n",
       "    var width = Math.abs(x1 - x0);\n",
       "    var height = Math.abs(y1 - y0);\n",
       "\n",
       "    fig.rubberband_context.clearRect(\n",
       "        0, 0, fig.canvas.width / mpl.ratio, fig.canvas.height / mpl.ratio);\n",
       "\n",
       "    fig.rubberband_context.strokeRect(min_x, min_y, width, height);\n",
       "}\n",
       "\n",
       "mpl.figure.prototype.handle_figure_label = function(fig, msg) {\n",
       "    // Updates the figure title.\n",
       "    fig.header.textContent = msg['label'];\n",
       "}\n",
       "\n",
       "mpl.figure.prototype.handle_cursor = function(fig, msg) {\n",
       "    var cursor = msg['cursor'];\n",
       "    switch(cursor)\n",
       "    {\n",
       "    case 0:\n",
       "        cursor = 'pointer';\n",
       "        break;\n",
       "    case 1:\n",
       "        cursor = 'default';\n",
       "        break;\n",
       "    case 2:\n",
       "        cursor = 'crosshair';\n",
       "        break;\n",
       "    case 3:\n",
       "        cursor = 'move';\n",
       "        break;\n",
       "    }\n",
       "    fig.rubberband_canvas.style.cursor = cursor;\n",
       "}\n",
       "\n",
       "mpl.figure.prototype.handle_message = function(fig, msg) {\n",
       "    fig.message.textContent = msg['message'];\n",
       "}\n",
       "\n",
       "mpl.figure.prototype.handle_draw = function(fig, msg) {\n",
       "    // Request the server to send over a new figure.\n",
       "    fig.send_draw_message();\n",
       "}\n",
       "\n",
       "mpl.figure.prototype.handle_image_mode = function(fig, msg) {\n",
       "    fig.image_mode = msg['mode'];\n",
       "}\n",
       "\n",
       "mpl.figure.prototype.updated_canvas_event = function() {\n",
       "    // Called whenever the canvas gets updated.\n",
       "    this.send_message(\"ack\", {});\n",
       "}\n",
       "\n",
       "// A function to construct a web socket function for onmessage handling.\n",
       "// Called in the figure constructor.\n",
       "mpl.figure.prototype._make_on_message_function = function(fig) {\n",
       "    return function socket_on_message(evt) {\n",
       "        if (evt.data instanceof Blob) {\n",
       "            /* FIXME: We get \"Resource interpreted as Image but\n",
       "             * transferred with MIME type text/plain:\" errors on\n",
       "             * Chrome.  But how to set the MIME type?  It doesn't seem\n",
       "             * to be part of the websocket stream */\n",
       "            evt.data.type = \"image/png\";\n",
       "\n",
       "            /* Free the memory for the previous frames */\n",
       "            if (fig.imageObj.src) {\n",
       "                (window.URL || window.webkitURL).revokeObjectURL(\n",
       "                    fig.imageObj.src);\n",
       "            }\n",
       "\n",
       "            fig.imageObj.src = (window.URL || window.webkitURL).createObjectURL(\n",
       "                evt.data);\n",
       "            fig.updated_canvas_event();\n",
       "            fig.waiting = false;\n",
       "            return;\n",
       "        }\n",
       "        else if (typeof evt.data === 'string' && evt.data.slice(0, 21) == \"data:image/png;base64\") {\n",
       "            fig.imageObj.src = evt.data;\n",
       "            fig.updated_canvas_event();\n",
       "            fig.waiting = false;\n",
       "            return;\n",
       "        }\n",
       "\n",
       "        var msg = JSON.parse(evt.data);\n",
       "        var msg_type = msg['type'];\n",
       "\n",
       "        // Call the  \"handle_{type}\" callback, which takes\n",
       "        // the figure and JSON message as its only arguments.\n",
       "        try {\n",
       "            var callback = fig[\"handle_\" + msg_type];\n",
       "        } catch (e) {\n",
       "            console.log(\"No handler for the '\" + msg_type + \"' message type: \", msg);\n",
       "            return;\n",
       "        }\n",
       "\n",
       "        if (callback) {\n",
       "            try {\n",
       "                // console.log(\"Handling '\" + msg_type + \"' message: \", msg);\n",
       "                callback(fig, msg);\n",
       "            } catch (e) {\n",
       "                console.log(\"Exception inside the 'handler_\" + msg_type + \"' callback:\", e, e.stack, msg);\n",
       "            }\n",
       "        }\n",
       "    };\n",
       "}\n",
       "\n",
       "// from http://stackoverflow.com/questions/1114465/getting-mouse-location-in-canvas\n",
       "mpl.findpos = function(e) {\n",
       "    //this section is from http://www.quirksmode.org/js/events_properties.html\n",
       "    var targ;\n",
       "    if (!e)\n",
       "        e = window.event;\n",
       "    if (e.target)\n",
       "        targ = e.target;\n",
       "    else if (e.srcElement)\n",
       "        targ = e.srcElement;\n",
       "    if (targ.nodeType == 3) // defeat Safari bug\n",
       "        targ = targ.parentNode;\n",
       "\n",
       "    // jQuery normalizes the pageX and pageY\n",
       "    // pageX,Y are the mouse positions relative to the document\n",
       "    // offset() returns the position of the element relative to the document\n",
       "    var x = e.pageX - $(targ).offset().left;\n",
       "    var y = e.pageY - $(targ).offset().top;\n",
       "\n",
       "    return {\"x\": x, \"y\": y};\n",
       "};\n",
       "\n",
       "/*\n",
       " * return a copy of an object with only non-object keys\n",
       " * we need this to avoid circular references\n",
       " * http://stackoverflow.com/a/24161582/3208463\n",
       " */\n",
       "function simpleKeys (original) {\n",
       "  return Object.keys(original).reduce(function (obj, key) {\n",
       "    if (typeof original[key] !== 'object')\n",
       "        obj[key] = original[key]\n",
       "    return obj;\n",
       "  }, {});\n",
       "}\n",
       "\n",
       "mpl.figure.prototype.mouse_event = function(event, name) {\n",
       "    var canvas_pos = mpl.findpos(event)\n",
       "\n",
       "    if (name === 'button_press')\n",
       "    {\n",
       "        this.canvas.focus();\n",
       "        this.canvas_div.focus();\n",
       "    }\n",
       "\n",
       "    var x = canvas_pos.x * mpl.ratio;\n",
       "    var y = canvas_pos.y * mpl.ratio;\n",
       "\n",
       "    this.send_message(name, {x: x, y: y, button: event.button,\n",
       "                             step: event.step,\n",
       "                             guiEvent: simpleKeys(event)});\n",
       "\n",
       "    /* This prevents the web browser from automatically changing to\n",
       "     * the text insertion cursor when the button is pressed.  We want\n",
       "     * to control all of the cursor setting manually through the\n",
       "     * 'cursor' event from matplotlib */\n",
       "    event.preventDefault();\n",
       "    return false;\n",
       "}\n",
       "\n",
       "mpl.figure.prototype._key_event_extra = function(event, name) {\n",
       "    // Handle any extra behaviour associated with a key event\n",
       "}\n",
       "\n",
       "mpl.figure.prototype.key_event = function(event, name) {\n",
       "\n",
       "    // Prevent repeat events\n",
       "    if (name == 'key_press')\n",
       "    {\n",
       "        if (event.which === this._key)\n",
       "            return;\n",
       "        else\n",
       "            this._key = event.which;\n",
       "    }\n",
       "    if (name == 'key_release')\n",
       "        this._key = null;\n",
       "\n",
       "    var value = '';\n",
       "    if (event.ctrlKey && event.which != 17)\n",
       "        value += \"ctrl+\";\n",
       "    if (event.altKey && event.which != 18)\n",
       "        value += \"alt+\";\n",
       "    if (event.shiftKey && event.which != 16)\n",
       "        value += \"shift+\";\n",
       "\n",
       "    value += 'k';\n",
       "    value += event.which.toString();\n",
       "\n",
       "    this._key_event_extra(event, name);\n",
       "\n",
       "    this.send_message(name, {key: value,\n",
       "                             guiEvent: simpleKeys(event)});\n",
       "    return false;\n",
       "}\n",
       "\n",
       "mpl.figure.prototype.toolbar_button_onclick = function(name) {\n",
       "    if (name == 'download') {\n",
       "        this.handle_save(this, null);\n",
       "    } else {\n",
       "        this.send_message(\"toolbar_button\", {name: name});\n",
       "    }\n",
       "};\n",
       "\n",
       "mpl.figure.prototype.toolbar_button_onmouseover = function(tooltip) {\n",
       "    this.message.textContent = tooltip;\n",
       "};\n",
       "mpl.toolbar_items = [[\"Home\", \"Reset original view\", \"fa fa-home icon-home\", \"home\"], [\"Back\", \"Back to previous view\", \"fa fa-arrow-left icon-arrow-left\", \"back\"], [\"Forward\", \"Forward to next view\", \"fa fa-arrow-right icon-arrow-right\", \"forward\"], [\"\", \"\", \"\", \"\"], [\"Pan\", \"Pan axes with left mouse, zoom with right\", \"fa fa-arrows icon-move\", \"pan\"], [\"Zoom\", \"Zoom to rectangle\", \"fa fa-square-o icon-check-empty\", \"zoom\"], [\"\", \"\", \"\", \"\"], [\"Download\", \"Download plot\", \"fa fa-floppy-o icon-save\", \"download\"]];\n",
       "\n",
       "mpl.extensions = [\"eps\", \"jpeg\", \"pdf\", \"png\", \"ps\", \"raw\", \"svg\", \"tif\"];\n",
       "\n",
       "mpl.default_extension = \"png\";var comm_websocket_adapter = function(comm) {\n",
       "    // Create a \"websocket\"-like object which calls the given IPython comm\n",
       "    // object with the appropriate methods. Currently this is a non binary\n",
       "    // socket, so there is still some room for performance tuning.\n",
       "    var ws = {};\n",
       "\n",
       "    ws.close = function() {\n",
       "        comm.close()\n",
       "    };\n",
       "    ws.send = function(m) {\n",
       "        //console.log('sending', m);\n",
       "        comm.send(m);\n",
       "    };\n",
       "    // Register the callback with on_msg.\n",
       "    comm.on_msg(function(msg) {\n",
       "        //console.log('receiving', msg['content']['data'], msg);\n",
       "        // Pass the mpl event to the overridden (by mpl) onmessage function.\n",
       "        ws.onmessage(msg['content']['data'])\n",
       "    });\n",
       "    return ws;\n",
       "}\n",
       "\n",
       "mpl.mpl_figure_comm = function(comm, msg) {\n",
       "    // This is the function which gets called when the mpl process\n",
       "    // starts-up an IPython Comm through the \"matplotlib\" channel.\n",
       "\n",
       "    var id = msg.content.data.id;\n",
       "    // Get hold of the div created by the display call when the Comm\n",
       "    // socket was opened in Python.\n",
       "    var element = $(\"#\" + id);\n",
       "    var ws_proxy = comm_websocket_adapter(comm)\n",
       "\n",
       "    function ondownload(figure, format) {\n",
       "        window.open(figure.imageObj.src);\n",
       "    }\n",
       "\n",
       "    var fig = new mpl.figure(id, ws_proxy,\n",
       "                           ondownload,\n",
       "                           element.get(0));\n",
       "\n",
       "    // Call onopen now - mpl needs it, as it is assuming we've passed it a real\n",
       "    // web socket which is closed, not our websocket->open comm proxy.\n",
       "    ws_proxy.onopen();\n",
       "\n",
       "    fig.parent_element = element.get(0);\n",
       "    fig.cell_info = mpl.find_output_cell(\"<div id='\" + id + \"'></div>\");\n",
       "    if (!fig.cell_info) {\n",
       "        console.error(\"Failed to find cell for figure\", id, fig);\n",
       "        return;\n",
       "    }\n",
       "\n",
       "    var output_index = fig.cell_info[2]\n",
       "    var cell = fig.cell_info[0];\n",
       "\n",
       "};\n",
       "\n",
       "mpl.figure.prototype.handle_close = function(fig, msg) {\n",
       "    var width = fig.canvas.width/mpl.ratio\n",
       "    fig.root.unbind('remove')\n",
       "\n",
       "    // Update the output cell to use the data from the current canvas.\n",
       "    fig.push_to_output();\n",
       "    var dataURL = fig.canvas.toDataURL();\n",
       "    // Re-enable the keyboard manager in IPython - without this line, in FF,\n",
       "    // the notebook keyboard shortcuts fail.\n",
       "    IPython.keyboard_manager.enable()\n",
       "    $(fig.parent_element).html('<img src=\"' + dataURL + '\" width=\"' + width + '\">');\n",
       "    fig.close_ws(fig, msg);\n",
       "}\n",
       "\n",
       "mpl.figure.prototype.close_ws = function(fig, msg){\n",
       "    fig.send_message('closing', msg);\n",
       "    // fig.ws.close()\n",
       "}\n",
       "\n",
       "mpl.figure.prototype.push_to_output = function(remove_interactive) {\n",
       "    // Turn the data on the canvas into data in the output cell.\n",
       "    var width = this.canvas.width/mpl.ratio\n",
       "    var dataURL = this.canvas.toDataURL();\n",
       "    this.cell_info[1]['text/html'] = '<img src=\"' + dataURL + '\" width=\"' + width + '\">';\n",
       "}\n",
       "\n",
       "mpl.figure.prototype.updated_canvas_event = function() {\n",
       "    // Tell IPython that the notebook contents must change.\n",
       "    IPython.notebook.set_dirty(true);\n",
       "    this.send_message(\"ack\", {});\n",
       "    var fig = this;\n",
       "    // Wait a second, then push the new image to the DOM so\n",
       "    // that it is saved nicely (might be nice to debounce this).\n",
       "    setTimeout(function () { fig.push_to_output() }, 1000);\n",
       "}\n",
       "\n",
       "mpl.figure.prototype._init_toolbar = function() {\n",
       "    var fig = this;\n",
       "\n",
       "    var nav_element = $('<div/>');\n",
       "    nav_element.attr('style', 'width: 100%');\n",
       "    this.root.append(nav_element);\n",
       "\n",
       "    // Define a callback function for later on.\n",
       "    function toolbar_event(event) {\n",
       "        return fig.toolbar_button_onclick(event['data']);\n",
       "    }\n",
       "    function toolbar_mouse_event(event) {\n",
       "        return fig.toolbar_button_onmouseover(event['data']);\n",
       "    }\n",
       "\n",
       "    for(var toolbar_ind in mpl.toolbar_items){\n",
       "        var name = mpl.toolbar_items[toolbar_ind][0];\n",
       "        var tooltip = mpl.toolbar_items[toolbar_ind][1];\n",
       "        var image = mpl.toolbar_items[toolbar_ind][2];\n",
       "        var method_name = mpl.toolbar_items[toolbar_ind][3];\n",
       "\n",
       "        if (!name) { continue; };\n",
       "\n",
       "        var button = $('<button class=\"btn btn-default\" href=\"#\" title=\"' + name + '\"><i class=\"fa ' + image + ' fa-lg\"></i></button>');\n",
       "        button.click(method_name, toolbar_event);\n",
       "        button.mouseover(tooltip, toolbar_mouse_event);\n",
       "        nav_element.append(button);\n",
       "    }\n",
       "\n",
       "    // Add the status bar.\n",
       "    var status_bar = $('<span class=\"mpl-message\" style=\"text-align:right; float: right;\"/>');\n",
       "    nav_element.append(status_bar);\n",
       "    this.message = status_bar[0];\n",
       "\n",
       "    // Add the close button to the window.\n",
       "    var buttongrp = $('<div class=\"btn-group inline pull-right\"></div>');\n",
       "    var button = $('<button class=\"btn btn-mini btn-primary\" href=\"#\" title=\"Stop Interaction\"><i class=\"fa fa-power-off icon-remove icon-large\"></i></button>');\n",
       "    button.click(function (evt) { fig.handle_close(fig, {}); } );\n",
       "    button.mouseover('Stop Interaction', toolbar_mouse_event);\n",
       "    buttongrp.append(button);\n",
       "    var titlebar = this.root.find($('.ui-dialog-titlebar'));\n",
       "    titlebar.prepend(buttongrp);\n",
       "}\n",
       "\n",
       "mpl.figure.prototype._root_extra_style = function(el){\n",
       "    var fig = this\n",
       "    el.on(\"remove\", function(){\n",
       "\tfig.close_ws(fig, {});\n",
       "    });\n",
       "}\n",
       "\n",
       "mpl.figure.prototype._canvas_extra_style = function(el){\n",
       "    // this is important to make the div 'focusable\n",
       "    el.attr('tabindex', 0)\n",
       "    // reach out to IPython and tell the keyboard manager to turn it's self\n",
       "    // off when our div gets focus\n",
       "\n",
       "    // location in version 3\n",
       "    if (IPython.notebook.keyboard_manager) {\n",
       "        IPython.notebook.keyboard_manager.register_events(el);\n",
       "    }\n",
       "    else {\n",
       "        // location in version 2\n",
       "        IPython.keyboard_manager.register_events(el);\n",
       "    }\n",
       "\n",
       "}\n",
       "\n",
       "mpl.figure.prototype._key_event_extra = function(event, name) {\n",
       "    var manager = IPython.notebook.keyboard_manager;\n",
       "    if (!manager)\n",
       "        manager = IPython.keyboard_manager;\n",
       "\n",
       "    // Check for shift+enter\n",
       "    if (event.shiftKey && event.which == 13) {\n",
       "        this.canvas_div.blur();\n",
       "        // select the cell after this one\n",
       "        var index = IPython.notebook.find_cell_index(this.cell_info[0]);\n",
       "        IPython.notebook.select(index + 1);\n",
       "    }\n",
       "}\n",
       "\n",
       "mpl.figure.prototype.handle_save = function(fig, msg) {\n",
       "    fig.ondownload(fig, null);\n",
       "}\n",
       "\n",
       "\n",
       "mpl.find_output_cell = function(html_output) {\n",
       "    // Return the cell and output element which can be found *uniquely* in the notebook.\n",
       "    // Note - this is a bit hacky, but it is done because the \"notebook_saving.Notebook\"\n",
       "    // IPython event is triggered only after the cells have been serialised, which for\n",
       "    // our purposes (turning an active figure into a static one), is too late.\n",
       "    var cells = IPython.notebook.get_cells();\n",
       "    var ncells = cells.length;\n",
       "    for (var i=0; i<ncells; i++) {\n",
       "        var cell = cells[i];\n",
       "        if (cell.cell_type === 'code'){\n",
       "            for (var j=0; j<cell.output_area.outputs.length; j++) {\n",
       "                var data = cell.output_area.outputs[j];\n",
       "                if (data.data) {\n",
       "                    // IPython >= 3 moved mimebundle to data attribute of output\n",
       "                    data = data.data;\n",
       "                }\n",
       "                if (data['text/html'] == html_output) {\n",
       "                    return [cell, data, j];\n",
       "                }\n",
       "            }\n",
       "        }\n",
       "    }\n",
       "}\n",
       "\n",
       "// Register the function which deals with the matplotlib target/channel.\n",
       "// The kernel may be null if the page has been refreshed.\n",
       "if (IPython.notebook.kernel != null) {\n",
       "    IPython.notebook.kernel.comm_manager.register_target('matplotlib', mpl.mpl_figure_comm);\n",
       "}\n"
      ],
      "text/plain": [
       "<IPython.core.display.Javascript object>"
      ]
     },
     "metadata": {},
     "output_type": "display_data"
    },
    {
     "data": {
      "text/html": [
       "<img src=\"data:image/png;base64,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\" width=\"999.4166666666666\">"
      ],
      "text/plain": [
       "<IPython.core.display.HTML object>"
      ]
     },
     "metadata": {},
     "output_type": "display_data"
    }
   ],
   "source": [
    "fig, ax = plt.subplots(figsize=(10, 10))\n",
    "\n",
    "# ax.set_xlim(-1, 6)\n",
    "# ax.set_ylim(-1, 2.5)\n",
    "ax.set_facecolor('gray')\n",
    "plt.grid(True, linestyle=':')\n",
    "plt.title(u'Diagrama cor-cor : sequência principal e gigantes (catálogo BSC)', family='serif', fontsize=18)\n",
    "plt.xlabel('B-V', family='serif', fontsize=20)\n",
    "plt.ylabel('U-B', family='serif', fontsize=20)\n",
    "\n",
    "for cls in 'OBAFGKM':\n",
    "    f = lambda s: s[0] == cls\n",
    "    b = giants['SpType'].astype(str).map(f)\n",
    "    x = giants[b]['B-V']\n",
    "    y = giants[b]['U-B']\n",
    "    c = colors[cls]\n",
    "    ax.scatter(x, y, c = c, s=50, alpha = 0.5,\n",
    "               edgecolors='None', label = cls)\n",
    "\n",
    "x = main['B-V']\n",
    "y = main['U-B']\n",
    "ax.scatter(x, y, c = 'black', s=6, edgecolors='none',\n",
    "           label='Main')    \n",
    "    \n",
    "legend = ax.legend(scatterpoints=1, markerscale = 2,shadow=True)\n",
    "frame = legend.get_frame()\n",
    "frame.set_facecolor('0.90')\n",
    "\n",
    "plt.savefig('Diagrama cor-cor - sequência principal e gigantes (catálogo BSC).png')\n",
    "\n",
    "T1 = 2500 * pq.kelvin\n",
    "T2 = 25000 * pq.kelvin\n",
    "\n",
    "BminusV_1 = get_BV(T1)\n",
    "UminusB_1 = get_UB(T1)\n",
    "BminusV_2 = get_BV(T2)\n",
    "UminusB_2 = get_UB(T2)\n",
    "\n",
    "# Basta com dois pontos para determinar a linha\n",
    "ax.plot([BminusV_1, BminusV_2], [UminusB_1, UminusB_2], lw = 3, c='k') \n",
    "ax.text(0.9,0.4,'Blackbody', fontsize=20, rotation = 35);"
   ]
  },
  {
   "cell_type": "markdown",
   "metadata": {
    "slideshow": {
     "slide_type": "subslide"
    }
   },
   "source": [
    "A figura acima apresenta características interessantes. A primeira, que é a radiação emitida pelas estrelas afastando-se em alguma medida daquela correspondente a um corpo negro (lembre-se de que se trata de uma linha reta). Estrelas não são corpos negros ideiais. A melhor aproximação é para as estrelas mais quentes (O e B na figura)."
   ]
  },
  {
   "cell_type": "markdown",
   "metadata": {
    "slideshow": {
     "slide_type": "subslide"
    }
   },
   "source": [
    "No entanto, a característica mais marcante é o desvio acentuado das estrelas de classe A da linha de emissão do corpo negro. Se o leitor observar a sequência principal, ela descreve uma curva em forma de U invertido que se divide e se aproxima da linha do corpo negro novamente. Esta característica ilustra o fenômeno \"**Balmer Jump**\" ou \"**salto de Balmer**\"."
   ]
  },
  {
   "cell_type": "markdown",
   "metadata": {
    "slideshow": {
     "slide_type": "subslide"
    }
   },
   "source": [
    "Basicamente, quando a temperatura da superfície da estrela atinge um valor crítico, o que ocorre com estrelas da classe espectral de A0, ocorre uma absorção dos fótons emitidos pelo interior da estrela na região do ultravioleta. Esses fótons são absorvidos pelos átomos de hidrogênio na superfície da estrela, excitando seus elétrons, o que resulta no aparecimento das linhas de absorção da série de Balmer do hidrogênio no espectro dessas estrelas. Isso implica que, como efeito da absorção desses fótons, a emissão da estrela na região do ultravioleta se enfraquece e a magnitude UB aumenta (lembre-se que quanto menor o fluxo radiante recebido, maior a magnitude), ou seja, assume valores positivos mais rápido do que corresponderiam a um corpo negro, separando-se abruptamente da referida linha, conforme mostrado na figura."
   ]
  },
  {
   "cell_type": "markdown",
   "metadata": {
    "slideshow": {
     "slide_type": "subslide"
    }
   },
   "source": [
    "Da classe espectral A5, a temperatura da superfície da estrela diminui e há menos átomos de hidrogênio nos níveis de energia que permitem a captura desses fótons. Consequentemente, a radiação no ultravioleta se recupera e o índice de cor U-B para de aumentar. A curva se aproxima novamente, também abruptamente, da linha correspondente à radiação de um corpo negro."
   ]
  },
  {
   "cell_type": "markdown",
   "metadata": {
    "slideshow": {
     "slide_type": "-"
    }
   },
   "source": [
    "Este fenômeno é perfeitamente explicado no livro de Keith Robinson: [Starlight - An Introduction to Stellar Physics for Amateurs](https://www.springer.com/gp/book/9781441907073) [8]."
   ]
  },
  {
   "cell_type": "markdown",
   "metadata": {
    "slideshow": {
     "slide_type": "subslide"
    }
   },
   "source": [
    "### Diagrama cor-cor das classes de luminosidade MK"
   ]
  },
  {
   "cell_type": "markdown",
   "metadata": {
    "slideshow": {
     "slide_type": "-"
    }
   },
   "source": [
    "Vamos agora fazer um conjunto de diagramas cor-cor para representar o comportamento nestes diagramas das diferentes classes de brilho do esquema MK."
   ]
  },
  {
   "cell_type": "markdown",
   "metadata": {
    "slideshow": {
     "slide_type": "-"
    }
   },
   "source": [
    "Começamos com a criação de um dataframe apenas com estrelas da classe IV:"
   ]
  },
  {
   "cell_type": "code",
   "execution_count": 34,
   "metadata": {
    "slideshow": {
     "slide_type": "-"
    }
   },
   "outputs": [
    {
     "data": {
      "text/plain": [
       "(1274, 12)"
      ]
     },
     "execution_count": 34,
     "metadata": {},
     "output_type": "execute_result"
    }
   ],
   "source": [
    "bIV = giants['SpType'].str.contains('IV')\n",
    "giantsIV = giants[bIV]\n",
    "giantsIV.shape"
   ]
  },
  {
   "cell_type": "markdown",
   "metadata": {
    "slideshow": {
     "slide_type": "subslide"
    }
   },
   "source": [
    "Agora criamos um dataframe com estrelas da classe III:"
   ]
  },
  {
   "cell_type": "code",
   "execution_count": 35,
   "metadata": {
    "slideshow": {
     "slide_type": "-"
    }
   },
   "outputs": [
    {
     "data": {
      "text/plain": [
       "(3525, 12)"
      ]
     },
     "execution_count": 35,
     "metadata": {},
     "output_type": "execute_result"
    }
   ],
   "source": [
    "bIII = giants['SpType'].str.contains('III')\n",
    "giantsIII = giants[bIII]\n",
    "giantsIII.shape"
   ]
  },
  {
   "cell_type": "markdown",
   "metadata": {
    "slideshow": {
     "slide_type": "subslide"
    }
   },
   "source": [
    "Criamos um dataframe com estrelas da classe II:"
   ]
  },
  {
   "cell_type": "code",
   "execution_count": 36,
   "metadata": {
    "slideshow": {
     "slide_type": "-"
    }
   },
   "outputs": [
    {
     "data": {
      "text/plain": [
       "(287, 12)"
      ]
     },
     "execution_count": 36,
     "metadata": {},
     "output_type": "execute_result"
    }
   ],
   "source": [
    "bII = giants['SpType'].str.contains('II')\n",
    "b = np.logical_and(bII, np.logical_not(bIII))\n",
    "giantsII = giants[b]\n",
    "giantsII.shape"
   ]
  },
  {
   "cell_type": "markdown",
   "metadata": {
    "slideshow": {
     "slide_type": "subslide"
    }
   },
   "source": [
    "Por fim, criamos um dataframe com estrelas da classe I:"
   ]
  },
  {
   "cell_type": "code",
   "execution_count": 37,
   "metadata": {
    "slideshow": {
     "slide_type": "-"
    }
   },
   "outputs": [
    {
     "data": {
      "text/plain": [
       "(1349, 12)"
      ]
     },
     "execution_count": 37,
     "metadata": {},
     "output_type": "execute_result"
    }
   ],
   "source": [
    "bI = giants['SpType'].str.contains('I')\n",
    "b = np.logical_and(bI, np.logical_not(bII))\n",
    "giantsI = giants[b]\n",
    "giantsI.shape"
   ]
  },
  {
   "cell_type": "markdown",
   "metadata": {
    "slideshow": {
     "slide_type": "subslide"
    }
   },
   "source": [
    "Por fim, vamos à criação dos diagramas:"
   ]
  },
  {
   "cell_type": "code",
   "execution_count": 38,
   "metadata": {
    "scrolled": false,
    "slideshow": {
     "slide_type": "subslide"
    }
   },
   "outputs": [
    {
     "data": {
      "application/javascript": [
       "/* Put everything inside the global mpl namespace */\n",
       "window.mpl = {};\n",
       "\n",
       "\n",
       "mpl.get_websocket_type = function() {\n",
       "    if (typeof(WebSocket) !== 'undefined') {\n",
       "        return WebSocket;\n",
       "    } else if (typeof(MozWebSocket) !== 'undefined') {\n",
       "        return MozWebSocket;\n",
       "    } else {\n",
       "        alert('Your browser does not have WebSocket support. ' +\n",
       "              'Please try Chrome, Safari or Firefox ≥ 6. ' +\n",
       "              'Firefox 4 and 5 are also supported but you ' +\n",
       "              'have to enable WebSockets in about:config.');\n",
       "    };\n",
       "}\n",
       "\n",
       "mpl.figure = function(figure_id, websocket, ondownload, parent_element) {\n",
       "    this.id = figure_id;\n",
       "\n",
       "    this.ws = websocket;\n",
       "\n",
       "    this.supports_binary = (this.ws.binaryType != undefined);\n",
       "\n",
       "    if (!this.supports_binary) {\n",
       "        var warnings = document.getElementById(\"mpl-warnings\");\n",
       "        if (warnings) {\n",
       "            warnings.style.display = 'block';\n",
       "            warnings.textContent = (\n",
       "                \"This browser does not support binary websocket messages. \" +\n",
       "                    \"Performance may be slow.\");\n",
       "        }\n",
       "    }\n",
       "\n",
       "    this.imageObj = new Image();\n",
       "\n",
       "    this.context = undefined;\n",
       "    this.message = undefined;\n",
       "    this.canvas = undefined;\n",
       "    this.rubberband_canvas = undefined;\n",
       "    this.rubberband_context = undefined;\n",
       "    this.format_dropdown = undefined;\n",
       "\n",
       "    this.image_mode = 'full';\n",
       "\n",
       "    this.root = $('<div/>');\n",
       "    this._root_extra_style(this.root)\n",
       "    this.root.attr('style', 'display: inline-block');\n",
       "\n",
       "    $(parent_element).append(this.root);\n",
       "\n",
       "    this._init_header(this);\n",
       "    this._init_canvas(this);\n",
       "    this._init_toolbar(this);\n",
       "\n",
       "    var fig = this;\n",
       "\n",
       "    this.waiting = false;\n",
       "\n",
       "    this.ws.onopen =  function () {\n",
       "            fig.send_message(\"supports_binary\", {value: fig.supports_binary});\n",
       "            fig.send_message(\"send_image_mode\", {});\n",
       "            if (mpl.ratio != 1) {\n",
       "                fig.send_message(\"set_dpi_ratio\", {'dpi_ratio': mpl.ratio});\n",
       "            }\n",
       "            fig.send_message(\"refresh\", {});\n",
       "        }\n",
       "\n",
       "    this.imageObj.onload = function() {\n",
       "            if (fig.image_mode == 'full') {\n",
       "                // Full images could contain transparency (where diff images\n",
       "                // almost always do), so we need to clear the canvas so that\n",
       "                // there is no ghosting.\n",
       "                fig.context.clearRect(0, 0, fig.canvas.width, fig.canvas.height);\n",
       "            }\n",
       "            fig.context.drawImage(fig.imageObj, 0, 0);\n",
       "        };\n",
       "\n",
       "    this.imageObj.onunload = function() {\n",
       "        fig.ws.close();\n",
       "    }\n",
       "\n",
       "    this.ws.onmessage = this._make_on_message_function(this);\n",
       "\n",
       "    this.ondownload = ondownload;\n",
       "}\n",
       "\n",
       "mpl.figure.prototype._init_header = function() {\n",
       "    var titlebar = $(\n",
       "        '<div class=\"ui-dialog-titlebar ui-widget-header ui-corner-all ' +\n",
       "        'ui-helper-clearfix\"/>');\n",
       "    var titletext = $(\n",
       "        '<div class=\"ui-dialog-title\" style=\"width: 100%; ' +\n",
       "        'text-align: center; padding: 3px;\"/>');\n",
       "    titlebar.append(titletext)\n",
       "    this.root.append(titlebar);\n",
       "    this.header = titletext[0];\n",
       "}\n",
       "\n",
       "\n",
       "\n",
       "mpl.figure.prototype._canvas_extra_style = function(canvas_div) {\n",
       "\n",
       "}\n",
       "\n",
       "\n",
       "mpl.figure.prototype._root_extra_style = function(canvas_div) {\n",
       "\n",
       "}\n",
       "\n",
       "mpl.figure.prototype._init_canvas = function() {\n",
       "    var fig = this;\n",
       "\n",
       "    var canvas_div = $('<div/>');\n",
       "\n",
       "    canvas_div.attr('style', 'position: relative; clear: both; outline: 0');\n",
       "\n",
       "    function canvas_keyboard_event(event) {\n",
       "        return fig.key_event(event, event['data']);\n",
       "    }\n",
       "\n",
       "    canvas_div.keydown('key_press', canvas_keyboard_event);\n",
       "    canvas_div.keyup('key_release', canvas_keyboard_event);\n",
       "    this.canvas_div = canvas_div\n",
       "    this._canvas_extra_style(canvas_div)\n",
       "    this.root.append(canvas_div);\n",
       "\n",
       "    var canvas = $('<canvas/>');\n",
       "    canvas.addClass('mpl-canvas');\n",
       "    canvas.attr('style', \"left: 0; top: 0; z-index: 0; outline: 0\")\n",
       "\n",
       "    this.canvas = canvas[0];\n",
       "    this.context = canvas[0].getContext(\"2d\");\n",
       "\n",
       "    var backingStore = this.context.backingStorePixelRatio ||\n",
       "\tthis.context.webkitBackingStorePixelRatio ||\n",
       "\tthis.context.mozBackingStorePixelRatio ||\n",
       "\tthis.context.msBackingStorePixelRatio ||\n",
       "\tthis.context.oBackingStorePixelRatio ||\n",
       "\tthis.context.backingStorePixelRatio || 1;\n",
       "\n",
       "    mpl.ratio = (window.devicePixelRatio || 1) / backingStore;\n",
       "\n",
       "    var rubberband = $('<canvas/>');\n",
       "    rubberband.attr('style', \"position: absolute; left: 0; top: 0; z-index: 1;\")\n",
       "\n",
       "    var pass_mouse_events = true;\n",
       "\n",
       "    canvas_div.resizable({\n",
       "        start: function(event, ui) {\n",
       "            pass_mouse_events = false;\n",
       "        },\n",
       "        resize: function(event, ui) {\n",
       "            fig.request_resize(ui.size.width, ui.size.height);\n",
       "        },\n",
       "        stop: function(event, ui) {\n",
       "            pass_mouse_events = true;\n",
       "            fig.request_resize(ui.size.width, ui.size.height);\n",
       "        },\n",
       "    });\n",
       "\n",
       "    function mouse_event_fn(event) {\n",
       "        if (pass_mouse_events)\n",
       "            return fig.mouse_event(event, event['data']);\n",
       "    }\n",
       "\n",
       "    rubberband.mousedown('button_press', mouse_event_fn);\n",
       "    rubberband.mouseup('button_release', mouse_event_fn);\n",
       "    // Throttle sequential mouse events to 1 every 20ms.\n",
       "    rubberband.mousemove('motion_notify', mouse_event_fn);\n",
       "\n",
       "    rubberband.mouseenter('figure_enter', mouse_event_fn);\n",
       "    rubberband.mouseleave('figure_leave', mouse_event_fn);\n",
       "\n",
       "    canvas_div.on(\"wheel\", function (event) {\n",
       "        event = event.originalEvent;\n",
       "        event['data'] = 'scroll'\n",
       "        if (event.deltaY < 0) {\n",
       "            event.step = 1;\n",
       "        } else {\n",
       "            event.step = -1;\n",
       "        }\n",
       "        mouse_event_fn(event);\n",
       "    });\n",
       "\n",
       "    canvas_div.append(canvas);\n",
       "    canvas_div.append(rubberband);\n",
       "\n",
       "    this.rubberband = rubberband;\n",
       "    this.rubberband_canvas = rubberband[0];\n",
       "    this.rubberband_context = rubberband[0].getContext(\"2d\");\n",
       "    this.rubberband_context.strokeStyle = \"#000000\";\n",
       "\n",
       "    this._resize_canvas = function(width, height) {\n",
       "        // Keep the size of the canvas, canvas container, and rubber band\n",
       "        // canvas in synch.\n",
       "        canvas_div.css('width', width)\n",
       "        canvas_div.css('height', height)\n",
       "\n",
       "        canvas.attr('width', width * mpl.ratio);\n",
       "        canvas.attr('height', height * mpl.ratio);\n",
       "        canvas.attr('style', 'width: ' + width + 'px; height: ' + height + 'px;');\n",
       "\n",
       "        rubberband.attr('width', width);\n",
       "        rubberband.attr('height', height);\n",
       "    }\n",
       "\n",
       "    // Set the figure to an initial 600x600px, this will subsequently be updated\n",
       "    // upon first draw.\n",
       "    this._resize_canvas(600, 600);\n",
       "\n",
       "    // Disable right mouse context menu.\n",
       "    $(this.rubberband_canvas).bind(\"contextmenu\",function(e){\n",
       "        return false;\n",
       "    });\n",
       "\n",
       "    function set_focus () {\n",
       "        canvas.focus();\n",
       "        canvas_div.focus();\n",
       "    }\n",
       "\n",
       "    window.setTimeout(set_focus, 100);\n",
       "}\n",
       "\n",
       "mpl.figure.prototype._init_toolbar = function() {\n",
       "    var fig = this;\n",
       "\n",
       "    var nav_element = $('<div/>');\n",
       "    nav_element.attr('style', 'width: 100%');\n",
       "    this.root.append(nav_element);\n",
       "\n",
       "    // Define a callback function for later on.\n",
       "    function toolbar_event(event) {\n",
       "        return fig.toolbar_button_onclick(event['data']);\n",
       "    }\n",
       "    function toolbar_mouse_event(event) {\n",
       "        return fig.toolbar_button_onmouseover(event['data']);\n",
       "    }\n",
       "\n",
       "    for(var toolbar_ind in mpl.toolbar_items) {\n",
       "        var name = mpl.toolbar_items[toolbar_ind][0];\n",
       "        var tooltip = mpl.toolbar_items[toolbar_ind][1];\n",
       "        var image = mpl.toolbar_items[toolbar_ind][2];\n",
       "        var method_name = mpl.toolbar_items[toolbar_ind][3];\n",
       "\n",
       "        if (!name) {\n",
       "            // put a spacer in here.\n",
       "            continue;\n",
       "        }\n",
       "        var button = $('<button/>');\n",
       "        button.addClass('ui-button ui-widget ui-state-default ui-corner-all ' +\n",
       "                        'ui-button-icon-only');\n",
       "        button.attr('role', 'button');\n",
       "        button.attr('aria-disabled', 'false');\n",
       "        button.click(method_name, toolbar_event);\n",
       "        button.mouseover(tooltip, toolbar_mouse_event);\n",
       "\n",
       "        var icon_img = $('<span/>');\n",
       "        icon_img.addClass('ui-button-icon-primary ui-icon');\n",
       "        icon_img.addClass(image);\n",
       "        icon_img.addClass('ui-corner-all');\n",
       "\n",
       "        var tooltip_span = $('<span/>');\n",
       "        tooltip_span.addClass('ui-button-text');\n",
       "        tooltip_span.html(tooltip);\n",
       "\n",
       "        button.append(icon_img);\n",
       "        button.append(tooltip_span);\n",
       "\n",
       "        nav_element.append(button);\n",
       "    }\n",
       "\n",
       "    var fmt_picker_span = $('<span/>');\n",
       "\n",
       "    var fmt_picker = $('<select/>');\n",
       "    fmt_picker.addClass('mpl-toolbar-option ui-widget ui-widget-content');\n",
       "    fmt_picker_span.append(fmt_picker);\n",
       "    nav_element.append(fmt_picker_span);\n",
       "    this.format_dropdown = fmt_picker[0];\n",
       "\n",
       "    for (var ind in mpl.extensions) {\n",
       "        var fmt = mpl.extensions[ind];\n",
       "        var option = $(\n",
       "            '<option/>', {selected: fmt === mpl.default_extension}).html(fmt);\n",
       "        fmt_picker.append(option);\n",
       "    }\n",
       "\n",
       "    // Add hover states to the ui-buttons\n",
       "    $( \".ui-button\" ).hover(\n",
       "        function() { $(this).addClass(\"ui-state-hover\");},\n",
       "        function() { $(this).removeClass(\"ui-state-hover\");}\n",
       "    );\n",
       "\n",
       "    var status_bar = $('<span class=\"mpl-message\"/>');\n",
       "    nav_element.append(status_bar);\n",
       "    this.message = status_bar[0];\n",
       "}\n",
       "\n",
       "mpl.figure.prototype.request_resize = function(x_pixels, y_pixels) {\n",
       "    // Request matplotlib to resize the figure. Matplotlib will then trigger a resize in the client,\n",
       "    // which will in turn request a refresh of the image.\n",
       "    this.send_message('resize', {'width': x_pixels, 'height': y_pixels});\n",
       "}\n",
       "\n",
       "mpl.figure.prototype.send_message = function(type, properties) {\n",
       "    properties['type'] = type;\n",
       "    properties['figure_id'] = this.id;\n",
       "    this.ws.send(JSON.stringify(properties));\n",
       "}\n",
       "\n",
       "mpl.figure.prototype.send_draw_message = function() {\n",
       "    if (!this.waiting) {\n",
       "        this.waiting = true;\n",
       "        this.ws.send(JSON.stringify({type: \"draw\", figure_id: this.id}));\n",
       "    }\n",
       "}\n",
       "\n",
       "\n",
       "mpl.figure.prototype.handle_save = function(fig, msg) {\n",
       "    var format_dropdown = fig.format_dropdown;\n",
       "    var format = format_dropdown.options[format_dropdown.selectedIndex].value;\n",
       "    fig.ondownload(fig, format);\n",
       "}\n",
       "\n",
       "\n",
       "mpl.figure.prototype.handle_resize = function(fig, msg) {\n",
       "    var size = msg['size'];\n",
       "    if (size[0] != fig.canvas.width || size[1] != fig.canvas.height) {\n",
       "        fig._resize_canvas(size[0], size[1]);\n",
       "        fig.send_message(\"refresh\", {});\n",
       "    };\n",
       "}\n",
       "\n",
       "mpl.figure.prototype.handle_rubberband = function(fig, msg) {\n",
       "    var x0 = msg['x0'] / mpl.ratio;\n",
       "    var y0 = (fig.canvas.height - msg['y0']) / mpl.ratio;\n",
       "    var x1 = msg['x1'] / mpl.ratio;\n",
       "    var y1 = (fig.canvas.height - msg['y1']) / mpl.ratio;\n",
       "    x0 = Math.floor(x0) + 0.5;\n",
       "    y0 = Math.floor(y0) + 0.5;\n",
       "    x1 = Math.floor(x1) + 0.5;\n",
       "    y1 = Math.floor(y1) + 0.5;\n",
       "    var min_x = Math.min(x0, x1);\n",
       "    var min_y = Math.min(y0, y1);\n",
       "    var width = Math.abs(x1 - x0);\n",
       "    var height = Math.abs(y1 - y0);\n",
       "\n",
       "    fig.rubberband_context.clearRect(\n",
       "        0, 0, fig.canvas.width / mpl.ratio, fig.canvas.height / mpl.ratio);\n",
       "\n",
       "    fig.rubberband_context.strokeRect(min_x, min_y, width, height);\n",
       "}\n",
       "\n",
       "mpl.figure.prototype.handle_figure_label = function(fig, msg) {\n",
       "    // Updates the figure title.\n",
       "    fig.header.textContent = msg['label'];\n",
       "}\n",
       "\n",
       "mpl.figure.prototype.handle_cursor = function(fig, msg) {\n",
       "    var cursor = msg['cursor'];\n",
       "    switch(cursor)\n",
       "    {\n",
       "    case 0:\n",
       "        cursor = 'pointer';\n",
       "        break;\n",
       "    case 1:\n",
       "        cursor = 'default';\n",
       "        break;\n",
       "    case 2:\n",
       "        cursor = 'crosshair';\n",
       "        break;\n",
       "    case 3:\n",
       "        cursor = 'move';\n",
       "        break;\n",
       "    }\n",
       "    fig.rubberband_canvas.style.cursor = cursor;\n",
       "}\n",
       "\n",
       "mpl.figure.prototype.handle_message = function(fig, msg) {\n",
       "    fig.message.textContent = msg['message'];\n",
       "}\n",
       "\n",
       "mpl.figure.prototype.handle_draw = function(fig, msg) {\n",
       "    // Request the server to send over a new figure.\n",
       "    fig.send_draw_message();\n",
       "}\n",
       "\n",
       "mpl.figure.prototype.handle_image_mode = function(fig, msg) {\n",
       "    fig.image_mode = msg['mode'];\n",
       "}\n",
       "\n",
       "mpl.figure.prototype.updated_canvas_event = function() {\n",
       "    // Called whenever the canvas gets updated.\n",
       "    this.send_message(\"ack\", {});\n",
       "}\n",
       "\n",
       "// A function to construct a web socket function for onmessage handling.\n",
       "// Called in the figure constructor.\n",
       "mpl.figure.prototype._make_on_message_function = function(fig) {\n",
       "    return function socket_on_message(evt) {\n",
       "        if (evt.data instanceof Blob) {\n",
       "            /* FIXME: We get \"Resource interpreted as Image but\n",
       "             * transferred with MIME type text/plain:\" errors on\n",
       "             * Chrome.  But how to set the MIME type?  It doesn't seem\n",
       "             * to be part of the websocket stream */\n",
       "            evt.data.type = \"image/png\";\n",
       "\n",
       "            /* Free the memory for the previous frames */\n",
       "            if (fig.imageObj.src) {\n",
       "                (window.URL || window.webkitURL).revokeObjectURL(\n",
       "                    fig.imageObj.src);\n",
       "            }\n",
       "\n",
       "            fig.imageObj.src = (window.URL || window.webkitURL).createObjectURL(\n",
       "                evt.data);\n",
       "            fig.updated_canvas_event();\n",
       "            fig.waiting = false;\n",
       "            return;\n",
       "        }\n",
       "        else if (typeof evt.data === 'string' && evt.data.slice(0, 21) == \"data:image/png;base64\") {\n",
       "            fig.imageObj.src = evt.data;\n",
       "            fig.updated_canvas_event();\n",
       "            fig.waiting = false;\n",
       "            return;\n",
       "        }\n",
       "\n",
       "        var msg = JSON.parse(evt.data);\n",
       "        var msg_type = msg['type'];\n",
       "\n",
       "        // Call the  \"handle_{type}\" callback, which takes\n",
       "        // the figure and JSON message as its only arguments.\n",
       "        try {\n",
       "            var callback = fig[\"handle_\" + msg_type];\n",
       "        } catch (e) {\n",
       "            console.log(\"No handler for the '\" + msg_type + \"' message type: \", msg);\n",
       "            return;\n",
       "        }\n",
       "\n",
       "        if (callback) {\n",
       "            try {\n",
       "                // console.log(\"Handling '\" + msg_type + \"' message: \", msg);\n",
       "                callback(fig, msg);\n",
       "            } catch (e) {\n",
       "                console.log(\"Exception inside the 'handler_\" + msg_type + \"' callback:\", e, e.stack, msg);\n",
       "            }\n",
       "        }\n",
       "    };\n",
       "}\n",
       "\n",
       "// from http://stackoverflow.com/questions/1114465/getting-mouse-location-in-canvas\n",
       "mpl.findpos = function(e) {\n",
       "    //this section is from http://www.quirksmode.org/js/events_properties.html\n",
       "    var targ;\n",
       "    if (!e)\n",
       "        e = window.event;\n",
       "    if (e.target)\n",
       "        targ = e.target;\n",
       "    else if (e.srcElement)\n",
       "        targ = e.srcElement;\n",
       "    if (targ.nodeType == 3) // defeat Safari bug\n",
       "        targ = targ.parentNode;\n",
       "\n",
       "    // jQuery normalizes the pageX and pageY\n",
       "    // pageX,Y are the mouse positions relative to the document\n",
       "    // offset() returns the position of the element relative to the document\n",
       "    var x = e.pageX - $(targ).offset().left;\n",
       "    var y = e.pageY - $(targ).offset().top;\n",
       "\n",
       "    return {\"x\": x, \"y\": y};\n",
       "};\n",
       "\n",
       "/*\n",
       " * return a copy of an object with only non-object keys\n",
       " * we need this to avoid circular references\n",
       " * http://stackoverflow.com/a/24161582/3208463\n",
       " */\n",
       "function simpleKeys (original) {\n",
       "  return Object.keys(original).reduce(function (obj, key) {\n",
       "    if (typeof original[key] !== 'object')\n",
       "        obj[key] = original[key]\n",
       "    return obj;\n",
       "  }, {});\n",
       "}\n",
       "\n",
       "mpl.figure.prototype.mouse_event = function(event, name) {\n",
       "    var canvas_pos = mpl.findpos(event)\n",
       "\n",
       "    if (name === 'button_press')\n",
       "    {\n",
       "        this.canvas.focus();\n",
       "        this.canvas_div.focus();\n",
       "    }\n",
       "\n",
       "    var x = canvas_pos.x * mpl.ratio;\n",
       "    var y = canvas_pos.y * mpl.ratio;\n",
       "\n",
       "    this.send_message(name, {x: x, y: y, button: event.button,\n",
       "                             step: event.step,\n",
       "                             guiEvent: simpleKeys(event)});\n",
       "\n",
       "    /* This prevents the web browser from automatically changing to\n",
       "     * the text insertion cursor when the button is pressed.  We want\n",
       "     * to control all of the cursor setting manually through the\n",
       "     * 'cursor' event from matplotlib */\n",
       "    event.preventDefault();\n",
       "    return false;\n",
       "}\n",
       "\n",
       "mpl.figure.prototype._key_event_extra = function(event, name) {\n",
       "    // Handle any extra behaviour associated with a key event\n",
       "}\n",
       "\n",
       "mpl.figure.prototype.key_event = function(event, name) {\n",
       "\n",
       "    // Prevent repeat events\n",
       "    if (name == 'key_press')\n",
       "    {\n",
       "        if (event.which === this._key)\n",
       "            return;\n",
       "        else\n",
       "            this._key = event.which;\n",
       "    }\n",
       "    if (name == 'key_release')\n",
       "        this._key = null;\n",
       "\n",
       "    var value = '';\n",
       "    if (event.ctrlKey && event.which != 17)\n",
       "        value += \"ctrl+\";\n",
       "    if (event.altKey && event.which != 18)\n",
       "        value += \"alt+\";\n",
       "    if (event.shiftKey && event.which != 16)\n",
       "        value += \"shift+\";\n",
       "\n",
       "    value += 'k';\n",
       "    value += event.which.toString();\n",
       "\n",
       "    this._key_event_extra(event, name);\n",
       "\n",
       "    this.send_message(name, {key: value,\n",
       "                             guiEvent: simpleKeys(event)});\n",
       "    return false;\n",
       "}\n",
       "\n",
       "mpl.figure.prototype.toolbar_button_onclick = function(name) {\n",
       "    if (name == 'download') {\n",
       "        this.handle_save(this, null);\n",
       "    } else {\n",
       "        this.send_message(\"toolbar_button\", {name: name});\n",
       "    }\n",
       "};\n",
       "\n",
       "mpl.figure.prototype.toolbar_button_onmouseover = function(tooltip) {\n",
       "    this.message.textContent = tooltip;\n",
       "};\n",
       "mpl.toolbar_items = [[\"Home\", \"Reset original view\", \"fa fa-home icon-home\", \"home\"], [\"Back\", \"Back to previous view\", \"fa fa-arrow-left icon-arrow-left\", \"back\"], [\"Forward\", \"Forward to next view\", \"fa fa-arrow-right icon-arrow-right\", \"forward\"], [\"\", \"\", \"\", \"\"], [\"Pan\", \"Pan axes with left mouse, zoom with right\", \"fa fa-arrows icon-move\", \"pan\"], [\"Zoom\", \"Zoom to rectangle\", \"fa fa-square-o icon-check-empty\", \"zoom\"], [\"\", \"\", \"\", \"\"], [\"Download\", \"Download plot\", \"fa fa-floppy-o icon-save\", \"download\"]];\n",
       "\n",
       "mpl.extensions = [\"eps\", \"jpeg\", \"pdf\", \"png\", \"ps\", \"raw\", \"svg\", \"tif\"];\n",
       "\n",
       "mpl.default_extension = \"png\";var comm_websocket_adapter = function(comm) {\n",
       "    // Create a \"websocket\"-like object which calls the given IPython comm\n",
       "    // object with the appropriate methods. Currently this is a non binary\n",
       "    // socket, so there is still some room for performance tuning.\n",
       "    var ws = {};\n",
       "\n",
       "    ws.close = function() {\n",
       "        comm.close()\n",
       "    };\n",
       "    ws.send = function(m) {\n",
       "        //console.log('sending', m);\n",
       "        comm.send(m);\n",
       "    };\n",
       "    // Register the callback with on_msg.\n",
       "    comm.on_msg(function(msg) {\n",
       "        //console.log('receiving', msg['content']['data'], msg);\n",
       "        // Pass the mpl event to the overridden (by mpl) onmessage function.\n",
       "        ws.onmessage(msg['content']['data'])\n",
       "    });\n",
       "    return ws;\n",
       "}\n",
       "\n",
       "mpl.mpl_figure_comm = function(comm, msg) {\n",
       "    // This is the function which gets called when the mpl process\n",
       "    // starts-up an IPython Comm through the \"matplotlib\" channel.\n",
       "\n",
       "    var id = msg.content.data.id;\n",
       "    // Get hold of the div created by the display call when the Comm\n",
       "    // socket was opened in Python.\n",
       "    var element = $(\"#\" + id);\n",
       "    var ws_proxy = comm_websocket_adapter(comm)\n",
       "\n",
       "    function ondownload(figure, format) {\n",
       "        window.open(figure.imageObj.src);\n",
       "    }\n",
       "\n",
       "    var fig = new mpl.figure(id, ws_proxy,\n",
       "                           ondownload,\n",
       "                           element.get(0));\n",
       "\n",
       "    // Call onopen now - mpl needs it, as it is assuming we've passed it a real\n",
       "    // web socket which is closed, not our websocket->open comm proxy.\n",
       "    ws_proxy.onopen();\n",
       "\n",
       "    fig.parent_element = element.get(0);\n",
       "    fig.cell_info = mpl.find_output_cell(\"<div id='\" + id + \"'></div>\");\n",
       "    if (!fig.cell_info) {\n",
       "        console.error(\"Failed to find cell for figure\", id, fig);\n",
       "        return;\n",
       "    }\n",
       "\n",
       "    var output_index = fig.cell_info[2]\n",
       "    var cell = fig.cell_info[0];\n",
       "\n",
       "};\n",
       "\n",
       "mpl.figure.prototype.handle_close = function(fig, msg) {\n",
       "    var width = fig.canvas.width/mpl.ratio\n",
       "    fig.root.unbind('remove')\n",
       "\n",
       "    // Update the output cell to use the data from the current canvas.\n",
       "    fig.push_to_output();\n",
       "    var dataURL = fig.canvas.toDataURL();\n",
       "    // Re-enable the keyboard manager in IPython - without this line, in FF,\n",
       "    // the notebook keyboard shortcuts fail.\n",
       "    IPython.keyboard_manager.enable()\n",
       "    $(fig.parent_element).html('<img src=\"' + dataURL + '\" width=\"' + width + '\">');\n",
       "    fig.close_ws(fig, msg);\n",
       "}\n",
       "\n",
       "mpl.figure.prototype.close_ws = function(fig, msg){\n",
       "    fig.send_message('closing', msg);\n",
       "    // fig.ws.close()\n",
       "}\n",
       "\n",
       "mpl.figure.prototype.push_to_output = function(remove_interactive) {\n",
       "    // Turn the data on the canvas into data in the output cell.\n",
       "    var width = this.canvas.width/mpl.ratio\n",
       "    var dataURL = this.canvas.toDataURL();\n",
       "    this.cell_info[1]['text/html'] = '<img src=\"' + dataURL + '\" width=\"' + width + '\">';\n",
       "}\n",
       "\n",
       "mpl.figure.prototype.updated_canvas_event = function() {\n",
       "    // Tell IPython that the notebook contents must change.\n",
       "    IPython.notebook.set_dirty(true);\n",
       "    this.send_message(\"ack\", {});\n",
       "    var fig = this;\n",
       "    // Wait a second, then push the new image to the DOM so\n",
       "    // that it is saved nicely (might be nice to debounce this).\n",
       "    setTimeout(function () { fig.push_to_output() }, 1000);\n",
       "}\n",
       "\n",
       "mpl.figure.prototype._init_toolbar = function() {\n",
       "    var fig = this;\n",
       "\n",
       "    var nav_element = $('<div/>');\n",
       "    nav_element.attr('style', 'width: 100%');\n",
       "    this.root.append(nav_element);\n",
       "\n",
       "    // Define a callback function for later on.\n",
       "    function toolbar_event(event) {\n",
       "        return fig.toolbar_button_onclick(event['data']);\n",
       "    }\n",
       "    function toolbar_mouse_event(event) {\n",
       "        return fig.toolbar_button_onmouseover(event['data']);\n",
       "    }\n",
       "\n",
       "    for(var toolbar_ind in mpl.toolbar_items){\n",
       "        var name = mpl.toolbar_items[toolbar_ind][0];\n",
       "        var tooltip = mpl.toolbar_items[toolbar_ind][1];\n",
       "        var image = mpl.toolbar_items[toolbar_ind][2];\n",
       "        var method_name = mpl.toolbar_items[toolbar_ind][3];\n",
       "\n",
       "        if (!name) { continue; };\n",
       "\n",
       "        var button = $('<button class=\"btn btn-default\" href=\"#\" title=\"' + name + '\"><i class=\"fa ' + image + ' fa-lg\"></i></button>');\n",
       "        button.click(method_name, toolbar_event);\n",
       "        button.mouseover(tooltip, toolbar_mouse_event);\n",
       "        nav_element.append(button);\n",
       "    }\n",
       "\n",
       "    // Add the status bar.\n",
       "    var status_bar = $('<span class=\"mpl-message\" style=\"text-align:right; float: right;\"/>');\n",
       "    nav_element.append(status_bar);\n",
       "    this.message = status_bar[0];\n",
       "\n",
       "    // Add the close button to the window.\n",
       "    var buttongrp = $('<div class=\"btn-group inline pull-right\"></div>');\n",
       "    var button = $('<button class=\"btn btn-mini btn-primary\" href=\"#\" title=\"Stop Interaction\"><i class=\"fa fa-power-off icon-remove icon-large\"></i></button>');\n",
       "    button.click(function (evt) { fig.handle_close(fig, {}); } );\n",
       "    button.mouseover('Stop Interaction', toolbar_mouse_event);\n",
       "    buttongrp.append(button);\n",
       "    var titlebar = this.root.find($('.ui-dialog-titlebar'));\n",
       "    titlebar.prepend(buttongrp);\n",
       "}\n",
       "\n",
       "mpl.figure.prototype._root_extra_style = function(el){\n",
       "    var fig = this\n",
       "    el.on(\"remove\", function(){\n",
       "\tfig.close_ws(fig, {});\n",
       "    });\n",
       "}\n",
       "\n",
       "mpl.figure.prototype._canvas_extra_style = function(el){\n",
       "    // this is important to make the div 'focusable\n",
       "    el.attr('tabindex', 0)\n",
       "    // reach out to IPython and tell the keyboard manager to turn it's self\n",
       "    // off when our div gets focus\n",
       "\n",
       "    // location in version 3\n",
       "    if (IPython.notebook.keyboard_manager) {\n",
       "        IPython.notebook.keyboard_manager.register_events(el);\n",
       "    }\n",
       "    else {\n",
       "        // location in version 2\n",
       "        IPython.keyboard_manager.register_events(el);\n",
       "    }\n",
       "\n",
       "}\n",
       "\n",
       "mpl.figure.prototype._key_event_extra = function(event, name) {\n",
       "    var manager = IPython.notebook.keyboard_manager;\n",
       "    if (!manager)\n",
       "        manager = IPython.keyboard_manager;\n",
       "\n",
       "    // Check for shift+enter\n",
       "    if (event.shiftKey && event.which == 13) {\n",
       "        this.canvas_div.blur();\n",
       "        // select the cell after this one\n",
       "        var index = IPython.notebook.find_cell_index(this.cell_info[0]);\n",
       "        IPython.notebook.select(index + 1);\n",
       "    }\n",
       "}\n",
       "\n",
       "mpl.figure.prototype.handle_save = function(fig, msg) {\n",
       "    fig.ondownload(fig, null);\n",
       "}\n",
       "\n",
       "\n",
       "mpl.find_output_cell = function(html_output) {\n",
       "    // Return the cell and output element which can be found *uniquely* in the notebook.\n",
       "    // Note - this is a bit hacky, but it is done because the \"notebook_saving.Notebook\"\n",
       "    // IPython event is triggered only after the cells have been serialised, which for\n",
       "    // our purposes (turning an active figure into a static one), is too late.\n",
       "    var cells = IPython.notebook.get_cells();\n",
       "    var ncells = cells.length;\n",
       "    for (var i=0; i<ncells; i++) {\n",
       "        var cell = cells[i];\n",
       "        if (cell.cell_type === 'code'){\n",
       "            for (var j=0; j<cell.output_area.outputs.length; j++) {\n",
       "                var data = cell.output_area.outputs[j];\n",
       "                if (data.data) {\n",
       "                    // IPython >= 3 moved mimebundle to data attribute of output\n",
       "                    data = data.data;\n",
       "                }\n",
       "                if (data['text/html'] == html_output) {\n",
       "                    return [cell, data, j];\n",
       "                }\n",
       "            }\n",
       "        }\n",
       "    }\n",
       "}\n",
       "\n",
       "// Register the function which deals with the matplotlib target/channel.\n",
       "// The kernel may be null if the page has been refreshed.\n",
       "if (IPython.notebook.kernel != null) {\n",
       "    IPython.notebook.kernel.comm_manager.register_target('matplotlib', mpl.mpl_figure_comm);\n",
       "}\n"
      ],
      "text/plain": [
       "<IPython.core.display.Javascript object>"
      ]
     },
     "metadata": {},
     "output_type": "display_data"
    },
    {
     "data": {
      "text/html": [
       "<img src=\"data:image/png;base64,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\" width=\"999.4166666666666\">"
      ],
      "text/plain": [
       "<IPython.core.display.HTML object>"
      ]
     },
     "metadata": {},
     "output_type": "display_data"
    }
   ],
   "source": [
    "fig = plt.figure(figsize=(10,18))\n",
    "\n",
    "ax1 = fig.add_subplot(321)\n",
    "x = main['B-V']\n",
    "y = main['U-B']\n",
    "ax1.scatter(x, y, c = 'black', s=0.1)\n",
    "ax1.set_title('Sequência principal (MK V)', family='serif', fontsize=10)\n",
    "ax1.set_xlabel('B-V', family='serif', fontsize=10)\n",
    "ax1.set_ylabel('U-B', family='serif', fontsize=10)\n",
    "ax1.set_xlim(-0.5, 2.5)\n",
    "ax1.set_ylim(-1.5, 3)\n",
    "ax1.grid(True, linestyle=':', color='0.50');\n",
    "\n",
    "\n",
    "ax2 = fig.add_subplot(322)\n",
    "x = giantsIV['B-V']\n",
    "y = giantsIV['U-B']\n",
    "ax2.scatter(x, y, c = 'black', s=0.1)\n",
    "ax2.set_title('Subgigantes (MK IV)', family='serif', fontsize=10)\n",
    "ax2.set_xlabel('B-V', family='serif', fontsize=10)\n",
    "ax2.set_ylabel('U-B', family='serif', fontsize=10)\n",
    "ax2.set_xlim(-0.5, 2.5)\n",
    "ax2.set_ylim(-1.5, 3)\n",
    "ax2.grid(True, linestyle=':', color='0.50');\n",
    "\n",
    "\n",
    "ax3 = fig.add_subplot(323)\n",
    "x = giantsIII['B-V']\n",
    "y = giantsIII['U-B']\n",
    "ax3.scatter(x, y, c = 'black', s=0.1)\n",
    "ax3.set_title('Gigantes (MK III)', family='serif', fontsize=10)\n",
    "ax3.set_xlabel('B-V', family='serif', fontsize=10)\n",
    "ax3.set_ylabel('U-B', family='serif', fontsize=10)\n",
    "ax3.set_xlim(-0.5, 2.5)\n",
    "ax3.set_ylim(-1.5, 3)\n",
    "ax3.grid(True, linestyle=':', color='0.50');\n",
    "\n",
    "\n",
    "ax4 = fig.add_subplot(324)\n",
    "x = giantsII['B-V']\n",
    "y = giantsII['U-B']\n",
    "ax4.scatter(x, y, c = 'black', s=0.1)\n",
    "ax4.set_title('Gigantes luminosas (MK II)', family='serif', fontsize=10)\n",
    "ax4.set_xlabel('B-V', family='serif', fontsize=10)\n",
    "ax4.set_ylabel('U-B', family='serif', fontsize=10)\n",
    "ax4.set_xlim(-0.5, 2.5)\n",
    "ax4.set_ylim(-1.5, 3)\n",
    "ax4.grid(True, linestyle=':', color='0.50');\n",
    "\n",
    "\n",
    "ax5 = fig.add_subplot(325)\n",
    "x = giantsI['B-V']\n",
    "y = giantsI['U-B']\n",
    "ax5.scatter(x, y, c = 'black', s=0.1)\n",
    "ax5.set_title('Supergigantes (MK I)', family='serif', fontsize=10)\n",
    "ax5.set_xlabel('B-V', family='serif', fontsize=10)\n",
    "ax5.set_ylabel('U-B', family='serif', fontsize=10)\n",
    "ax5.set_xlim(-0.5, 2.5)\n",
    "ax5.set_ylim(-1.5, 3)\n",
    "ax5.grid(True, linestyle=':', color='0.50');\n",
    "\n",
    "plt.savefig('Diagramas MK V-VI-III-II-I.png')"
   ]
  },
  {
   "cell_type": "markdown",
   "metadata": {
    "slideshow": {
     "slide_type": "subslide"
    }
   },
   "source": [
    "### Referências"
   ]
  },
  {
   "cell_type": "markdown",
   "metadata": {
    "slideshow": {
     "slide_type": "-"
    }
   },
   "source": [
    "[1] *Mark Newman - Computational Physics (2013, University of Michigan)* "
   ]
  },
  {
   "cell_type": "markdown",
   "metadata": {
    "slideshow": {
     "slide_type": "-"
    }
   },
   "source": [
    "[2] *Nicholas J. Giordano; Hisao Nakanishi - Computational Physics (2005, Addison-Wesley,Second Edition)*"
   ]
  },
  {
   "cell_type": "markdown",
   "metadata": {
    "slideshow": {
     "slide_type": "subslide"
    }
   },
   "source": [
    "[3] *A radiação do corpo negro e a radiação cósmica de fundo (CMB)* : https://github.com/GabrielWendell/PET/blob/main/Notebooks/A%20radia%C3%A7%C3%A3o%20do%20corpo%20negro%20e%20a%20radia%C3%A7%C3%A3o%20c%C3%B3smica%20de%20fundo%20(CMB).ipynb"
   ]
  },
  {
   "cell_type": "markdown",
   "metadata": {
    "slideshow": {
     "slide_type": "-"
    }
   },
   "source": [
    "[4] *Bradley W. Carroll; Dale A. Ostile - An Introduction to Modern Astrophysics (2006, Second Edition), sec. 3.6*"
   ]
  },
  {
   "cell_type": "markdown",
   "metadata": {
    "slideshow": {
     "slide_type": "subslide"
    }
   },
   "source": [
    "[5] *Colour of Stars* : https://www.atnf.csiro.au/outreach/education/senior/astrophysics/photometry_colour.html"
   ]
  },
  {
   "cell_type": "markdown",
   "metadata": {
    "slideshow": {
     "slide_type": "-"
    }
   },
   "source": [
    "[6] *Bright Star Catalogue* (BSC) : http://tdc-www.harvard.edu/catalogs/bsc5.html"
   ]
  },
  {
   "cell_type": "markdown",
   "metadata": {
    "slideshow": {
     "slide_type": "subslide"
    }
   },
   "source": [
    "[7] *Star Classification* : https://www.enchantedlearning.com/subjects/astronomy/stars/startypes.shtml "
   ]
  },
  {
   "cell_type": "markdown",
   "metadata": {
    "slideshow": {
     "slide_type": "-"
    }
   },
   "source": [
    "[8] *Robinson, Keith - Starlight : An Introduction to Stellar Physics for Amateurs (2009)*"
   ]
  }
 ],
 "metadata": {
  "kernelspec": {
   "display_name": "Python 3",
   "language": "python",
   "name": "python3"
  },
  "language_info": {
   "codemirror_mode": {
    "name": "ipython",
    "version": 3
   },
   "file_extension": ".py",
   "mimetype": "text/x-python",
   "name": "python",
   "nbconvert_exporter": "python",
   "pygments_lexer": "ipython3",
   "version": "3.7.5"
  }
 },
 "nbformat": 4,
 "nbformat_minor": 2
}
